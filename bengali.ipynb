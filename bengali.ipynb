{
 "cells": [
  {
   "cell_type": "markdown",
   "metadata": {},
   "source": [
    "# SNLP 2021 Final Project\n",
    "\n",
    "Name 1:  Nobel Jacob Varghese\n",
    "<br/>Student id 1:  7002401\n",
    "<br/>Email 1: noja00001@uni-saarland.de\n",
    "\n",
    "\n",
    "Name 2:  Nitish Juttu\n",
    "<br/>Student id 2:  7002402\n",
    "<br/>Email 2: niju00001@uni-saarland.de\n",
    "\n",
    "**Instructions:** Your final submission should contain _a separate Notebook_ (not including our instructions). You may also implement your code in different Python files and show the output in the Notebooks. In this case, make sure you submit your Python files as well. Do not submit the data files and any other debug output. Your submission should have a clear structure and should be easy to follow. Other instructions to follow have been given in detail with the project problem statement. Read them carefully.\n",
    "\n",
    "Upload the zipped folder in Teams. Only one member from the group should make the submission. The deadline for the project submission is August 20th, 2021 (23:59 pm). "
   ]
  },
  {
   "cell_type": "markdown",
   "metadata": {},
   "source": [
    "## **1 Data Preparation**"
   ]
  },
  {
   "cell_type": "code",
   "execution_count": 1,
   "metadata": {},
   "outputs": [
    {
     "data": {
      "text/plain": [
       "298520"
      ]
     },
     "execution_count": 1,
     "metadata": {},
     "output_type": "execute_result"
    }
   ],
   "source": [
    "import re\n",
    "import nltk\n",
    "import string \n",
    "import os\n",
    "import math\n",
    "\n",
    "file_bengali = open(\"data/bengali_corpus.txt\", \"r\" , encoding=\"utf8\")\n",
    "bengali_read_data=file_bengali.read()\n",
    "string_without_punctuations_bengali= re.split(\"[;,|?!]\", bengali_read_data)\n",
    "string_without_punctuations_bengali= \".\".join(string_without_punctuations_bengali)\n",
    "string_without_punctuations_bengali = re.sub(r'\\.+', \".\", string_without_punctuations_bengali)\n",
    "\n",
    " \n",
    "bengali_total_length=len(string_without_punctuations_bengali)\n",
    "bengali_train_size=math.floor(0.8*bengali_total_length)\n",
    "bengali_test_size=math.ceil(0.2*bengali_total_length)\n",
    "\n",
    " \n",
    "\n",
    "file_bengali = open('train_file_bengali.txt', 'w' , encoding=\"utf8\")\n",
    "file2_bengali = open('test_file_bengali.txt', 'w' , encoding=\"utf8\")\n",
    "file_bengali.write(string_without_punctuations_bengali[0:bengali_train_size])\n",
    "file2_bengali.write(string_without_punctuations_bengali[bengali_train_size:bengali_total_length])"
   ]
  },
  {
   "cell_type": "markdown",
   "metadata": {},
   "source": [
    "## **2 Subword Segmentation**\n"
   ]
  },
  {
   "cell_type": "code",
   "execution_count": 2,
   "metadata": {},
   "outputs": [
    {
     "name": "stdout",
     "output_type": "stream",
     "text": [
      "sentencepiece_trainer.cc(77) LOG(INFO) Starts training with : \n",
      "trainer_spec {\n",
      "  input: train_file_bengali.txt\n",
      "  input_format: \n",
      "  model_prefix: model_prefix_bengali\n",
      "  model_type: BPE\n",
      "  vocab_size: 1000\n",
      "  self_test_sample_size: 0\n",
      "  character_coverage: 1\n",
      "  input_sentence_size: 0\n",
      "  shuffle_input_sentence: 1\n",
      "  seed_sentencepiece_size: 1000000\n",
      "  shrinking_factor: 0.75\n",
      "  max_sentence_length: 4192\n",
      "  num_threads: 16\n",
      "  num_sub_iterations: 2\n",
      "  max_sentencepiece_length: 16\n",
      "  split_by_unicode_script: 1\n",
      "  split_by_number: 1\n",
      "  split_by_whitespace: 1\n",
      "  split_digits: 0\n",
      "  treat_whitespace_as_suffix: 0\n",
      "  allow_whitespace_only_pieces: 0\n",
      "  required_chars: \n",
      "  byte_fallback: 0\n",
      "  vocabulary_output_piece_score: 1\n",
      "  train_extremely_large_corpus: 0\n",
      "  hard_vocab_limit: 1\n",
      "  use_all_vocab: 0\n",
      "  unk_id: 0\n",
      "  bos_id: 1\n",
      "  eos_id: 2\n",
      "  pad_id: -1\n",
      "  unk_piece: <unk>\n",
      "  bos_piece: <s>\n",
      "  eos_piece: </s>\n",
      "  pad_piece: <pad>\n",
      "  unk_surface:  ⁇ \n",
      "}\n",
      "normalizer_spec {\n",
      "  name: nmt_nfkc\n",
      "  add_dummy_prefix: 1\n",
      "  remove_extra_whitespaces: 1\n",
      "  escape_whitespaces: 1\n",
      "  normalization_rule_tsv: \n",
      "}\n",
      "denormalizer_spec {}\n",
      "trainer_interface.cc(329) LOG(INFO) SentenceIterator is not specified. Using MultiFileSentenceIterator.\n",
      "trainer_interface.cc(178) LOG(INFO) Loading corpus: train_file_bengali.txt\n",
      "trainer_interface.cc(356) LOG(WARNING) Found too long line (23490 > 4192).\n",
      "trainer_interface.cc(358) LOG(WARNING) Too long lines are skipped in the training.\n",
      "trainer_interface.cc(359) LOG(WARNING) The maximum length can be changed with --max_sentence_length=<size> flag.\n",
      "trainer_interface.cc(385) LOG(INFO) Loaded all 2 sentences\n",
      "trainer_interface.cc(391) LOG(INFO) Skipped 20 too long sentences.\n",
      "trainer_interface.cc(400) LOG(INFO) Adding meta_piece: <unk>\n",
      "trainer_interface.cc(400) LOG(INFO) Adding meta_piece: <s>\n",
      "trainer_interface.cc(400) LOG(INFO) Adding meta_piece: </s>\n",
      "trainer_interface.cc(405) LOG(INFO) Normalizing sentences...\n",
      "trainer_interface.cc(466) LOG(INFO) all chars count=2761\n",
      "trainer_interface.cc(487) LOG(INFO) Alphabet size=50\n",
      "trainer_interface.cc(488) LOG(INFO) Final character coverage=1\n",
      "trainer_interface.cc(520) LOG(INFO) Done! preprocessed 2 sentences.\n",
      "trainer_interface.cc(526) LOG(INFO) Tokenizing input sentences with whitespace: 2\n",
      "trainer_interface.cc(537) LOG(INFO) Done! 333\n",
      "bpe_model_trainer.cc(167) LOG(INFO) Updating active symbols. max_freq=59 min_freq=1\n",
      "bpe_model_trainer.cc(258) LOG(INFO) Added: freq=16 size=20 all=691 active=641 piece=লা\n",
      "bpe_model_trainer.cc(258) LOG(INFO) Added: freq=11 size=40 all=821 active=771 piece=▁ভ\n",
      "bpe_model_trainer.cc(258) LOG(INFO) Added: freq=7 size=60 all=913 active=863 piece=্র\n",
      "bpe_model_trainer.cc(258) LOG(INFO) Added: freq=5 size=80 all=976 active=926 piece=নে\n",
      "bpe_model_trainer.cc(258) LOG(INFO) Added: freq=4 size=100 all=1030 active=980 piece=তা\n",
      "bpe_model_trainer.cc(167) LOG(INFO) Updating active symbols. max_freq=4 min_freq=0\n",
      "bpe_model_trainer.cc(258) LOG(INFO) Added: freq=4 size=120 all=1072 active=1022 piece=▁কিছু\n",
      "bpe_model_trainer.cc(258) LOG(INFO) Added: freq=3 size=140 all=1094 active=1044 piece=দেশ\n",
      "bpe_model_trainer.cc(258) LOG(INFO) Added: freq=3 size=160 all=1131 active=1081 piece=▁করে\n",
      "bpe_model_trainer.cc(258) LOG(INFO) Added: freq=2 size=180 all=1142 active=1092 piece=ক্\n",
      "bpe_model_trainer.cc(258) LOG(INFO) Added: freq=2 size=200 all=1176 active=1126 piece=▁ফ\n",
      "bpe_model_trainer.cc(167) LOG(INFO) Updating active symbols. max_freq=2 min_freq=0\n",
      "bpe_model_trainer.cc(258) LOG(INFO) Added: freq=2 size=220 all=1194 active=1017 piece=েরা\n",
      "bpe_model_trainer.cc(258) LOG(INFO) Added: freq=2 size=240 all=1208 active=1031 piece=াদার\n",
      "bpe_model_trainer.cc(258) LOG(INFO) Added: freq=2 size=260 all=1223 active=1046 piece=▁হবি\n",
      "bpe_model_trainer.cc(258) LOG(INFO) Added: freq=2 size=280 all=1215 active=1038 piece=▁বেটা\n",
      "bpe_model_trainer.cc(258) LOG(INFO) Added: freq=2 size=300 all=1208 active=1031 piece=▁সাকিবের\n",
      "bpe_model_trainer.cc(167) LOG(INFO) Updating active symbols. max_freq=2 min_freq=0\n",
      "bpe_model_trainer.cc(258) LOG(INFO) Added: freq=1 size=320 all=1212 active=1005 piece=ডু\n",
      "bpe_model_trainer.cc(258) LOG(INFO) Added: freq=1 size=340 all=1219 active=1012 piece=সল\n",
      "bpe_model_trainer.cc(258) LOG(INFO) Added: freq=1 size=360 all=1226 active=1019 piece=আমি\n",
      "bpe_model_trainer.cc(258) LOG(INFO) Added: freq=1 size=380 all=1238 active=1031 piece=টেল\n",
      "bpe_model_trainer.cc(258) LOG(INFO) Added: freq=1 size=400 all=1243 active=1036 piece=ল্ল\n",
      "bpe_model_trainer.cc(167) LOG(INFO) Updating active symbols. max_freq=1 min_freq=0\n",
      "bpe_model_trainer.cc(258) LOG(INFO) Added: freq=1 size=420 all=1250 active=1006 piece=েগো\n",
      "bpe_model_trainer.cc(258) LOG(INFO) Added: freq=1 size=440 all=1245 active=1001 piece=▁হও\n",
      "bpe_model_trainer.cc(258) LOG(INFO) Added: freq=1 size=460 all=1246 active=1002 piece=মজাদ\n",
      "bpe_model_trainer.cc(258) LOG(INFO) Added: freq=1 size=480 all=1249 active=1005 piece=িন্ত\n",
      "bpe_model_trainer.cc(258) LOG(INFO) Added: freq=1 size=500 all=1248 active=1004 piece=▁এতে\n",
      "bpe_model_trainer.cc(167) LOG(INFO) Updating active symbols. max_freq=1 min_freq=0\n",
      "bpe_model_trainer.cc(258) LOG(INFO) Added: freq=1 size=520 all=1238 active=991 piece=▁বড়\n",
      "bpe_model_trainer.cc(258) LOG(INFO) Added: freq=1 size=540 all=1221 active=974 piece=▁হোক\n",
      "bpe_model_trainer.cc(258) LOG(INFO) Added: freq=1 size=560 all=1222 active=975 piece=ালেরও\n",
      "bpe_model_trainer.cc(258) LOG(INFO) Added: freq=1 size=580 all=1210 active=963 piece=▁কেমন\n",
      "bpe_model_trainer.cc(258) LOG(INFO) Added: freq=1 size=600 all=1194 active=947 piece=▁দেয়\n",
      "bpe_model_trainer.cc(167) LOG(INFO) Updating active symbols. max_freq=1 min_freq=0\n",
      "bpe_model_trainer.cc(258) LOG(INFO) Added: freq=1 size=620 all=1179 active=986 piece=▁সমান\n",
      "bpe_model_trainer.cc(258) LOG(INFO) Added: freq=1 size=640 all=1174 active=981 piece=▁এডমিন\n",
      "bpe_model_trainer.cc(258) LOG(INFO) Added: freq=1 size=660 all=1156 active=963 piece=▁তাহলে\n",
      "bpe_model_trainer.cc(258) LOG(INFO) Added: freq=1 size=680 all=1142 active=949 piece=▁মাইরে\n",
      "bpe_model_trainer.cc(258) LOG(INFO) Added: freq=1 size=700 all=1129 active=936 piece=▁আপনারা\n",
      "bpe_model_trainer.cc(167) LOG(INFO) Updating active symbols. max_freq=1 min_freq=0\n",
      "bpe_model_trainer.cc(258) LOG(INFO) Added: freq=1 size=720 all=1111 active=983 piece=▁পাপনের\n",
      "bpe_model_trainer.cc(258) LOG(INFO) Added: freq=1 size=740 all=1096 active=968 piece=▁কমেন্টএ\n",
      "bpe_model_trainer.cc(258) LOG(INFO) Added: freq=1 size=760 all=1076 active=948 piece=▁মাঘীবাজ\n",
      "bpe_model_trainer.cc(258) LOG(INFO) Added: freq=1 size=780 all=1059 active=931 piece=▁বাচ্চাটা\n",
      "bpe_model_trainer.cc(258) LOG(INFO) Added: freq=1 size=800 all=1039 active=911 piece=দূর্নীতিবাজ\n",
      "bpe_model_trainer.cc(167) LOG(INFO) Updating active symbols. max_freq=1 min_freq=0\n",
      "bpe_model_trainer.cc(258) LOG(INFO) Added: freq=1 size=820 all=1019 active=969 piece=▁টাইটেলপাপনকে\n",
      "bpe_model_trainer.cc(258) LOG(INFO) Added: freq=0 size=840 all=999 active=949 piece=ইএ\n",
      "bpe_model_trainer.cc(258) LOG(INFO) Added: freq=0 size=860 all=979 active=929 piece=এস\n",
      "bpe_model_trainer.cc(258) LOG(INFO) Added: freq=0 size=880 all=959 active=909 piece=গর\n",
      "bpe_model_trainer.cc(258) LOG(INFO) Added: freq=0 size=900 all=939 active=889 piece=ট্\n",
      "bpe_model_trainer.cc(167) LOG(INFO) Updating active symbols. max_freq=0 min_freq=0\n",
      "bpe_model_trainer.cc(258) LOG(INFO) Added: freq=0 size=920 all=919 active=869 piece=নচ\n",
      "bpe_model_trainer.cc(258) LOG(INFO) Added: freq=0 size=940 all=899 active=849 piece=ফ্\n",
      "trainer_interface.cc(615) LOG(INFO) Saving model: model_prefix_bengali.model\n",
      "trainer_interface.cc(626) LOG(INFO) Saving vocabs: model_prefix_bengali.vocab\n"
     ]
    }
   ],
   "source": [
    "#2.2\n",
    "\n",
    "\n",
    "!spm_train \\\n",
    "  --input=train_file_bengali.txt \\\n",
    "  --model_prefix=model_prefix_bengali \\\n",
    "  --vocab_size=1000 \\\n",
    "  --character_coverage=1.0 \\\n",
    "  --model_type=bpe"
   ]
  },
  {
   "cell_type": "code",
   "execution_count": 3,
   "metadata": {},
   "outputs": [],
   "source": [
    "!spm_encode \\\n",
    "  --model=model_prefix_bengali.model \\\n",
    "  --output_format=piece \\\n",
    "  < train_file_bengali.txt \\\n",
    "  > segmented_bengali.txt"
   ]
  },
  {
   "cell_type": "code",
   "execution_count": 4,
   "metadata": {},
   "outputs": [],
   "source": [
    "!spm_decode \\\n",
    "  --model=model_prefix_bengali.model \\\n",
    "  --input_format=piece \\\n",
    "  < segmented_bengali.txt \\\n",
    "  > original_bengali.txt\n"
   ]
  },
  {
   "cell_type": "code",
   "execution_count": 5,
   "metadata": {},
   "outputs": [
    {
     "name": "stdout",
     "output_type": "stream",
     "text": [
      "/home/snlp-project-21/SNLP_2021_Final_Project_r1\n",
      "bengali.ipynb\t\t    model_prefix_bengali.vocab\tsegmented_bengali.txt\n",
      "data\t\t\t    original_bengali.txt\ttest_file_bengali.txt\n",
      "model_prefix_bengali.model  project_bengali\t\ttrain_file_bengali.txt\n"
     ]
    }
   ],
   "source": [
    "!pwd\n",
    "!ls "
   ]
  },
  {
   "cell_type": "code",
   "execution_count": 2,
   "metadata": {},
   "outputs": [
    {
     "name": "stdout",
     "output_type": "stream",
     "text": [
      "Current working directory: /home/snlp-project-21/SNLP_2021_Final_Project_r1\n",
      "mkdir: cannot create directory ‘project_bengali’: File exists\n",
      "/home/snlp-project-21/SNLP_2021_Final_Project_r1/project_bengali\n"
     ]
    }
   ],
   "source": [
    "import os\n",
    "cwd = os.getcwd()\n",
    "print(\"Current working directory: {0}\".format(cwd)) \n",
    "!mkdir project_bengali\n",
    "!cp train_file_bengali.txt project_bengali\n",
    "!cp test_file_bengali.txt project_bengali\n",
    "%cd project_bengali"
   ]
  },
  {
   "cell_type": "markdown",
   "metadata": {},
   "source": [
    "## **2.3 Subword Segmentation**"
   ]
  },
  {
   "cell_type": "code",
   "execution_count": 7,
   "metadata": {},
   "outputs": [
    {
     "name": "stdout",
     "output_type": "stream",
     "text": [
      "sentencepiece_trainer.cc(77) LOG(INFO) Starts training with : \n",
      "trainer_spec {\n",
      "  input: train_file_bengali.txt\n",
      "  input_format: \n",
      "  model_prefix: model_bengali_characters\n",
      "  model_type: BPE\n",
      "  vocab_size: 85\n",
      "  self_test_sample_size: 0\n",
      "  character_coverage: 0.995\n",
      "  input_sentence_size: 0\n",
      "  shuffle_input_sentence: 1\n",
      "  seed_sentencepiece_size: 1000000\n",
      "  shrinking_factor: 0.75\n",
      "  max_sentence_length: 4192\n",
      "  num_threads: 16\n",
      "  num_sub_iterations: 2\n",
      "  max_sentencepiece_length: 16\n",
      "  split_by_unicode_script: 1\n",
      "  split_by_number: 1\n",
      "  split_by_whitespace: 1\n",
      "  split_digits: 0\n",
      "  treat_whitespace_as_suffix: 0\n",
      "  allow_whitespace_only_pieces: 0\n",
      "  required_chars: \n",
      "  byte_fallback: 0\n",
      "  vocabulary_output_piece_score: 1\n",
      "  train_extremely_large_corpus: 0\n",
      "  hard_vocab_limit: 1\n",
      "  use_all_vocab: 0\n",
      "  unk_id: 0\n",
      "  bos_id: 1\n",
      "  eos_id: 2\n",
      "  pad_id: -1\n",
      "  unk_piece: <unk>\n",
      "  bos_piece: <s>\n",
      "  eos_piece: </s>\n",
      "  pad_piece: <pad>\n",
      "  unk_surface:  ⁇ \n",
      "}\n",
      "normalizer_spec {\n",
      "  name: nmt_nfkc\n",
      "  add_dummy_prefix: 1\n",
      "  remove_extra_whitespaces: 1\n",
      "  escape_whitespaces: 1\n",
      "  normalization_rule_tsv: \n",
      "}\n",
      "denormalizer_spec {}\n",
      "trainer_interface.cc(329) LOG(INFO) SentenceIterator is not specified. Using MultiFileSentenceIterator.\n",
      "trainer_interface.cc(178) LOG(INFO) Loading corpus: train_file_bengali.txt\n",
      "trainer_interface.cc(356) LOG(WARNING) Found too long line (23490 > 4192).\n",
      "trainer_interface.cc(358) LOG(WARNING) Too long lines are skipped in the training.\n",
      "trainer_interface.cc(359) LOG(WARNING) The maximum length can be changed with --max_sentence_length=<size> flag.\n",
      "trainer_interface.cc(385) LOG(INFO) Loaded all 2 sentences\n",
      "trainer_interface.cc(391) LOG(INFO) Skipped 20 too long sentences.\n",
      "trainer_interface.cc(400) LOG(INFO) Adding meta_piece: <unk>\n",
      "trainer_interface.cc(400) LOG(INFO) Adding meta_piece: <s>\n",
      "trainer_interface.cc(400) LOG(INFO) Adding meta_piece: </s>\n",
      "trainer_interface.cc(405) LOG(INFO) Normalizing sentences...\n",
      "trainer_interface.cc(466) LOG(INFO) all chars count=2761\n",
      "trainer_interface.cc(477) LOG(INFO) Done: 99.5654% characters are covered.\n",
      "trainer_interface.cc(487) LOG(INFO) Alphabet size=44\n",
      "trainer_interface.cc(488) LOG(INFO) Final character coverage=0.995654\n",
      "trainer_interface.cc(520) LOG(INFO) Done! preprocessed 2 sentences.\n",
      "trainer_interface.cc(526) LOG(INFO) Tokenizing input sentences with whitespace: 2\n",
      "trainer_interface.cc(537) LOG(INFO) Done! 333\n",
      "bpe_model_trainer.cc(167) LOG(INFO) Updating active symbols. max_freq=59 min_freq=1\n",
      "bpe_model_trainer.cc(258) LOG(INFO) Added: freq=16 size=20 all=667 active=622 piece=লা\n",
      "trainer_interface.cc(615) LOG(INFO) Saving model: model_bengali_characters.model\n",
      "trainer_interface.cc(626) LOG(INFO) Saving vocabs: model_bengali_characters.vocab\n",
      "sentencepiece_trainer.cc(77) LOG(INFO) Starts training with : \n",
      "trainer_spec {\n",
      "  input: train_file_bengali.txt\n",
      "  input_format: \n",
      "  model_prefix: model_bengali_subwords_sm\n",
      "  model_type: BPE\n",
      "  vocab_size: 800\n",
      "  self_test_sample_size: 0\n",
      "  character_coverage: 0.995\n",
      "  input_sentence_size: 0\n",
      "  shuffle_input_sentence: 1\n",
      "  seed_sentencepiece_size: 1000000\n",
      "  shrinking_factor: 0.75\n",
      "  max_sentence_length: 4192\n",
      "  num_threads: 16\n",
      "  num_sub_iterations: 2\n",
      "  max_sentencepiece_length: 16\n",
      "  split_by_unicode_script: 1\n",
      "  split_by_number: 1\n",
      "  split_by_whitespace: 1\n",
      "  split_digits: 0\n",
      "  treat_whitespace_as_suffix: 0\n",
      "  allow_whitespace_only_pieces: 0\n",
      "  required_chars: \n",
      "  byte_fallback: 0\n",
      "  vocabulary_output_piece_score: 1\n",
      "  train_extremely_large_corpus: 0\n",
      "  hard_vocab_limit: 1\n",
      "  use_all_vocab: 0\n",
      "  unk_id: 0\n",
      "  bos_id: 1\n",
      "  eos_id: 2\n",
      "  pad_id: -1\n",
      "  unk_piece: <unk>\n",
      "  bos_piece: <s>\n",
      "  eos_piece: </s>\n",
      "  pad_piece: <pad>\n",
      "  unk_surface:  ⁇ \n",
      "}\n",
      "normalizer_spec {\n",
      "  name: nmt_nfkc\n",
      "  add_dummy_prefix: 1\n",
      "  remove_extra_whitespaces: 1\n",
      "  escape_whitespaces: 1\n",
      "  normalization_rule_tsv: \n",
      "}\n",
      "denormalizer_spec {}\n",
      "trainer_interface.cc(329) LOG(INFO) SentenceIterator is not specified. Using MultiFileSentenceIterator.\n",
      "trainer_interface.cc(178) LOG(INFO) Loading corpus: train_file_bengali.txt\n",
      "trainer_interface.cc(356) LOG(WARNING) Found too long line (23490 > 4192).\n",
      "trainer_interface.cc(358) LOG(WARNING) Too long lines are skipped in the training.\n",
      "trainer_interface.cc(359) LOG(WARNING) The maximum length can be changed with --max_sentence_length=<size> flag.\n",
      "trainer_interface.cc(385) LOG(INFO) Loaded all 2 sentences\n",
      "trainer_interface.cc(391) LOG(INFO) Skipped 20 too long sentences.\n",
      "trainer_interface.cc(400) LOG(INFO) Adding meta_piece: <unk>\n",
      "trainer_interface.cc(400) LOG(INFO) Adding meta_piece: <s>\n",
      "trainer_interface.cc(400) LOG(INFO) Adding meta_piece: </s>\n",
      "trainer_interface.cc(405) LOG(INFO) Normalizing sentences...\n",
      "trainer_interface.cc(466) LOG(INFO) all chars count=2761\n",
      "trainer_interface.cc(477) LOG(INFO) Done: 99.5654% characters are covered.\n",
      "trainer_interface.cc(487) LOG(INFO) Alphabet size=44\n",
      "trainer_interface.cc(488) LOG(INFO) Final character coverage=0.995654\n",
      "trainer_interface.cc(520) LOG(INFO) Done! preprocessed 2 sentences.\n",
      "trainer_interface.cc(526) LOG(INFO) Tokenizing input sentences with whitespace: 2\n",
      "trainer_interface.cc(537) LOG(INFO) Done! 333\n",
      "bpe_model_trainer.cc(167) LOG(INFO) Updating active symbols. max_freq=59 min_freq=1\n",
      "bpe_model_trainer.cc(258) LOG(INFO) Added: freq=16 size=20 all=667 active=622 piece=লা\n",
      "bpe_model_trainer.cc(258) LOG(INFO) Added: freq=11 size=40 all=794 active=749 piece=▁ভ\n",
      "bpe_model_trainer.cc(258) LOG(INFO) Added: freq=7 size=60 all=886 active=841 piece=্র\n",
      "bpe_model_trainer.cc(258) LOG(INFO) Added: freq=5 size=80 all=948 active=903 piece=নে\n",
      "bpe_model_trainer.cc(258) LOG(INFO) Added: freq=4 size=100 all=1002 active=957 piece=তা\n",
      "bpe_model_trainer.cc(167) LOG(INFO) Updating active symbols. max_freq=4 min_freq=0\n",
      "bpe_model_trainer.cc(258) LOG(INFO) Added: freq=4 size=120 all=1044 active=999 piece=▁কিছু\n",
      "bpe_model_trainer.cc(258) LOG(INFO) Added: freq=3 size=140 all=1066 active=1021 piece=দেশ\n",
      "bpe_model_trainer.cc(258) LOG(INFO) Added: freq=3 size=160 all=1103 active=1058 piece=▁করে\n",
      "bpe_model_trainer.cc(258) LOG(INFO) Added: freq=2 size=180 all=1114 active=1069 piece=ক্\n",
      "bpe_model_trainer.cc(258) LOG(INFO) Added: freq=2 size=200 all=1148 active=1103 piece=কির\n",
      "bpe_model_trainer.cc(167) LOG(INFO) Updating active symbols. max_freq=2 min_freq=0\n",
      "bpe_model_trainer.cc(258) LOG(INFO) Added: freq=2 size=220 all=1165 active=1015 piece=্লা\n",
      "bpe_model_trainer.cc(258) LOG(INFO) Added: freq=2 size=240 all=1182 active=1032 piece=িবাজ\n",
      "bpe_model_trainer.cc(258) LOG(INFO) Added: freq=2 size=260 all=1190 active=1040 piece=গালাজ\n",
      "bpe_model_trainer.cc(258) LOG(INFO) Added: freq=2 size=280 all=1182 active=1032 piece=▁হালা\n",
      "bpe_model_trainer.cc(258) LOG(INFO) Added: freq=1 size=300 all=1174 active=1024 piece=ংগ\n",
      "bpe_model_trainer.cc(167) LOG(INFO) Updating active symbols. max_freq=1 min_freq=0\n",
      "bpe_model_trainer.cc(258) LOG(INFO) Added: freq=1 size=320 all=1181 active=1006 piece=থি\n",
      "bpe_model_trainer.cc(258) LOG(INFO) Added: freq=1 size=340 all=1189 active=1014 piece=াত\n",
      "bpe_model_trainer.cc(258) LOG(INFO) Added: freq=1 size=360 all=1194 active=1019 piece=কার\n",
      "bpe_model_trainer.cc(258) LOG(INFO) Added: freq=1 size=380 all=1205 active=1030 piece=দূর\n",
      "bpe_model_trainer.cc(258) LOG(INFO) Added: freq=1 size=400 all=1211 active=1036 piece=হির\n",
      "bpe_model_trainer.cc(167) LOG(INFO) Updating active symbols. max_freq=1 min_freq=0\n",
      "bpe_model_trainer.cc(258) LOG(INFO) Added: freq=1 size=420 all=1215 active=1004 piece=্লে\n",
      "bpe_model_trainer.cc(258) LOG(INFO) Added: freq=1 size=440 all=1207 active=996 piece=কট্য\n",
      "bpe_model_trainer.cc(258) LOG(INFO) Added: freq=1 size=460 all=1211 active=1000 piece=লাএই\n",
      "bpe_model_trainer.cc(258) LOG(INFO) Added: freq=1 size=480 all=1214 active=1003 piece=োগ্য\n",
      "bpe_model_trainer.cc(258) LOG(INFO) Added: freq=1 size=500 all=1205 active=994 piece=▁ছাই\n",
      "bpe_model_trainer.cc(167) LOG(INFO) Updating active symbols. max_freq=1 min_freq=0\n",
      "bpe_model_trainer.cc(258) LOG(INFO) Added: freq=1 size=520 all=1194 active=989 piece=▁মতএ\n",
      "bpe_model_trainer.cc(258) LOG(INFO) Added: freq=1 size=540 all=1182 active=977 piece=জেদের\n",
      "bpe_model_trainer.cc(258) LOG(INFO) Added: freq=1 size=560 all=1182 active=977 piece=▁অক্স\n",
      "bpe_model_trainer.cc(258) LOG(INFO) Added: freq=1 size=580 all=1165 active=960 piece=▁ছাগল\n",
      "bpe_model_trainer.cc(258) LOG(INFO) Added: freq=1 size=600 all=1148 active=943 piece=▁প্লে\n",
      "bpe_model_trainer.cc(167) LOG(INFO) Updating active symbols. max_freq=1 min_freq=0\n",
      "bpe_model_trainer.cc(258) LOG(INFO) Added: freq=1 size=620 all=1137 active=989 piece=জাইল্ল\n",
      "bpe_model_trainer.cc(258) LOG(INFO) Added: freq=1 size=640 all=1127 active=979 piece=▁খারাপ\n",
      "bpe_model_trainer.cc(258) LOG(INFO) Added: freq=1 size=660 all=1109 active=961 piece=▁পুতসা\n",
      "bpe_model_trainer.cc(258) LOG(INFO) Added: freq=1 size=680 all=1095 active=947 piece=▁হইছোস\n",
      "bpe_model_trainer.cc(258) LOG(INFO) Added: freq=1 size=700 all=1082 active=934 piece=▁টাইটেল\n",
      "bpe_model_trainer.cc(167) LOG(INFO) Updating active symbols. max_freq=1 min_freq=0\n",
      "bpe_model_trainer.cc(258) LOG(INFO) Added: freq=1 size=720 all=1063 active=981 piece=▁শয়তান\n",
      "bpe_model_trainer.cc(258) LOG(INFO) Added: freq=1 size=740 all=1048 active=966 piece=▁নাইপাপন\n"
     ]
    },
    {
     "name": "stdout",
     "output_type": "stream",
     "text": [
      "trainer_interface.cc(615) LOG(INFO) Saving model: model_bengali_subwords_sm.model\n",
      "trainer_interface.cc(626) LOG(INFO) Saving vocabs: model_bengali_subwords_sm.vocab\n",
      "sentencepiece_trainer.cc(77) LOG(INFO) Starts training with : \n",
      "trainer_spec {\n",
      "  input: train_file_bengali.txt\n",
      "  input_format: \n",
      "  model_prefix: model_bengali_subwords_lg\n",
      "  model_type: BPE\n",
      "  vocab_size: 1600\n",
      "  self_test_sample_size: 0\n",
      "  character_coverage: 0.995\n",
      "  input_sentence_size: 0\n",
      "  shuffle_input_sentence: 1\n",
      "  seed_sentencepiece_size: 1000000\n",
      "  shrinking_factor: 0.75\n",
      "  max_sentence_length: 4192\n",
      "  num_threads: 16\n",
      "  num_sub_iterations: 2\n",
      "  max_sentencepiece_length: 16\n",
      "  split_by_unicode_script: 1\n",
      "  split_by_number: 1\n",
      "  split_by_whitespace: 1\n",
      "  split_digits: 0\n",
      "  treat_whitespace_as_suffix: 0\n",
      "  allow_whitespace_only_pieces: 0\n",
      "  required_chars: \n",
      "  byte_fallback: 0\n",
      "  vocabulary_output_piece_score: 1\n",
      "  train_extremely_large_corpus: 0\n",
      "  hard_vocab_limit: 1\n",
      "  use_all_vocab: 0\n",
      "  unk_id: 0\n",
      "  bos_id: 1\n",
      "  eos_id: 2\n",
      "  pad_id: -1\n",
      "  unk_piece: <unk>\n",
      "  bos_piece: <s>\n",
      "  eos_piece: </s>\n",
      "  pad_piece: <pad>\n",
      "  unk_surface:  ⁇ \n",
      "}\n",
      "normalizer_spec {\n",
      "  name: nmt_nfkc\n",
      "  add_dummy_prefix: 1\n",
      "  remove_extra_whitespaces: 1\n",
      "  escape_whitespaces: 1\n",
      "  normalization_rule_tsv: \n",
      "}\n",
      "denormalizer_spec {}\n",
      "trainer_interface.cc(329) LOG(INFO) SentenceIterator is not specified. Using MultiFileSentenceIterator.\n",
      "trainer_interface.cc(178) LOG(INFO) Loading corpus: train_file_bengali.txt\n",
      "trainer_interface.cc(356) LOG(WARNING) Found too long line (23490 > 4192).\n",
      "trainer_interface.cc(358) LOG(WARNING) Too long lines are skipped in the training.\n",
      "trainer_interface.cc(359) LOG(WARNING) The maximum length can be changed with --max_sentence_length=<size> flag.\n",
      "trainer_interface.cc(385) LOG(INFO) Loaded all 2 sentences\n",
      "trainer_interface.cc(391) LOG(INFO) Skipped 20 too long sentences.\n",
      "trainer_interface.cc(400) LOG(INFO) Adding meta_piece: <unk>\n",
      "trainer_interface.cc(400) LOG(INFO) Adding meta_piece: <s>\n",
      "trainer_interface.cc(400) LOG(INFO) Adding meta_piece: </s>\n",
      "trainer_interface.cc(405) LOG(INFO) Normalizing sentences...\n",
      "trainer_interface.cc(466) LOG(INFO) all chars count=2761\n",
      "trainer_interface.cc(477) LOG(INFO) Done: 99.5654% characters are covered.\n",
      "trainer_interface.cc(487) LOG(INFO) Alphabet size=44\n",
      "trainer_interface.cc(488) LOG(INFO) Final character coverage=0.995654\n",
      "trainer_interface.cc(520) LOG(INFO) Done! preprocessed 2 sentences.\n",
      "trainer_interface.cc(526) LOG(INFO) Tokenizing input sentences with whitespace: 2\n",
      "trainer_interface.cc(537) LOG(INFO) Done! 333\n",
      "bpe_model_trainer.cc(167) LOG(INFO) Updating active symbols. max_freq=59 min_freq=1\n",
      "bpe_model_trainer.cc(258) LOG(INFO) Added: freq=16 size=20 all=667 active=622 piece=লা\n",
      "bpe_model_trainer.cc(258) LOG(INFO) Added: freq=11 size=40 all=794 active=749 piece=▁ভ\n",
      "bpe_model_trainer.cc(258) LOG(INFO) Added: freq=7 size=60 all=886 active=841 piece=্র\n",
      "bpe_model_trainer.cc(258) LOG(INFO) Added: freq=5 size=80 all=948 active=903 piece=নে\n",
      "bpe_model_trainer.cc(258) LOG(INFO) Added: freq=4 size=100 all=1002 active=957 piece=তা\n",
      "bpe_model_trainer.cc(167) LOG(INFO) Updating active symbols. max_freq=4 min_freq=0\n",
      "bpe_model_trainer.cc(258) LOG(INFO) Added: freq=4 size=120 all=1044 active=999 piece=▁কিছু\n",
      "bpe_model_trainer.cc(258) LOG(INFO) Added: freq=3 size=140 all=1066 active=1021 piece=দেশ\n",
      "bpe_model_trainer.cc(258) LOG(INFO) Added: freq=3 size=160 all=1103 active=1058 piece=▁করে\n",
      "bpe_model_trainer.cc(258) LOG(INFO) Added: freq=2 size=180 all=1114 active=1069 piece=ক্\n",
      "bpe_model_trainer.cc(258) LOG(INFO) Added: freq=2 size=200 all=1148 active=1103 piece=কির\n",
      "bpe_model_trainer.cc(167) LOG(INFO) Updating active symbols. max_freq=2 min_freq=0\n",
      "bpe_model_trainer.cc(258) LOG(INFO) Added: freq=2 size=220 all=1165 active=1015 piece=্লা\n",
      "bpe_model_trainer.cc(258) LOG(INFO) Added: freq=2 size=240 all=1182 active=1032 piece=িবাজ\n",
      "bpe_model_trainer.cc(258) LOG(INFO) Added: freq=2 size=260 all=1190 active=1040 piece=গালাজ\n",
      "bpe_model_trainer.cc(258) LOG(INFO) Added: freq=2 size=280 all=1182 active=1032 piece=▁হালা\n",
      "bpe_model_trainer.cc(258) LOG(INFO) Added: freq=1 size=300 all=1174 active=1024 piece=ংগ\n",
      "bpe_model_trainer.cc(167) LOG(INFO) Updating active symbols. max_freq=1 min_freq=0\n",
      "bpe_model_trainer.cc(258) LOG(INFO) Added: freq=1 size=320 all=1181 active=1006 piece=থি\n",
      "bpe_model_trainer.cc(258) LOG(INFO) Added: freq=1 size=340 all=1189 active=1014 piece=াত\n",
      "bpe_model_trainer.cc(258) LOG(INFO) Added: freq=1 size=360 all=1194 active=1019 piece=কার\n",
      "bpe_model_trainer.cc(258) LOG(INFO) Added: freq=1 size=380 all=1205 active=1030 piece=দূর\n",
      "bpe_model_trainer.cc(258) LOG(INFO) Added: freq=1 size=400 all=1211 active=1036 piece=হির\n",
      "bpe_model_trainer.cc(167) LOG(INFO) Updating active symbols. max_freq=1 min_freq=0\n",
      "bpe_model_trainer.cc(258) LOG(INFO) Added: freq=1 size=420 all=1215 active=1004 piece=্লে\n",
      "bpe_model_trainer.cc(258) LOG(INFO) Added: freq=1 size=440 all=1207 active=996 piece=কট্য\n",
      "bpe_model_trainer.cc(258) LOG(INFO) Added: freq=1 size=460 all=1211 active=1000 piece=লাএই\n",
      "bpe_model_trainer.cc(258) LOG(INFO) Added: freq=1 size=480 all=1214 active=1003 piece=োগ্য\n",
      "bpe_model_trainer.cc(258) LOG(INFO) Added: freq=1 size=500 all=1205 active=994 piece=▁ছাই\n",
      "bpe_model_trainer.cc(167) LOG(INFO) Updating active symbols. max_freq=1 min_freq=0\n",
      "bpe_model_trainer.cc(258) LOG(INFO) Added: freq=1 size=520 all=1194 active=989 piece=▁মতএ\n",
      "bpe_model_trainer.cc(258) LOG(INFO) Added: freq=1 size=540 all=1182 active=977 piece=জেদের\n",
      "bpe_model_trainer.cc(258) LOG(INFO) Added: freq=1 size=560 all=1182 active=977 piece=▁অক্স\n",
      "bpe_model_trainer.cc(258) LOG(INFO) Added: freq=1 size=580 all=1165 active=960 piece=▁ছাগল\n",
      "bpe_model_trainer.cc(258) LOG(INFO) Added: freq=1 size=600 all=1148 active=943 piece=▁প্লে\n",
      "bpe_model_trainer.cc(167) LOG(INFO) Updating active symbols. max_freq=1 min_freq=0\n",
      "bpe_model_trainer.cc(258) LOG(INFO) Added: freq=1 size=620 all=1137 active=989 piece=জাইল্ল\n",
      "bpe_model_trainer.cc(258) LOG(INFO) Added: freq=1 size=640 all=1127 active=979 piece=▁খারাপ\n",
      "bpe_model_trainer.cc(258) LOG(INFO) Added: freq=1 size=660 all=1109 active=961 piece=▁পুতসা\n",
      "bpe_model_trainer.cc(258) LOG(INFO) Added: freq=1 size=680 all=1095 active=947 piece=▁হইছোস\n",
      "bpe_model_trainer.cc(258) LOG(INFO) Added: freq=1 size=700 all=1082 active=934 piece=▁টাইটেল\n",
      "bpe_model_trainer.cc(167) LOG(INFO) Updating active symbols. max_freq=1 min_freq=0\n",
      "bpe_model_trainer.cc(258) LOG(INFO) Added: freq=1 size=720 all=1063 active=981 piece=▁শয়তান\n",
      "bpe_model_trainer.cc(258) LOG(INFO) Added: freq=1 size=740 all=1048 active=966 piece=▁নাইপাপন\n",
      "bpe_model_trainer.cc(258) LOG(INFO) Added: freq=1 size=760 all=1031 active=949 piece=▁জানোয়ের\n",
      "bpe_model_trainer.cc(258) LOG(INFO) Added: freq=1 size=780 all=1011 active=929 piece=▁বাচ্চাদের\n",
      "bpe_model_trainer.cc(258) LOG(INFO) Added: freq=1 size=800 all=991 active=909 piece=▁মাদারচোদেগো\n",
      "bpe_model_trainer.cc(167) LOG(INFO) Updating active symbols. max_freq=1 min_freq=0\n",
      "bpe_model_trainer.cc(258) LOG(INFO) Added: freq=0 size=820 all=971 active=926 piece=আম\n",
      "bpe_model_trainer.cc(258) LOG(INFO) Added: freq=0 size=840 all=951 active=906 piece=এত\n",
      "bpe_model_trainer.cc(258) LOG(INFO) Added: freq=0 size=860 all=931 active=886 piece=খ্\n",
      "bpe_model_trainer.cc(258) LOG(INFO) Added: freq=0 size=880 all=911 active=866 piece=টে\n",
      "bpe_model_trainer.cc(258) LOG(INFO) Added: freq=0 size=900 all=891 active=846 piece=নচ\n",
      "bpe_model_trainer.cc(167) LOG(INFO) Updating active symbols. max_freq=0 min_freq=0\n",
      "bpe_model_trainer.cc(258) LOG(INFO) Added: freq=0 size=920 all=871 active=826 piece=বড\n",
      "bpe_model_trainer.cc(258) LOG(INFO) Added: freq=0 size=940 all=851 active=806 piece=যস\n",
      "bpe_model_trainer.cc(258) LOG(INFO) Added: freq=0 size=960 all=831 active=786 piece=র্\n",
      "bpe_model_trainer.cc(258) LOG(INFO) Added: freq=0 size=980 all=811 active=766 piece=সম\n",
      "bpe_model_trainer.cc(258) LOG(INFO) Added: freq=0 size=1000 all=791 active=746 piece=াএ\n",
      "bpe_model_trainer.cc(167) LOG(INFO) Updating active symbols. max_freq=0 min_freq=0\n",
      "bpe_model_trainer.cc(258) LOG(INFO) Added: freq=0 size=1020 all=771 active=726 piece=িআ\n",
      "bpe_model_trainer.cc(258) LOG(INFO) Added: freq=0 size=1040 all=751 active=706 piece=ুট\n",
      "bpe_model_trainer.cc(258) LOG(INFO) Added: freq=0 size=1060 all=731 active=686 piece=োক\n",
      "bpe_model_trainer.cc(258) LOG(INFO) Added: freq=0 size=1080 all=711 active=666 piece=ইলো\n",
      "bpe_model_trainer.cc(258) LOG(INFO) Added: freq=0 size=1100 all=691 active=646 piece=চাই\n",
      "bpe_model_trainer.cc(167) LOG(INFO) Updating active symbols. max_freq=0 min_freq=0\n",
      "bpe_model_trainer.cc(258) LOG(INFO) Added: freq=0 size=1120 all=671 active=626 piece=ড়া\n",
      "bpe_model_trainer.cc(258) LOG(INFO) Added: freq=0 size=1140 all=651 active=606 piece=পিন\n",
      "bpe_model_trainer.cc(258) LOG(INFO) Added: freq=0 size=1160 all=631 active=586 piece=য়প\n",
      "bpe_model_trainer.cc(258) LOG(INFO) Added: freq=0 size=1180 all=611 active=566 piece=লার\n",
      "bpe_model_trainer.cc(258) LOG(INFO) Added: freq=0 size=1200 all=591 active=546 piece=াইক\n",
      "bpe_model_trainer.cc(167) LOG(INFO) Updating active symbols. max_freq=0 min_freq=0\n",
      "bpe_model_trainer.cc(258) LOG(INFO) Added: freq=0 size=1220 all=571 active=526 piece=ারপ\n",
      "bpe_model_trainer.cc(258) LOG(INFO) Added: freq=0 size=1240 all=551 active=506 piece=ুদব\n",
      "bpe_model_trainer.cc(258) LOG(INFO) Added: freq=0 size=1260 all=531 active=486 piece=োদপ\n",
      "bpe_model_trainer.cc(258) LOG(INFO) Added: freq=0 size=1280 all=511 active=466 piece=▁অক\n",
      "bpe_model_trainer.cc(258) LOG(INFO) Added: freq=0 size=1300 all=491 active=446 piece=▁গর\n",
      "bpe_model_trainer.cc(167) LOG(INFO) Updating active symbols. max_freq=0 min_freq=0\n",
      "bpe_model_trainer.cc(258) LOG(INFO) Added: freq=0 size=1320 all=471 active=426 piece=▁পড\n",
      "bpe_model_trainer.cc(258) LOG(INFO) Added: freq=0 size=1340 all=451 active=406 piece=▁রু\n",
      "bpe_model_trainer.cc(258) LOG(INFO) Added: freq=0 size=1360 all=431 active=386 piece=ছেলে\n",
      "bpe_model_trainer.cc(258) LOG(INFO) Added: freq=0 size=1380 all=411 active=366 piece=রনের\n",
      "bpe_model_trainer.cc(258) LOG(INFO) Added: freq=0 size=1400 all=391 active=346 piece=াদের\n",
      "bpe_model_trainer.cc(167) LOG(INFO) Updating active symbols. max_freq=0 min_freq=0\n",
      "bpe_model_trainer.cc(258) LOG(INFO) Added: freq=0 size=1420 all=371 active=326 piece=িরপু\n",
      "bpe_model_trainer.cc(258) LOG(INFO) Added: freq=0 size=1440 all=351 active=306 piece=োরের\n",
      "bpe_model_trainer.cc(258) LOG(INFO) Added: freq=0 size=1460 all=331 active=286 piece=▁কোথ\n",
      "bpe_model_trainer.cc(258) LOG(INFO) Added: freq=0 size=1480 all=311 active=266 piece=▁নিশ\n",
      "bpe_model_trainer.cc(258) LOG(INFO) Added: freq=0 size=1500 all=291 active=246 piece=▁ভাল\n",
      "bpe_model_trainer.cc(167) LOG(INFO) Updating active symbols. max_freq=0 min_freq=0\n",
      "bpe_model_trainer.cc(258) LOG(INFO) Added: freq=0 size=1520 all=271 active=226 piece=▁সুদ\n",
      "bpe_model_trainer.cc(258) LOG(INFO) Added: freq=0 size=1540 all=251 active=206 piece=চ্চুত\n",
      "trainer_interface.cc(615) LOG(INFO) Saving model: model_bengali_subwords_lg.model\n",
      "trainer_interface.cc(626) LOG(INFO) Saving vocabs: model_bengali_subwords_lg.vocab\n"
     ]
    }
   ],
   "source": [
    "\n",
    "\n",
    "!spm_train \\\n",
    "  --input=train_file_bengali.txt \\\n",
    "  --model_prefix=model_bengali_characters \\\n",
    "  --vocab_size=85\\\n",
    "  --character_coverage=0.995 \\\n",
    "  --model_type=bpe\n",
    "\n",
    "\n",
    "\n",
    "\n",
    "!spm_train \\\n",
    "  --input=train_file_bengali.txt \\\n",
    "  --model_prefix=model_bengali_subwords_sm \\\n",
    "  --vocab_size=800 \\\n",
    "  --character_coverage=0.995 \\\n",
    "  --model_type=bpe\n",
    "\n",
    "\n",
    "\n",
    "!spm_train \\\n",
    "  --input=train_file_bengali.txt \\\n",
    "  --model_prefix=model_bengali_subwords_lg \\\n",
    "  --vocab_size=1600 \\\n",
    "  --character_coverage=0.995\\\n",
    "  --model_type=bpe"
   ]
  },
  {
   "cell_type": "code",
   "execution_count": 8,
   "metadata": {},
   "outputs": [],
   "source": [
    "#encoding using the train file for 1.charachter 2.subword units small 3.sub word units large\n",
    "\n",
    "!spm_encode \\\n",
    "  --model=model_bengali_characters.model \\\n",
    "  --output_format=piece \\\n",
    "  < train_file_bengali.txt \\\n",
    "  > segmented_bengali_charachter_train.txt\n",
    "\n",
    "\n",
    "!spm_encode \\\n",
    "  --model=model_bengali_subwords_sm.model \\\n",
    "  --output_format=piece \\\n",
    "  < train_file_bengali.txt \\\n",
    "  > segmented_bengali_subword_sm_train.txt\n",
    "\n",
    "\n",
    "!spm_encode \\\n",
    "  --model=model_bengali_subwords_lg.model \\\n",
    "  --output_format=piece \\\n",
    "  < train_file_bengali.txt \\\n",
    "  > segmented_bengali_subword_lg_train.txt\n"
   ]
  },
  {
   "cell_type": "code",
   "execution_count": 9,
   "metadata": {},
   "outputs": [],
   "source": [
    "#encoding using the test file for 1.charachter 2.subword units small 3.sub word units large\n",
    "\n",
    "!spm_encode \\\n",
    "  --model=model_bengali_characters.model \\\n",
    "  --output_format=piece \\\n",
    "  < test_file_bengali.txt \\\n",
    "  > segmented_bengali_charachter_test.txt\n",
    "\n",
    "!spm_encode \\\n",
    "  --model=model_bengali_subwords_sm.model \\\n",
    "  --output_format=piece \\\n",
    "  < test_file_bengali.txt \\\n",
    "  > segmented_bengali_subword_sm_test.txt\n",
    "\n",
    "!spm_encode \\\n",
    "  --model=model_bengali_subwords_lg.model \\\n",
    "  --output_format=piece \\\n",
    "  < test_file_bengali.txt \\\n",
    "  > segmented_bengali_subword_lg_test.txt"
   ]
  },
  {
   "cell_type": "markdown",
   "metadata": {},
   "source": [
    "## **3 LM Training**"
   ]
  },
  {
   "cell_type": "code",
   "execution_count": 10,
   "metadata": {},
   "outputs": [
    {
     "name": "stdout",
     "output_type": "stream",
     "text": [
      "debug mode: 2\n",
      "train file: ../../../segmented_bengali_charachter_train.txt\n",
      "valid file: ../../../segmented_bengali_charachter_test.txt\n",
      "class size: 9999\n",
      "Hidden layer size: 40\n",
      "BPTT: 3\n",
      "Rand seed: 1\n",
      "rnnlm file: model\n",
      "Starting training using file ../../../segmented_bengali_charachter_train.txt\n",
      "Vocab size: 900\n",
      "Words in train file: 901725\n",
      "WARNING: number of classes exceeds vocabulary size!\n",
      "Iter:   0\tAlpha: 0.100000\t   TRAIN entropy: 4.1557    Words/sec: 989.3   VALID entropy: 4.1396\n",
      "Iter:   1\tAlpha: 0.100000\t   TRAIN entropy: 3.9419    Words/sec: 1055.7   VALID entropy: 4.0737\n",
      "Iter:   2\tAlpha: 0.100000\t   TRAIN entropy: 3.9038    Words/sec: 1051.7   VALID entropy: 4.0461\n",
      "Iter:   3\tAlpha: 0.100000\t   TRAIN entropy: 3.8852    Words/sec: 1045.0   VALID entropy: 4.0253\n",
      "Iter:   4\tAlpha: 0.100000\t   TRAIN entropy: 3.8747    Words/sec: 1030.0   VALID entropy: 4.0074\n",
      "Iter:   5\tAlpha: 0.100000\t   TRAIN entropy: 3.8668    Words/sec: 952.6   VALID entropy: 4.0043\n",
      "Iter:   6\tAlpha: 0.050000\t   TRAIN entropy: 3.8115    Words/sec: 1065.1   VALID entropy: 3.9086\n",
      "Iter:   7\tAlpha: 0.025000\t   TRAIN entropy: 3.7887    Words/sec: 1200.8   VALID entropy: 3.8577\n",
      "Iter:   8\tAlpha: 0.012500\t   TRAIN entropy: 3.7847    Words/sec: 1057.6   VALID entropy: 3.8343\n",
      "Iter:   9\tAlpha: 0.006250\t   TRAIN entropy: 3.7893    Words/sec: 1123.9   VALID entropy: 3.8269\n"
     ]
    }
   ],
   "source": [
    "#base models \n",
    "\n",
    "!mkdir -p models_bengali/bengali_char/rnnlm \\\n",
    " && cd models_bengali/bengali_char/rnnlm \\\n",
    " && /home/snlp-project-21/rnnlm/rnnlm \\\n",
    " -train ../../../segmented_bengali_charachter_train.txt \\\n",
    " -valid ../../../segmented_bengali_charachter_test.txt \\\n",
    " -rnnlm model \\\n",
    "   -hidden 40 \\\n",
    "   -rand-seed 1 \\\n",
    "   -debug 2 \\\n",
    "   -bptt 3 \\\n",
    "   -class 9999"
   ]
  },
  {
   "cell_type": "code",
   "execution_count": 11,
   "metadata": {},
   "outputs": [
    {
     "name": "stdout",
     "output_type": "stream",
     "text": [
      "debug mode: 2\n",
      "train file: ../../../segmented_bengali_subword_sm_train.txt\n",
      "valid file: ../../../segmented_bengali_subword_sm_test.txt\n",
      "class size: 9999\n",
      "Hidden layer size: 40\n",
      "BPTT: 3\n",
      "Rand seed: 1\n",
      "rnnlm file: model\n",
      "Starting training using file ../../../segmented_bengali_subword_sm_train.txt\n",
      "Vocab size: 1593\n",
      "Words in train file: 572262\n",
      "WARNING: number of classes exceeds vocabulary size!\n",
      "Iter:   0\tAlpha: 0.100000\t   TRAIN entropy: 6.3266    Words/sec: 1059.3   VALID entropy: 5.8574\n",
      "Iter:   1\tAlpha: 0.100000\t   TRAIN entropy: 5.7729    Words/sec: 1086.4   VALID entropy: 5.7418\n",
      "Iter:   2\tAlpha: 0.100000\t   TRAIN entropy: 5.6693    Words/sec: 1145.4   VALID entropy: 5.7039\n",
      "Iter:   3\tAlpha: 0.100000\t   TRAIN entropy: 5.6177    Words/sec: 1135.2   VALID entropy: 5.6782\n",
      "Iter:   4\tAlpha: 0.100000\t   TRAIN entropy: 5.5857    Words/sec: 1174.0   VALID entropy: 5.6596\n",
      "Iter:   5\tAlpha: 0.100000\t   TRAIN entropy: 5.5632    Words/sec: 1193.0   VALID entropy: 5.6447\n",
      "Iter:   6\tAlpha: 0.050000\t   TRAIN entropy: 5.4862    Words/sec: 1114.0   VALID entropy: 5.5098\n",
      "Iter:   7\tAlpha: 0.025000\t   TRAIN entropy: 5.4508    Words/sec: 1181.5   VALID entropy: 5.4462\n",
      "Iter:   8\tAlpha: 0.012500\t   TRAIN entropy: 5.4424    Words/sec: 1179.7   VALID entropy: 5.4185\n",
      "Iter:   9\tAlpha: 0.006250\t   TRAIN entropy: 5.4460    Words/sec: 1185.2   VALID entropy: 5.4081\n"
     ]
    }
   ],
   "source": [
    "!mkdir -p models_bengali/bengali_subwords_sm/rnnlm \\\n",
    " && cd models_bengali/bengali_subwords_sm/rnnlm \\\n",
    " && /home/snlp-project-21/rnnlm/rnnlm \\\n",
    " -train ../../../segmented_bengali_subword_sm_train.txt \\\n",
    " -valid ../../../segmented_bengali_subword_sm_test.txt \\\n",
    " -rnnlm model \\\n",
    "   -hidden 40 \\\n",
    "   -rand-seed 1 \\\n",
    "   -debug 2 \\\n",
    "   -bptt 3 \\\n",
    "   -class 9999"
   ]
  },
  {
   "cell_type": "code",
   "execution_count": 12,
   "metadata": {},
   "outputs": [
    {
     "name": "stdout",
     "output_type": "stream",
     "text": [
      "debug mode: 2\n",
      "train file: ../../../segmented_bengali_subword_lg_train.txt\n",
      "valid file: ../../../segmented_bengali_subword_lg_test.txt\n",
      "class size: 9999\n",
      "Hidden layer size: 40\n",
      "BPTT: 3\n",
      "Rand seed: 1\n",
      "rnnlm file: model\n",
      "Starting training using file ../../../segmented_bengali_subword_lg_train.txt\n",
      "Vocab size: 2297\n",
      "Words in train file: 506491\n",
      "WARNING: number of classes exceeds vocabulary size!\n",
      "Iter:   0\tAlpha: 0.100000\t   TRAIN entropy: 7.1842    Words/sec: 1164.7   VALID entropy: 6.5246\n",
      "Iter:   1\tAlpha: 0.100000\t   TRAIN entropy: 6.3666    Words/sec: 1103.4   VALID entropy: 6.3048\n",
      "Iter:   2\tAlpha: 0.100000\t   TRAIN entropy: 6.2012    Words/sec: 1205.0   VALID entropy: 6.2177\n",
      "Iter:   3\tAlpha: 0.100000\t   TRAIN entropy: 6.1213    Words/sec: 1177.2   VALID entropy: 6.1716\n",
      "Iter:   4\tAlpha: 0.100000\t   TRAIN entropy: 6.0716    Words/sec: 1197.4   VALID entropy: 6.1464\n",
      "Iter:   5\tAlpha: 0.100000\t   TRAIN entropy: 6.0364    Words/sec: 1172.0   VALID entropy: 6.1292\n",
      "Iter:   6\tAlpha: 0.050000\t   TRAIN entropy: 5.9425    Words/sec: 1209.1   VALID entropy: 6.0017TRAIN entropy: 6.1437    Progress: 17.77%   Words/sec: 1190.7 \n",
      "Iter:   7\tAlpha: 0.025000\t   TRAIN entropy: 5.8963    Words/sec: 1155.3   VALID entropy: 5.9422\n",
      "Iter:   8\tAlpha: 0.012500\t   TRAIN entropy: 5.8820    Words/sec: 1167.4   VALID entropy: 5.9143\n",
      "Iter:   9\tAlpha: 0.006250\t   TRAIN entropy: 5.8822    Words/sec: 1182.7   VALID entropy: 5.9035\n"
     ]
    }
   ],
   "source": [
    "!mkdir -p models_bengali/bengali_subwords_lg/rnnlm \\\n",
    " && cd models_bengali/bengali_subwords_lg/rnnlm \\\n",
    " && /home/snlp-project-21/rnnlm/rnnlm \\\n",
    " -train ../../../segmented_bengali_subword_lg_train.txt \\\n",
    " -valid ../../../segmented_bengali_subword_lg_test.txt \\\n",
    " -rnnlm model \\\n",
    "   -hidden 40 \\\n",
    "   -rand-seed 1 \\\n",
    "   -debug 2 \\\n",
    "   -bptt 3 \\\n",
    "   -class 9999"
   ]
  },
  {
   "cell_type": "markdown",
   "metadata": {},
   "source": [
    "## **3 LM Training - Tuned**"
   ]
  },
  {
   "cell_type": "code",
   "execution_count": 14,
   "metadata": {},
   "outputs": [
    {
     "name": "stdout",
     "output_type": "stream",
     "text": [
      "debug mode: 2\n",
      "train file: ../../../segmented_bengali_charachter_train.txt\n",
      "valid file: ../../../segmented_bengali_charachter_test.txt\n",
      "class size: 999\n",
      "Hidden layer size: 100\n",
      "BPTT: 4\n",
      "Rand seed: 1\n",
      "rnnlm file: model\n",
      "Starting training using file ../../../segmented_bengali_charachter_train.txt\n",
      "Vocab size: 900\n",
      "Words in train file: 901725\n",
      "WARNING: number of classes exceeds vocabulary size!\n",
      "Iter:   0\tAlpha: 0.100000\t   TRAIN entropy: 3.9594    Words/sec: 4054.4   VALID entropy: 3.8437\n",
      "Iter:   1\tAlpha: 0.100000\t   TRAIN entropy: 3.6152    Words/sec: 4055.9   VALID entropy: 3.7073\n",
      "Iter:   2\tAlpha: 0.100000\t   TRAIN entropy: 3.5401    Words/sec: 4289.1   VALID entropy: 3.6563\n",
      "Iter:   3\tAlpha: 0.100000\t   TRAIN entropy: 3.5059    Words/sec: 3830.1   VALID entropy: 3.6285\n",
      "Iter:   4\tAlpha: 0.100000\t   TRAIN entropy: 3.4860    Words/sec: 4042.6   VALID entropy: 3.6152\n",
      "Iter:   5\tAlpha: 0.100000\t   TRAIN entropy: 3.4719    Words/sec: 3906.5   VALID entropy: 3.6089\n",
      "Iter:   6\tAlpha: 0.050000\t   TRAIN entropy: 3.4058    Words/sec: 3913.7   VALID entropy: 3.5103\n",
      "Iter:   7\tAlpha: 0.025000\t   TRAIN entropy: 3.3744    Words/sec: 3605.2   VALID entropy: 3.4638\n",
      "Iter:   8\tAlpha: 0.012500\t   TRAIN entropy: 3.3646    Words/sec: 3806.0   VALID entropy: 3.4408\n",
      "Iter:   9\tAlpha: 0.006250\t   TRAIN entropy: 3.3655    Words/sec: 3818.2   VALID entropy: 3.4319\n"
     ]
    }
   ],
   "source": [
    "!mkdir -p tuned_models_bengali/bengali_char/rnnlm \\\n",
    " && cd tuned_models_bengali/bengali_char/rnnlm \\\n",
    " && /home/snlp-project-21/rnnlm/rnnlm \\\n",
    " -train ../../../segmented_bengali_charachter_train.txt \\\n",
    " -valid ../../../segmented_bengali_charachter_test.txt \\\n",
    " -rnnlm model \\\n",
    "   -hidden 100 \\\n",
    "   -rand-seed 1 \\\n",
    "   -debug 2 \\\n",
    "   -bptt 4 \\\n",
    "   -class 999\n",
    "\n"
   ]
  },
  {
   "cell_type": "code",
   "execution_count": 15,
   "metadata": {},
   "outputs": [
    {
     "name": "stdout",
     "output_type": "stream",
     "text": [
      "debug mode: 2\n",
      "train file: ../../../segmented_bengali_subword_sm_train.txt\n",
      "valid file: ../../../segmented_bengali_subword_sm_test.txt\n",
      "class size: 1600\n",
      "Hidden layer size: 120\n",
      "BPTT: 5\n",
      "Rand seed: 1\n",
      "rnnlm file: model\n",
      "Starting training using file ../../../segmented_bengali_subword_sm_train.txt\n",
      "Vocab size: 1593\n",
      "Words in train file: 572262\n",
      "WARNING: number of classes exceeds vocabulary size!\n",
      "Iter:   0\tAlpha: 0.100000\t   TRAIN entropy: 6.2116    Words/sec: 2138.8   VALID entropy: 5.6258\n",
      "Iter:   1\tAlpha: 0.100000\t   TRAIN entropy: 5.5388    Words/sec: 2239.1   VALID entropy: 5.4577\n",
      "Iter:   2\tAlpha: 0.100000\t   TRAIN entropy: 5.3717    Words/sec: 2359.5   VALID entropy: 5.3762\n",
      "Iter:   3\tAlpha: 0.100000\t   TRAIN entropy: 5.2770    Words/sec: 2224.3   VALID entropy: 5.3328\n",
      "Iter:   4\tAlpha: 0.100000\t   TRAIN entropy: 5.2107    Words/sec: 2329.4   VALID entropy: 5.2977\n",
      "Iter:   5\tAlpha: 0.100000\t   TRAIN entropy: 5.1608    Words/sec: 2346.9   VALID entropy: 5.2806\n",
      "Iter:   6\tAlpha: 0.100000\t   TRAIN entropy: 5.1227    Words/sec: 2353.0   VALID entropy: 5.2638\n",
      "Iter:   7\tAlpha: 0.100000\t   TRAIN entropy: 5.0922    Words/sec: 2145.3   VALID entropy: 5.2464\n",
      "Iter:   8\tAlpha: 0.100000\t   TRAIN entropy: 5.0671    Words/sec: 2165.2   VALID entropy: 5.2295\n",
      "Iter:   9\tAlpha: 0.100000\t   TRAIN entropy: 5.0464    Words/sec: 2157.1   VALID entropy: 5.2152\n",
      "Iter:  10\tAlpha: 0.050000\t   TRAIN entropy: 4.9520    Words/sec: 2156.9   VALID entropy: 5.1071\n",
      "Iter:  11\tAlpha: 0.025000\t   TRAIN entropy: 4.9016    Words/sec: 2206.4   VALID entropy: 5.0460\n",
      "Iter:  12\tAlpha: 0.012500\t   TRAIN entropy: 4.8817    Words/sec: 2199.5   VALID entropy: 5.0164\n",
      "Iter:  13\tAlpha: 0.006250\t   TRAIN entropy: 4.8764    Words/sec: 2213.3   VALID entropy: 5.0039\n"
     ]
    }
   ],
   "source": [
    "!mkdir -p tuned_models_bengali/bengali_subwords_sm/rnnlm \\\n",
    " && cd tuned_models_bengali/bengali_subwords_sm/rnnlm \\\n",
    " && /home/snlp-project-21/rnnlm/rnnlm \\\n",
    " -train ../../../segmented_bengali_subword_sm_train.txt \\\n",
    " -valid ../../../segmented_bengali_subword_sm_test.txt \\\n",
    " -rnnlm model \\\n",
    "   -hidden  120\\\n",
    "   -rand-seed 1 \\\n",
    "   -debug 2 \\\n",
    "   -bptt 5 \\\n",
    "   -class 1600"
   ]
  },
  {
   "cell_type": "code",
   "execution_count": 16,
   "metadata": {},
   "outputs": [
    {
     "name": "stdout",
     "output_type": "stream",
     "text": [
      "debug mode: 2\n",
      "train file: ../../../segmented_bengali_subword_lg_train.txt\n",
      "valid file: ../../../segmented_bengali_subword_lg_test.txt\n",
      "class size: 2000\n",
      "Hidden layer size: 80\n",
      "BPTT: 4\n",
      "Rand seed: 1\n",
      "rnnlm file: model\n",
      "Starting training using file ../../../segmented_bengali_subword_lg_train.txt\n",
      "Vocab size: 2297\n",
      "Words in train file: 506491\n",
      "Iter:   0\tAlpha: 0.100000\t   TRAIN entropy: 7.1406    Words/sec: 2705.6   VALID entropy: 6.4303\n",
      "Iter:   1\tAlpha: 0.100000\t   TRAIN entropy: 6.2584    Words/sec: 2662.2   VALID entropy: 6.1817\n",
      "Iter:   2\tAlpha: 0.100000\t   TRAIN entropy: 6.0379    Words/sec: 2658.7   VALID entropy: 6.0847\n",
      "Iter:   3\tAlpha: 0.100000\t   TRAIN entropy: 5.9228    Words/sec: 2606.8   VALID entropy: 6.0297\n",
      "Iter:   4\tAlpha: 0.100000\t   TRAIN entropy: 5.8484    Words/sec: 2760.5   VALID entropy: 5.9939\n",
      "Iter:   5\tAlpha: 0.100000\t   TRAIN entropy: 5.7950    Words/sec: 2773.2   VALID entropy: 5.9622\n",
      "Iter:   6\tAlpha: 0.100000\t   TRAIN entropy: 5.7539    Words/sec: 2749.8   VALID entropy: 5.9395\n",
      "Iter:   7\tAlpha: 0.100000\t   TRAIN entropy: 5.7210    Words/sec: 2752.9   VALID entropy: 5.9225\n",
      "Iter:   8\tAlpha: 0.050000\t   TRAIN entropy: 5.6158    Words/sec: 2711.9   VALID entropy: 5.7833\n",
      "Iter:   9\tAlpha: 0.025000\t   TRAIN entropy: 5.5608    Words/sec: 2825.2   VALID entropy: 5.7147\n",
      "Iter:  10\tAlpha: 0.012500\t   TRAIN entropy: 5.5388    Words/sec: 2756.1   VALID entropy: 5.6827\n",
      "Iter:  11\tAlpha: 0.006250\t   TRAIN entropy: 5.5324    Words/sec: 2702.8   VALID entropy: 5.6715\n"
     ]
    }
   ],
   "source": [
    "!mkdir -p tuned_models_bengali/bengali_subwords_lg/rnnlm \\\n",
    " && cd tuned_models_bengali/bengali_subwords_lg/rnnlm \\\n",
    " && /home/snlp-project-21/rnnlm/rnnlm \\\n",
    " -train ../../../segmented_bengali_subword_lg_train.txt \\\n",
    " -valid ../../../segmented_bengali_subword_lg_test.txt \\\n",
    " -rnnlm model \\\n",
    "   -hidden 80 \\\n",
    "   -rand-seed 1 \\\n",
    "   -debug 2 \\\n",
    "   -bptt 4 \\\n",
    "   -class 2000"
   ]
  },
  {
   "cell_type": "markdown",
   "metadata": {},
   "source": [
    "## **4 Text Generation (16 points)**"
   ]
  },
  {
   "cell_type": "markdown",
   "metadata": {},
   "source": [
    "**Note: The coresponding generated file is saved under models_bengali/{corresponding_model}/rnnlm/model **\n",
    "\n",
    "\n",
    "**Note: The coresponding decoded file is saved under models_bengali/{corresponding_model}/rnnlm/model **\n"
   ]
  },
  {
   "cell_type": "code",
   "execution_count": 17,
   "metadata": {},
   "outputs": [
    {
     "name": "stdout",
     "output_type": "stream",
     "text": [
      "generating 10\n",
      "generating 100\n",
      "generating 1000\n",
      "generating 10000\n",
      "generating 100000\n",
      "generating 1000000\n",
      "generating 10000000\n"
     ]
    }
   ],
   "source": [
    "#text gernaration for normal models\n",
    "\n",
    "for i in range(1,8):\n",
    "    !echo 'generating' $((10**$i))\n",
    "    !/home/snlp-project-21/rnnlm/rnnlm \\\n",
    "    -rnnlm models_bengali/bengali_char/rnnlm/model -gen  $[10**$i]  -debug 0 \\\n",
    "    > models_bengali/bengali_char/rnnlm/$[10**$i].txt\n",
    "    !spm_decode --model=model_bengali_characters.model --input_format=piece < models_bengali/bengali_char/rnnlm/$[10**$i].txt > models_bengali/bengali_char/rnnlm/decoded$[10**$i].txt\n",
    "\n"
   ]
  },
  {
   "cell_type": "code",
   "execution_count": 3,
   "metadata": {},
   "outputs": [
    {
     "name": "stdout",
     "output_type": "stream",
     "text": [
      "generating 10\n",
      "generating 100\n",
      "generating 1000\n",
      "generating 10000\n",
      "generating 100000\n",
      "generating 1000000\n",
      "generating 10000000\n"
     ]
    }
   ],
   "source": [
    "for i in range(1,8):\n",
    "    !echo 'generating' $((10**$i))\n",
    "    !/home/snlp-project-21/rnnlm/rnnlm \\\n",
    "    -rnnlm models_bengali/bengali_subwords_sm/rnnlm/model -gen  $[10**$i]  -debug 0 \\\n",
    "    > models_bengali/bengali_subwords_sm/rnnlm/$[10**$i].txt\n",
    "    !spm_decode --model=model_bengali_subwords_sm.model --input_format=piece < models_bengali/bengali_subwords_sm/rnnlm/$[10**$i].txt > models_bengali/bengali_subwords_sm/rnnlm/decoded$[10**$i].txt\n"
   ]
  },
  {
   "cell_type": "code",
   "execution_count": 4,
   "metadata": {
    "scrolled": true
   },
   "outputs": [
    {
     "name": "stdout",
     "output_type": "stream",
     "text": [
      "generating 10\n",
      "generating 100\n",
      "generating 1000\n",
      "generating 10000\n",
      "generating 100000\n",
      "generating 1000000\n",
      "generating 10000000\n"
     ]
    }
   ],
   "source": [
    "for i in range(1,8):\n",
    "    !echo 'generating' $((10**$i))\n",
    "    !/home/snlp-project-21/rnnlm/rnnlm \\\n",
    "    -rnnlm models_bengali/bengali_subwords_lg/rnnlm/model -gen  $[10**$i]  -debug 0 \\\n",
    "    > models_bengali/bengali_subwords_lg/rnnlm/$[10**$i].txt\n",
    "    !spm_decode --model=model_bengali_subwords_lg.model --input_format=piece < models_bengali/bengali_subwords_lg/rnnlm/$[10**$i].txt > models_bengali/bengali_subwords_lg/rnnlm/decoded$[10**$i].txt\n"
   ]
  },
  {
   "cell_type": "markdown",
   "metadata": {},
   "source": [
    "## **Text Generation - Tuned**"
   ]
  },
  {
   "cell_type": "markdown",
   "metadata": {},
   "source": [
    "**Note: The coresponding generated file is saved under tuned_models_bengali/{corresponding_model}/rnnlm/model **\n",
    "\n",
    "\n",
    "**Note: The coresponding decoded file is saved under tuned_models_bengali/{corresponding_model}/rnnlm/model **\n"
   ]
  },
  {
   "cell_type": "code",
   "execution_count": 6,
   "metadata": {},
   "outputs": [
    {
     "name": "stdout",
     "output_type": "stream",
     "text": [
      "generating 10\n",
      "generating 100\n",
      "generating 1000\n",
      "generating 10000\n",
      "generating 100000\n",
      "generating 1000000\n",
      "generating 10000000\n"
     ]
    }
   ],
   "source": [
    "for i in range(1,8):\n",
    "    !echo 'generating' $((10**$i))\n",
    "    !/home/snlp-project-21/rnnlm/rnnlm \\\n",
    "    -rnnlm tuned_models_bengali/bengali_char/rnnlm/model -gen  $[10**$i]  -debug 0 \\\n",
    "    > tuned_models_bengali/bengali_char/rnnlm/$[10**$i].txt\n",
    "    !spm_decode --model=model_bengali_characters.model --input_format=piece < tuned_models_bengali/bengali_char/rnnlm/$[10**$i].txt > tuned_models_bengali/bengali_char/rnnlm/decoded$[10**$i].txt"
   ]
  },
  {
   "cell_type": "code",
   "execution_count": 7,
   "metadata": {},
   "outputs": [
    {
     "name": "stdout",
     "output_type": "stream",
     "text": [
      "generating 10\n",
      "generating 100\n",
      "generating 1000\n",
      "generating 10000\n",
      "generating 100000\n",
      "generating 1000000\n",
      "generating 10000000\n"
     ]
    }
   ],
   "source": [
    "for i in range(1,8):\n",
    "    !echo 'generating' $((10**$i))\n",
    "    !/home/snlp-project-21/rnnlm/rnnlm \\\n",
    "    -rnnlm tuned_models_bengali/bengali_subwords_sm/rnnlm/model -gen  $[10**$i]  -debug 0 \\\n",
    "    > tuned_models_bengali/bengali_subwords_sm/rnnlm/$[10**$i].txt\n",
    "    !spm_decode --model=model_bengali_subwords_sm.model --input_format=piece < tuned_models_bengali/bengali_subwords_sm/rnnlm/$[10**$i].txt > tuned_models_bengali/bengali_subwords_sm/rnnlm/decoded$[10**$i].txt"
   ]
  },
  {
   "cell_type": "code",
   "execution_count": 8,
   "metadata": {},
   "outputs": [
    {
     "name": "stdout",
     "output_type": "stream",
     "text": [
      "generating 10\n",
      "generating 100\n",
      "generating 1000\n",
      "generating 10000\n",
      "generating 100000\n",
      "generating 1000000\n",
      "generating 10000000\n"
     ]
    }
   ],
   "source": [
    "for i in range(1,8):\n",
    "    !echo 'generating' $((10**$i))\n",
    "    !/home/snlp-project-21/rnnlm/rnnlm \\\n",
    "    -rnnlm tuned_models_bengali/bengali_subwords_lg/rnnlm/model -gen  $[10**$i]  -debug 0 \\\n",
    "    > tuned_models_bengali/bengali_subwords_lg/rnnlm/$[10**$i].txt\n",
    "    !spm_decode --model=model_bengali_subwords_lg.model --input_format=piece < tuned_models_bengali/bengali_subwords_lg/rnnlm/$[10**$i].txt > tuned_models_bengali/bengali_subwords_lg/rnnlm/decoded$[10**$i].txt\n"
   ]
  },
  {
   "cell_type": "markdown",
   "metadata": {},
   "source": [
    "## **5 OOV comparison**\n"
   ]
  },
  {
   "cell_type": "code",
   "execution_count": 9,
   "metadata": {},
   "outputs": [
    {
     "name": "stdout",
     "output_type": "stream",
     "text": [
      "Current working directory: /home/snlp-project-21/SNLP_2021_Final_Project_r1/project_bengali\n"
     ]
    }
   ],
   "source": [
    "import os\n",
    "cwd = os.getcwd()\n",
    "print(\"Current working directory: {0}\".format(cwd)) "
   ]
  },
  {
   "cell_type": "code",
   "execution_count": 10,
   "metadata": {},
   "outputs": [
    {
     "name": "stdout",
     "output_type": "stream",
     "text": [
      "0.15207391160885853\n"
     ]
    }
   ],
   "source": [
    "#5.1\n",
    "\n",
    "with open('train_file_bengali.txt') as f:\n",
    "    flat_list_train_bengali=[word for line in f for word in line.split()]\n",
    "    \n",
    "set_train_bengali=set(flat_list_train_bengali)\n",
    "\n",
    "\n",
    "\n",
    "with open('test_file_bengali.txt') as f:\n",
    "    flat_list_test_bengali=[word for line in f for word in line.split()]\n",
    "\n",
    "set_test_bengali=set(flat_list_test_bengali)\n",
    "\n",
    "ovv_baseline_model=len(set_test_bengali-set_train_bengali)/len(flat_list_test_bengali)\n",
    "\n",
    "print(ovv_baseline_model)\n",
    "\n"
   ]
  },
  {
   "cell_type": "code",
   "execution_count": 11,
   "metadata": {},
   "outputs": [],
   "source": [
    "!mkdir -p decoded_text/bengali_char\n",
    "!mkdir -p decoded_text/bengali_subwords_sm\n",
    "!mkdir -p decoded_text/bengali_subwords_lg"
   ]
  },
  {
   "cell_type": "code",
   "execution_count": 12,
   "metadata": {},
   "outputs": [],
   "source": [
    "!mkdir -p tuned_decoded_text/bengali_char\n",
    "!mkdir -p tuned_decoded_text/bengali_subwords_sm\n",
    "!mkdir -p tuned_decoded_text/bengali_subwords_lg"
   ]
  },
  {
   "cell_type": "code",
   "execution_count": 13,
   "metadata": {},
   "outputs": [
    {
     "name": "stdout",
     "output_type": "stream",
     "text": [
      "Current working directory: /home/snlp-project-21/SNLP_2021_Final_Project_r1/project_bengali\n"
     ]
    }
   ],
   "source": [
    "import os\n",
    "cwd = os.getcwd()\n",
    "print(\"Current working directory: {0}\".format(cwd)) "
   ]
  },
  {
   "cell_type": "code",
   "execution_count": 14,
   "metadata": {},
   "outputs": [],
   "source": [
    "#for each decoded file combine with original train\n",
    "for i in range(1,8):\n",
    "    filenames = ['train_file_bengali.txt', 'models_bengali/bengali_char/rnnlm/decoded{}.txt'.format(pow(10, i))]\n",
    "    with open('decoded_text/bengali_char/bengali_char_concatenated{}'.format(i), 'w') as outfile:\n",
    "        for fname in filenames:\n",
    "            with open(fname) as infile:\n",
    "                for line in infile:\n",
    "                    outfile.write(line)\n",
    "\n",
    "                    \n",
    "                    \n",
    "for i in range(1,8):\n",
    "    filenames = ['train_file_bengali.txt', 'models_bengali/bengali_subwords_sm/rnnlm/decoded{}.txt'.format(pow(10, i))]\n",
    "    with open('decoded_text/bengali_subwords_sm/bengali_subwords_sm_concatenated{}'.format(i), 'w') as outfile:\n",
    "        for fname in filenames:\n",
    "            with open(fname) as infile:\n",
    "                for line in infile:\n",
    "                    outfile.write(line)\n",
    "                    \n",
    "                    \n",
    "                    \n",
    "for i in range(1,8):\n",
    "    filenames = ['train_file_bengali.txt', 'models_bengali/bengali_subwords_lg/rnnlm/decoded{}.txt'.format(pow(10, i))]\n",
    "    with open('decoded_text/bengali_subwords_lg/bengali_subwords_lg_concatenated{}'.format(i), 'w') as outfile:\n",
    "        for fname in filenames:\n",
    "            with open(fname) as infile:\n",
    "                for line in infile:\n",
    "                    outfile.write(line)"
   ]
  },
  {
   "cell_type": "code",
   "execution_count": 15,
   "metadata": {},
   "outputs": [],
   "source": [
    "#for each decoded file combine with original train\n",
    "for i in range(1,8):\n",
    "    filenames = ['train_file_bengali.txt', 'tuned_models_bengali/bengali_char/rnnlm/decoded{}.txt'.format(pow(10, i))]\n",
    "    with open('tuned_decoded_text/bengali_char/bengali_char_concatenated_tuned{}'.format(i), 'w') as outfile:\n",
    "        for fname in filenames:\n",
    "            with open(fname) as infile:\n",
    "                for line in infile:\n",
    "                    outfile.write(line)\n",
    "\n",
    "                    \n",
    "                    \n",
    "for i in range(1,8):\n",
    "    filenames = ['train_file_bengali.txt', 'tuned_models_bengali/bengali_subwords_sm/rnnlm/decoded{}.txt'.format(pow(10, i))]\n",
    "    with open('tuned_decoded_text/bengali_subwords_sm/bengali_subwords_sm_concatenated_tuned{}'.format(i), 'w') as outfile:\n",
    "        for fname in filenames:\n",
    "            with open(fname) as infile:\n",
    "                for line in infile:\n",
    "                    outfile.write(line)\n",
    "                    \n",
    "                    \n",
    "                    \n",
    "for i in range(1,8):\n",
    "    filenames = ['train_file_bengali.txt', 'tuned_models_bengali/bengali_subwords_lg/rnnlm/decoded{}.txt'.format(pow(10, i))]\n",
    "    with open('tuned_decoded_text/bengali_subwords_lg/bengali_subwords_lg_concatenated_tuned{}'.format(i), 'w') as outfile:\n",
    "        for fname in filenames:\n",
    "            with open(fname) as infile:\n",
    "                for line in infile:\n",
    "                    outfile.write(line)"
   ]
  },
  {
   "cell_type": "code",
   "execution_count": 16,
   "metadata": {},
   "outputs": [
    {
     "name": "stdout",
     "output_type": "stream",
     "text": [
      "{'10': 0.15207391160885853, '100': 0.15207391160885853, '1000': 0.1520545020477087, '10000': 0.1518604064362105, '100000': 0.1501523650550261, '1000000': 0.14419362978203062, '10000000': 0.13182973932959377}\n",
      "{'10': 0.15207391160885853, '100': 0.15207391160885853, '1000': 0.1520545020477087, '10000': 0.15176335863046136, '100000': 0.14958948778168127, '1000000': 0.1410492808757594, '10000000': 0.12462879214300965}\n",
      "{'10': 0.15207391160885853, '100': 0.15207391160885853, '1000': 0.1520545020477087, '10000': 0.15174394906931155, '100000': 0.14991945032122825, '1000000': 0.1406222705304633, '10000000': 0.12253255953882883}\n"
     ]
    }
   ],
   "source": [
    "bengali_char={}\n",
    "\n",
    "for i in range(1,8):\n",
    "    with open('decoded_text/bengali_char/bengali_char_concatenated{}'.format(i)) as f:\n",
    "        temp1=[word for line in f for word in line.split()]\n",
    "        set_temp1=set(temp1)\n",
    "    \n",
    "    with open('test_file_bengali.txt') as f:\n",
    "        temp2=[word for line in f for word in line.split()]\n",
    "        set_temp2=set(temp2)\n",
    "    ovv_value=len(set_temp2-set_temp1)/len(temp2)\n",
    "\n",
    "    bengali_char['{}'.format(pow(10, i))]=ovv_value\n",
    "    \n",
    "\n",
    "print(bengali_char)\n",
    "\n",
    "\n",
    "bengali_subwords_sm={}\n",
    "\n",
    "for i in range(1,8):\n",
    "    with open('decoded_text/bengali_subwords_sm/bengali_subwords_sm_concatenated{}'.format(i)) as f:\n",
    "        temp1=[word for line in f for word in line.split()]\n",
    "        set_temp1=set(temp1)\n",
    "    \n",
    "    with open('test_file_bengali.txt') as f:\n",
    "        temp2=[word for line in f for word in line.split()]\n",
    "        set_temp2=set(temp2)\n",
    "    ovv_value=len(set_temp2-set_temp1)/len(temp2)\n",
    "\n",
    "    bengali_subwords_sm['{}'.format(pow(10, i))]=ovv_value\n",
    "    \n",
    "\n",
    "print(bengali_subwords_sm)\n",
    "\n",
    "bengali_subwords_lg={}\n",
    "\n",
    "for i in range(1,8):\n",
    "    with open('decoded_text/bengali_subwords_lg/bengali_subwords_lg_concatenated{}'.format(i)) as f:\n",
    "        temp1=[word for line in f for word in line.split()]\n",
    "        set_temp1=set(temp1)\n",
    "    \n",
    "    with open('test_file_bengali.txt') as f:\n",
    "        temp2=[word for line in f for word in line.split()]\n",
    "        set_temp2=set(temp2)\n",
    "    ovv_value=len(set_temp2-set_temp1)/len(temp2)\n",
    "\n",
    "    bengali_subwords_lg['{}'.format(pow(10, i))]=ovv_value\n",
    "    \n",
    "\n",
    "print(bengali_subwords_lg)"
   ]
  },
  {
   "cell_type": "code",
   "execution_count": 17,
   "metadata": {},
   "outputs": [
    {
     "name": "stdout",
     "output_type": "stream",
     "text": [
      "{'10': 0.15207391160885853, '100': 0.15207391160885853, '1000': 0.15207391160885853, '10000': 0.15184099687506067, '100000': 0.15011354593272647, '1000000': 0.14256322664544555, '10000000': 0.12653092913569225}\n",
      "{'10': 0.15207391160885853, '100': 0.15207391160885853, '1000': 0.1520545020477087, '10000': 0.15182158731391082, '100000': 0.14974476427087985, '1000000': 0.1404281749189651, '10000000': 0.12206673007123309}\n",
      "{'10': 0.15207391160885853, '100': 0.1520545020477087, '1000': 0.1520350924865589, '10000': 0.15178276819161118, '100000': 0.14941480173133284, '1000000': 0.13971002115642164, '10000000': 0.12053337474039712}\n"
     ]
    }
   ],
   "source": [
    "bengali_char_tuned={}\n",
    "\n",
    "for i in range(1,8):\n",
    "    with open('tuned_decoded_text/bengali_char/bengali_char_concatenated_tuned{}'.format(i)) as f:\n",
    "        temp1=[word for line in f for word in line.split()]\n",
    "        set_temp1=set(temp1)\n",
    "        \n",
    "    \n",
    "    with open('test_file_bengali.txt') as f:\n",
    "        temp2=[word for line in f for word in line.split()]\n",
    "        set_temp2=set(temp2)\n",
    "    ovv_value=len(set_temp2-set_temp1)/len(temp2)\n",
    "\n",
    "    bengali_char_tuned['{}'.format(pow(10, i))]=ovv_value\n",
    "    \n",
    "\n",
    "print(bengali_char_tuned)\n",
    "\n",
    "\n",
    "bengali_subwords_sm_tuned={}\n",
    "\n",
    "for i in range(1,8):\n",
    "    with open('tuned_decoded_text/bengali_subwords_sm/bengali_subwords_sm_concatenated_tuned{}'.format(i)) as f:\n",
    "        temp1=[word for line in f for word in line.split()]\n",
    "        set_temp1=set(temp1)\n",
    "    \n",
    "    with open('test_file_bengali.txt') as f:\n",
    "        temp2=[word for line in f for word in line.split()]\n",
    "        set_temp2=set(temp2)\n",
    "    ovv_value=len(set_temp2-set_temp1)/len(temp2)\n",
    "\n",
    "    bengali_subwords_sm_tuned['{}'.format(pow(10, i))]=ovv_value\n",
    "    \n",
    "\n",
    "print(bengali_subwords_sm_tuned)\n",
    "\n",
    "bengali_subwords_lg_tuned={}\n",
    "\n",
    "for i in range(1,8):\n",
    "    with open('tuned_decoded_text/bengali_subwords_lg/bengali_subwords_lg_concatenated_tuned{}'.format(i)) as f:\n",
    "        temp1=[word for line in f for word in line.split()]\n",
    "        set_temp1=set(temp1)\n",
    "    \n",
    "    with open('test_file_bengali.txt') as f:\n",
    "        temp2=[word for line in f for word in line.split()]\n",
    "        set_temp2=set(temp2)\n",
    "    ovv_value=len(set_temp2-set_temp1)/len(temp2)\n",
    "\n",
    "    bengali_subwords_lg_tuned['{}'.format(pow(10, i))]=ovv_value\n",
    "    \n",
    "\n",
    "print(bengali_subwords_lg_tuned)\n",
    "\n",
    "\n"
   ]
  },
  {
   "cell_type": "code",
   "execution_count": 18,
   "metadata": {},
   "outputs": [
    {
     "data": {
      "image/png": "[encoded data removed]",
      "text/plain": [
       "<Figure size 640x480 with 1 Axes>"
      ]
     },
     "metadata": {},
     "output_type": "display_data"
    }
   ],
   "source": [
    "import matplotlib.pyplot as plt\n",
    "\n",
    "x_axis_bengali_char=[10,100,1000,10000,100000,1000000,10000000]\n",
    "y_axis_bengali_char=[]\n",
    "\n",
    "x_axis_bengali_tuned=[10,100,1000,10000,100000,1000000,10000000]\n",
    "y_axis_bengali_char_tuned=[]\n",
    "\n",
    "\n",
    "for key in bengali_char:\n",
    "    y_axis_bengali_char.append(bengali_char[key])\n",
    "    \n",
    "for key in bengali_char_tuned:\n",
    "    y_axis_bengali_char_tuned.append(bengali_char_tuned[key])\n",
    "\n",
    "plt.plot(x_axis_bengali_char, y_axis_bengali_char,label=\"baseline\")\n",
    "\n",
    "plt.plot(x_axis_bengali_tuned,y_axis_bengali_char_tuned,label=\"tuned\")\n",
    "\n",
    "plt.title('bengali char tuned vs untuned')\n",
    "\n",
    "\n",
    "plt.xlabel(\"vocab size\")\n",
    "plt.ylabel(\"ovv rate\")\n",
    "plt.legend(loc=\"upper right\")\n",
    "\n",
    "plt.show()"
   ]
  },
  {
   "cell_type": "code",
   "execution_count": 19,
   "metadata": {},
   "outputs": [
    {
     "data": {
      "image/png": "[encoded data removed]",
      "text/plain": [
       "<Figure size 640x480 with 1 Axes>"
      ]
     },
     "metadata": {},
     "output_type": "display_data"
    }
   ],
   "source": [
    "import matplotlib.pyplot as plt\n",
    "\n",
    "x_axis_bengali_subwords_sm=[10,100,1000,10000,100000,1000000,10000000]\n",
    "y_axis_bengali_subwords_sm=[]\n",
    "\n",
    "\n",
    "x_axis_bengali_subwords_sm_tuned=[10,100,1000,10000,100000,1000000,10000000]\n",
    "y_axis_bengali_subwords_sm_tuned=[]\n",
    "\n",
    "\n",
    "for key in bengali_subwords_sm:\n",
    "    y_axis_bengali_subwords_sm.append(bengali_subwords_sm[key])\n",
    "    \n",
    "for key in bengali_subwords_sm_tuned:\n",
    "    y_axis_bengali_subwords_sm_tuned.append(bengali_subwords_sm_tuned[key])\n",
    "\n",
    "plt.plot(x_axis_bengali_subwords_sm, y_axis_bengali_subwords_sm,label=\"baseline\")\n",
    "\n",
    "plt.plot(x_axis_bengali_subwords_sm_tuned,y_axis_bengali_subwords_sm_tuned,label=\"tuned\")\n",
    "\n",
    "plt.title('bengali sub-words small tuned vs untuned')\n",
    "\n",
    "\n",
    "plt.xlabel(\"vocab size\")\n",
    "plt.ylabel(\"ovv rate\")\n",
    "plt.legend(loc=\"upper right\")\n",
    "\n",
    "plt.show()"
   ]
  },
  {
   "cell_type": "code",
   "execution_count": 20,
   "metadata": {},
   "outputs": [
    {
     "data": {
      "image/png": "[encoded data removed]",
      "text/plain": [
       "<Figure size 640x480 with 1 Axes>"
      ]
     },
     "metadata": {},
     "output_type": "display_data"
    }
   ],
   "source": [
    "import matplotlib.pyplot as plt\n",
    "\n",
    "x_axis_bengali_subwords_lg=[10,100,1000,10000,100000,1000000,10000000]\n",
    "y_axis_bengali_subwords_lg=[]\n",
    "\n",
    "\n",
    "x_axis_bengali_subwords_lg_tuned=[10,100,1000,10000,100000,1000000,10000000]\n",
    "y_axis_bengali_subwords_lg_tuned=[]\n",
    "\n",
    "\n",
    "for key in bengali_subwords_lg:\n",
    "    y_axis_bengali_subwords_lg.append(bengali_subwords_lg[key])\n",
    "    \n",
    "for key in bengali_subwords_lg_tuned:\n",
    "    y_axis_bengali_subwords_lg_tuned.append(bengali_subwords_lg_tuned[key])\n",
    "\n",
    "plt.plot(x_axis_bengali_subwords_lg, y_axis_bengali_subwords_lg,label=\"baseline\")\n",
    "\n",
    "plt.plot(x_axis_bengali_subwords_lg_tuned,y_axis_bengali_subwords_lg_tuned,label=\"tuned\")\n",
    "\n",
    "plt.title('bengali sub-words large tuned vs untuned')\n",
    "\n",
    "\n",
    "plt.xlabel(\"vocab size\")\n",
    "plt.ylabel(\"ovv rate\")\n",
    "plt.legend(loc=\"upper right\")\n",
    "\n",
    "plt.show()"
   ]
  }
 ],
 "metadata": {
  "kernelspec": {
   "display_name": "Python 3",
   "language": "python",
   "name": "python3"
  },
  "language_info": {
   "codemirror_mode": {
    "name": "ipython",
    "version": 3
   },
   "file_extension": ".py",
   "mimetype": "text/x-python",
   "name": "python",
   "nbconvert_exporter": "python",
   "pygments_lexer": "ipython3",
   "version": "3.8.3"
  }
 },
 "nbformat": 4,
 "nbformat_minor": 5
}
