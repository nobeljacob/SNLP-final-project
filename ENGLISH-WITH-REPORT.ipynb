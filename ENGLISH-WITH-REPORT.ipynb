{
 "cells": [
  {
   "cell_type": "markdown",
   "metadata": {
    "id": "4SztzmhdMkrX"
   },
   "source": [
    "# SNLP 2021 Final Project\n",
    "\n",
    "Name 1:  Nobel Jacob Varghese\n",
    "<br/>Student id 1:  7002401\n",
    "<br/>Email 1: noja00001@uni-saarland.de\n",
    "\n",
    "\n",
    "Name 2:  Nitish Juttu\n",
    "<br/>Student id 2:  7002402\n",
    "<br/>Email 2: niju00001@uni-saarland.de\n",
    "\n",
    "**Instructions:** Your final submission should contain _a separate Notebook_ (not including our instructions). You may also implement your code in different Python files and show the output in the Notebooks. In this case, make sure you submit your Python files as well. Do not submit the data files and any other debug output. Your submission should have a clear structure and should be easy to follow. Other instructions to follow have been given in detail with the project problem statement. Read them carefully.\n",
    "\n",
    "Upload the zipped folder in Teams. Only one member from the group should make the submission. The deadline for the project submission is August 20th, 2021 (23:59 pm). "
   ]
  },
  {
   "cell_type": "markdown",
   "metadata": {
    "id": "LFra8Hp1GbWL"
   },
   "source": [
    "# 1) Introduction\n",
    "\n",
    "As you have learned so far, OOV words are a critical issue in language models, especially for morphologically rich languages. They lead to 0 MLE estimates, and also reduce the performance of the model as the OOV rate increases. In this project, we will try to address the problem of OOV words by one of the solutions proposed in Assignment 5: *using subword representations*. Your task is to perform the following steps:\n",
    "\n",
    "1. Find appropriate subwords for a given corpus. \n",
    "2. Train a neural network model over these subwords.\n",
    "3. Use the trained model to generate a newer, larger \"corpus\". \n",
    "4. Compare the OOV rates obtained on varying sizes of the generated corpora with a baseline OOV rate over word tokens.\n",
    "5. Perform hyperparameter tuning at subword and neural network level to get the optimal OOV rates over the generated corpora. \n",
    "\n",
    "**You will repeat the above steps for two language corpora: English, and Bengali.** \n",
    "\n",
    "Each of the steps in the above outline have been described in detail in the rest of the Notebook. You will also find instructions on different libraries you will utilise for implementing the project. "
   ]
  },
  {
   "cell_type": "markdown",
   "metadata": {
    "id": "57kVLZFSyUtH"
   },
   "source": [
    "# 3) Overview\n",
    "\n"
   ]
  },
  {
   "cell_type": "markdown",
   "metadata": {
    "id": "101NY1wwGira"
   },
   "source": [
    "## **1 Data Preparation (12 points)**\n",
    "\n"
   ]
  },
  {
   "cell_type": "code",
   "execution_count": 1,
   "metadata": {},
   "outputs": [
    {
     "name": "stdout",
     "output_type": "stream",
     "text": [
      "Current working directory: /home/snlp-project-21/SNLP_2021_Final_Project_r1\n"
     ]
    }
   ],
   "source": [
    "# Import\n",
    "import nltk\n",
    "import string \n",
    "import os\n",
    "import math\n",
    "\n",
    "\n",
    "cwd = os.getcwd()\n",
    "print(\"Current working directory: {0}\".format(cwd))"
   ]
  },
  {
   "cell_type": "code",
   "execution_count": 2,
   "metadata": {},
   "outputs": [
    {
     "name": "stdout",
     "output_type": "stream",
     "text": [
      "/home/snlp-project-21/SNLP_2021_Final_Project_r1\n"
     ]
    }
   ],
   "source": [
    "#os.chdir(\"..\")\n",
    "%cd /home/snlp-project-21/SNLP_2021_Final_Project_r1"
   ]
  },
  {
   "cell_type": "code",
   "execution_count": 4,
   "metadata": {},
   "outputs": [
    {
     "name": "stderr",
     "output_type": "stream",
     "text": [
      "[nltk_data] Downloading package punkt to /home/snlp-\n",
      "[nltk_data]     project-21/nltk_data...\n",
      "[nltk_data]   Unzipping tokenizers/punkt.zip.\n"
     ]
    }
   ],
   "source": [
    "import nltk\n",
    "nltk.download('punkt')\n",
    "\n",
    "file_english = open(\"data/alice_in_wonderland.txt\", \"r\")\n",
    "\n",
    "english_read_data=file_english.read()\n",
    "\n",
    "english_read_data = english_read_data.lower()\n",
    "\n",
    "string_without_punctuations = \"\"\n",
    "\n",
    "import re\n",
    "\n",
    "\n",
    "string_without_punctuations=re.sub('[^A-Za-z0-9 .]+', ' ', english_read_data)\n",
    "string_without_punctuations=re.sub(' +', ' ', string_without_punctuations)\n",
    "\n",
    "from nltk.tokenize import sent_tokenize\n",
    "abcd=sent_tokenize(string_without_punctuations)\n",
    "\n",
    "\n",
    "total_length=len(abcd)\n",
    "train_size=math.floor(0.8*total_length)\n",
    "test_size=math.ceil(0.2*total_length)\n",
    "\n",
    "train_file=abcd[0:train_size]\n",
    "test_file=abcd[train_size:total_length]\n",
    "\n",
    "\n",
    "with open('train_file_english.txt', 'w') as f:\n",
    "    for item in train_file:\n",
    "        f.write(\"%s\\n\" % item)\n",
    "        \n",
    "with open('test_file_english.txt', 'w') as f:\n",
    "    for item in test_file:\n",
    "        f.write(\"%s\\n\" % item)\n",
    "\n",
    "\n",
    "\n",
    "\n",
    "\n"
   ]
  },
  {
   "cell_type": "markdown",
   "metadata": {
    "id": "JvyFF2fwGkxC"
   },
   "source": [
    "## **2 Subword Segmentation (16 points)**\n",
    "\n",
    "### 2.1 Introduction\n",
    "\n",
    "In this section you should break down the data into smaller units. Subwords are a very powerful tools used all around NLP which bridge the generative gap between characters and whole words.\n",
    "\n",
    "Subwords are a means for tools to address the structure of the word. Instead of having just two views of the word as a string of characters and as an atomic word unit, we get a new one in between which is similar to syllables, but based on statistical properties of the text and with a degree of adjustability:\n",
    "\n",
    "- Characters: `b e d c l o t h e s`\n",
    "- Word unit: `bedclothes`\n",
    "- Subword: `▁bed clo th es`\n"
   ]
  },
  {
   "cell_type": "code",
   "execution_count": 5,
   "metadata": {
    "scrolled": false
   },
   "outputs": [
    {
     "name": "stdout",
     "output_type": "stream",
     "text": [
      "sentencepiece_trainer.cc(77) LOG(INFO) Starts training with : \n",
      "trainer_spec {\n",
      "  input: train_file_english.txt\n",
      "  input_format: \n",
      "  model_prefix: model_prefix\n",
      "  model_type: BPE\n",
      "  vocab_size: 1000\n",
      "  self_test_sample_size: 0\n",
      "  character_coverage: 1\n",
      "  input_sentence_size: 0\n",
      "  shuffle_input_sentence: 1\n",
      "  seed_sentencepiece_size: 1000000\n",
      "  shrinking_factor: 0.75\n",
      "  max_sentence_length: 4192\n",
      "  num_threads: 16\n",
      "  num_sub_iterations: 2\n",
      "  max_sentencepiece_length: 16\n",
      "  split_by_unicode_script: 1\n",
      "  split_by_number: 1\n",
      "  split_by_whitespace: 1\n",
      "  split_digits: 0\n",
      "  treat_whitespace_as_suffix: 0\n",
      "  allow_whitespace_only_pieces: 0\n",
      "  required_chars: \n",
      "  byte_fallback: 0\n",
      "  vocabulary_output_piece_score: 1\n",
      "  train_extremely_large_corpus: 0\n",
      "  hard_vocab_limit: 1\n",
      "  use_all_vocab: 0\n",
      "  unk_id: 0\n",
      "  bos_id: 1\n",
      "  eos_id: 2\n",
      "  pad_id: -1\n",
      "  unk_piece: <unk>\n",
      "  bos_piece: <s>\n",
      "  eos_piece: </s>\n",
      "  pad_piece: <pad>\n",
      "  unk_surface:  ⁇ \n",
      "}\n",
      "normalizer_spec {\n",
      "  name: nmt_nfkc\n",
      "  add_dummy_prefix: 1\n",
      "  remove_extra_whitespaces: 1\n",
      "  escape_whitespaces: 1\n",
      "  normalization_rule_tsv: \n",
      "}\n",
      "denormalizer_spec {}\n",
      "trainer_interface.cc(329) LOG(INFO) SentenceIterator is not specified. Using MultiFileSentenceIterator.\n",
      "trainer_interface.cc(178) LOG(INFO) Loading corpus: train_file_english.txt\n",
      "trainer_interface.cc(385) LOG(INFO) Loaded all 780 sentences\n",
      "trainer_interface.cc(400) LOG(INFO) Adding meta_piece: <unk>\n",
      "trainer_interface.cc(400) LOG(INFO) Adding meta_piece: <s>\n",
      "trainer_interface.cc(400) LOG(INFO) Adding meta_piece: </s>\n",
      "trainer_interface.cc(405) LOG(INFO) Normalizing sentences...\n",
      "trainer_interface.cc(466) LOG(INFO) all chars count=112003\n",
      "trainer_interface.cc(487) LOG(INFO) Alphabet size=30\n",
      "trainer_interface.cc(488) LOG(INFO) Final character coverage=1\n",
      "trainer_interface.cc(520) LOG(INFO) Done! preprocessed 780 sentences.\n",
      "trainer_interface.cc(526) LOG(INFO) Tokenizing input sentences with whitespace: 780\n",
      "trainer_interface.cc(537) LOG(INFO) Done! 2625\n",
      "bpe_model_trainer.cc(167) LOG(INFO) Updating active symbols. max_freq=3789 min_freq=1\n",
      "bpe_model_trainer.cc(258) LOG(INFO) Added: freq=737 size=20 all=796 active=766 piece=▁d\n",
      "bpe_model_trainer.cc(258) LOG(INFO) Added: freq=451 size=40 all=1087 active=1057 piece=ow\n",
      "bpe_model_trainer.cc(258) LOG(INFO) Added: freq=317 size=60 all=1454 active=1424 piece=ot\n",
      "bpe_model_trainer.cc(258) LOG(INFO) Added: freq=205 size=80 all=1727 active=1697 piece=oo\n",
      "bpe_model_trainer.cc(258) LOG(INFO) Added: freq=155 size=100 all=1961 active=1931 piece=▁do\n",
      "bpe_model_trainer.cc(167) LOG(INFO) Updating active symbols. max_freq=153 min_freq=6\n",
      "bpe_model_trainer.cc(258) LOG(INFO) Added: freq=115 size=120 all=2108 active=1142 piece=al\n",
      "bpe_model_trainer.cc(258) LOG(INFO) Added: freq=95 size=140 all=2284 active=1318 piece=pp\n",
      "bpe_model_trainer.cc(258) LOG(INFO) Added: freq=85 size=160 all=2425 active=1459 piece=▁like\n",
      "bpe_model_trainer.cc(258) LOG(INFO) Added: freq=73 size=180 all=2494 active=1528 piece=to\n",
      "bpe_model_trainer.cc(258) LOG(INFO) Added: freq=66 size=200 all=2562 active=1596 piece=▁them\n",
      "bpe_model_trainer.cc(167) LOG(INFO) Updating active symbols. max_freq=65 min_freq=6\n",
      "bpe_model_trainer.cc(258) LOG(INFO) Added: freq=56 size=220 all=2681 active=1119 piece=all\n",
      "bpe_model_trainer.cc(258) LOG(INFO) Added: freq=50 size=240 all=2789 active=1227 piece=▁ma\n",
      "bpe_model_trainer.cc(258) LOG(INFO) Added: freq=46 size=260 all=2939 active=1377 piece=▁ta\n",
      "bpe_model_trainer.cc(258) LOG(INFO) Added: freq=42 size=280 all=3013 active=1451 piece=▁other\n",
      "bpe_model_trainer.cc(258) LOG(INFO) Added: freq=40 size=300 all=3081 active=1519 piece=▁duchess\n",
      "bpe_model_trainer.cc(167) LOG(INFO) Updating active symbols. max_freq=39 min_freq=6\n",
      "bpe_model_trainer.cc(258) LOG(INFO) Added: freq=36 size=320 all=3165 active=1085 piece=abb\n",
      "bpe_model_trainer.cc(258) LOG(INFO) Added: freq=34 size=340 all=3197 active=1117 piece=us\n",
      "bpe_model_trainer.cc(258) LOG(INFO) Added: freq=31 size=360 all=3310 active=1230 piece=▁him\n",
      "bpe_model_trainer.cc(258) LOG(INFO) Added: freq=28 size=380 all=3340 active=1260 piece=▁day\n",
      "bpe_model_trainer.cc(258) LOG(INFO) Added: freq=27 size=400 all=3354 active=1274 piece=▁wonder\n",
      "bpe_model_trainer.cc(167) LOG(INFO) Updating active symbols. max_freq=27 min_freq=5\n",
      "bpe_model_trainer.cc(258) LOG(INFO) Added: freq=25 size=420 all=3412 active=1056 piece=ation\n",
      "bpe_model_trainer.cc(258) LOG(INFO) Added: freq=24 size=440 all=3472 active=1116 piece=▁without\n",
      "bpe_model_trainer.cc(258) LOG(INFO) Added: freq=22 size=460 all=3527 active=1171 piece=one\n",
      "bpe_model_trainer.cc(258) LOG(INFO) Added: freq=21 size=480 all=3597 active=1241 piece=ate\n",
      "bpe_model_trainer.cc(258) LOG(INFO) Added: freq=20 size=500 all=3644 active=1288 piece=umb\n",
      "bpe_model_trainer.cc(167) LOG(INFO) Updating active symbols. max_freq=20 min_freq=4\n",
      "bpe_model_trainer.cc(258) LOG(INFO) Added: freq=19 size=520 all=3704 active=1046 piece=▁tre\n",
      "bpe_model_trainer.cc(258) LOG(INFO) Added: freq=18 size=540 all=3744 active=1086 piece=▁feet\n",
      "bpe_model_trainer.cc(258) LOG(INFO) Added: freq=17 size=560 all=3783 active=1125 piece=▁wat\n",
      "bpe_model_trainer.cc(258) LOG(INFO) Added: freq=16 size=580 all=3824 active=1166 piece=▁face\n",
      "bpe_model_trainer.cc(258) LOG(INFO) Added: freq=15 size=600 all=3864 active=1206 piece=ause\n",
      "bpe_model_trainer.cc(167) LOG(INFO) Updating active symbols. max_freq=15 min_freq=4\n",
      "bpe_model_trainer.cc(258) LOG(INFO) Added: freq=15 size=620 all=3892 active=1027 piece=▁repeat\n",
      "bpe_model_trainer.cc(258) LOG(INFO) Added: freq=14 size=640 all=3930 active=1065 piece=▁asked\n",
      "bpe_model_trainer.cc(258) LOG(INFO) Added: freq=13 size=660 all=3958 active=1093 piece=▁sw\n",
      "bpe_model_trainer.cc(258) LOG(INFO) Added: freq=13 size=680 all=3964 active=1099 piece=▁inter\n",
      "bpe_model_trainer.cc(258) LOG(INFO) Added: freq=12 size=700 all=3996 active=1131 piece=ople\n",
      "bpe_model_trainer.cc(167) LOG(INFO) Updating active symbols. max_freq=12 min_freq=3\n",
      "bpe_model_trainer.cc(258) LOG(INFO) Added: freq=12 size=720 all=4018 active=1022 piece=▁room\n",
      "bpe_model_trainer.cc(258) LOG(INFO) Added: freq=11 size=740 all=4018 active=1022 piece=icu\n",
      "bpe_model_trainer.cc(258) LOG(INFO) Added: freq=11 size=760 all=4064 active=1068 piece=▁yes\n",
      "bpe_model_trainer.cc(258) LOG(INFO) Added: freq=11 size=780 all=4065 active=1069 piece=▁really\n",
      "bpe_model_trainer.cc(258) LOG(INFO) Added: freq=10 size=800 all=4096 active=1100 piece=isten\n",
      "bpe_model_trainer.cc(167) LOG(INFO) Updating active symbols. max_freq=10 min_freq=3\n",
      "bpe_model_trainer.cc(258) LOG(INFO) Added: freq=10 size=820 all=4105 active=1007 piece=▁wasn\n",
      "bpe_model_trainer.cc(258) LOG(INFO) Added: freq=10 size=840 all=4100 active=1002 piece=▁beginning\n",
      "bpe_model_trainer.cc(258) LOG(INFO) Added: freq=9 size=860 all=4149 active=1051 piece=▁exp\n",
      "bpe_model_trainer.cc(258) LOG(INFO) Added: freq=9 size=880 all=4148 active=1050 piece=▁notic\n",
      "bpe_model_trainer.cc(258) LOG(INFO) Added: freq=8 size=900 all=4143 active=1045 piece=ek\n",
      "bpe_model_trainer.cc(167) LOG(INFO) Updating active symbols. max_freq=8 min_freq=3\n",
      "bpe_model_trainer.cc(258) LOG(INFO) Added: freq=8 size=920 all=4207 active=1059 piece=▁bro\n",
      "bpe_model_trainer.cc(258) LOG(INFO) Added: freq=8 size=940 all=4217 active=1069 piece=▁live\n",
      "bpe_model_trainer.cc(258) LOG(INFO) Added: freq=8 size=960 all=4211 active=1063 piece=▁forgot\n",
      "trainer_interface.cc(615) LOG(INFO) Saving model: model_prefix.model\n",
      "trainer_interface.cc(626) LOG(INFO) Saving vocabs: model_prefix.vocab\n"
     ]
    }
   ],
   "source": [
    "!spm_train \\\n",
    "  --input=train_file_english.txt \\\n",
    "  --model_prefix=model_prefix \\\n",
    "  --vocab_size=1000 \\\n",
    "  --character_coverage=1.0 \\\n",
    "  --model_type=bpe"
   ]
  },
  {
   "cell_type": "code",
   "execution_count": 6,
   "metadata": {},
   "outputs": [],
   "source": [
    "!spm_encode \\\n",
    "  --model=model_prefix.model \\\n",
    "  --output_format=piece \\\n",
    "  < train_file_english.txt \\\n",
    "  > segmented.txt"
   ]
  },
  {
   "cell_type": "code",
   "execution_count": 7,
   "metadata": {},
   "outputs": [],
   "source": [
    "!spm_decode \\\n",
    "  --model=model_prefix.model \\\n",
    "  --input_format=piece \\\n",
    "  < segmented.txt \\\n",
    "  > original.txt"
   ]
  },
  {
   "cell_type": "code",
   "execution_count": 8,
   "metadata": {
    "colab": {
     "base_uri": "https://localhost:8080/"
    },
    "id": "JTx-ofkeKFLQ",
    "outputId": "8c5fde7c-7c8a-40ef-c06e-dca2fcabd190"
   },
   "outputs": [
    {
     "name": "stdout",
     "output_type": "stream",
     "text": [
      "/home/snlp-project-21/SNLP_2021_Final_Project_r1\n",
      "data\t\t    original.txt       test_file_english.txt\n",
      "model_prefix.model  segmented.txt      train_file_english.txt\n",
      "model_prefix.vocab  snlp_latest.ipynb\n"
     ]
    }
   ],
   "source": [
    "!pwd\n",
    "!ls "
   ]
  },
  {
   "cell_type": "markdown",
   "metadata": {},
   "source": [
    "You can also `cd` into another directory:"
   ]
  },
  {
   "cell_type": "code",
   "execution_count": 10,
   "metadata": {},
   "outputs": [
    {
     "name": "stdout",
     "output_type": "stream",
     "text": [
      "Current working directory: /home/snlp-project-21/SNLP_2021_Final_Project_r1\n",
      "/home/snlp-project-21/SNLP_2021_Final_Project_r1/project\n"
     ]
    }
   ],
   "source": [
    "cwd = os.getcwd()\n",
    "print(\"Current working directory: {0}\".format(cwd)) \n",
    "!mkdir project\n",
    "!cp test_file_english.txt project\n",
    "!cp train_file_english.txt project\n",
    "%cd project"
   ]
  },
  {
   "cell_type": "markdown",
   "metadata": {
    "id": "yRODNp4CKFiZ"
   },
   "source": [
    "Alternatively, you can also check the Python API for sentencepiece model training and segmentation and utilise these in your code files.\n",
    "\n",
    "### 2.3 Task\n",
    "\n",
    "You are asked to create data for a language model based on different subword granularity, namely:\n",
    "\n",
    "1. Characters. This can be done manually but also by running BPE with the output vocabulary size being the same as the input alphabet size. (4 points)\n",
    "2. Subword Units: smaller vocabulary, closer to characters. The vocabulary size is usually in the range of 100 to 800 for English. (6 points)\n",
    "3. Subword Units: larger vocabulary, closer to words. The vocabulary size is usually in the range 1500 to 3000 for English. (6 points)\n"
   ]
  },
  {
   "cell_type": "code",
   "execution_count": 11,
   "metadata": {
    "scrolled": false
   },
   "outputs": [
    {
     "name": "stdout",
     "output_type": "stream",
     "text": [
      "sentencepiece_trainer.cc(77) LOG(INFO) Starts training with : \n",
      "trainer_spec {\n",
      "  input: train_file_english.txt\n",
      "  input_format: \n",
      "  model_prefix: model_english_characters\n",
      "  model_type: BPE\n",
      "  vocab_size: 39\n",
      "  self_test_sample_size: 0\n",
      "  character_coverage: 1\n",
      "  input_sentence_size: 0\n",
      "  shuffle_input_sentence: 1\n",
      "  seed_sentencepiece_size: 1000000\n",
      "  shrinking_factor: 0.75\n",
      "  max_sentence_length: 4192\n",
      "  num_threads: 16\n",
      "  num_sub_iterations: 2\n",
      "  max_sentencepiece_length: 16\n",
      "  split_by_unicode_script: 1\n",
      "  split_by_number: 1\n",
      "  split_by_whitespace: 1\n",
      "  split_digits: 0\n",
      "  treat_whitespace_as_suffix: 0\n",
      "  allow_whitespace_only_pieces: 0\n",
      "  required_chars: \n",
      "  byte_fallback: 0\n",
      "  vocabulary_output_piece_score: 1\n",
      "  train_extremely_large_corpus: 0\n",
      "  hard_vocab_limit: 1\n",
      "  use_all_vocab: 0\n",
      "  unk_id: 0\n",
      "  bos_id: 1\n",
      "  eos_id: 2\n",
      "  pad_id: -1\n",
      "  unk_piece: <unk>\n",
      "  bos_piece: <s>\n",
      "  eos_piece: </s>\n",
      "  pad_piece: <pad>\n",
      "  unk_surface:  ⁇ \n",
      "}\n",
      "normalizer_spec {\n",
      "  name: nmt_nfkc\n",
      "  add_dummy_prefix: 1\n",
      "  remove_extra_whitespaces: 1\n",
      "  escape_whitespaces: 1\n",
      "  normalization_rule_tsv: \n",
      "}\n",
      "denormalizer_spec {}\n",
      "trainer_interface.cc(329) LOG(INFO) SentenceIterator is not specified. Using MultiFileSentenceIterator.\n",
      "trainer_interface.cc(178) LOG(INFO) Loading corpus: train_file_english.txt\n",
      "trainer_interface.cc(385) LOG(INFO) Loaded all 780 sentences\n",
      "trainer_interface.cc(400) LOG(INFO) Adding meta_piece: <unk>\n",
      "trainer_interface.cc(400) LOG(INFO) Adding meta_piece: <s>\n",
      "trainer_interface.cc(400) LOG(INFO) Adding meta_piece: </s>\n",
      "trainer_interface.cc(405) LOG(INFO) Normalizing sentences...\n",
      "trainer_interface.cc(466) LOG(INFO) all chars count=112003\n",
      "trainer_interface.cc(487) LOG(INFO) Alphabet size=30\n",
      "trainer_interface.cc(488) LOG(INFO) Final character coverage=1\n",
      "trainer_interface.cc(520) LOG(INFO) Done! preprocessed 780 sentences.\n",
      "trainer_interface.cc(526) LOG(INFO) Tokenizing input sentences with whitespace: 780\n",
      "trainer_interface.cc(537) LOG(INFO) Done! 2625\n",
      "bpe_model_trainer.cc(167) LOG(INFO) Updating active symbols. max_freq=3789 min_freq=1\n",
      "trainer_interface.cc(615) LOG(INFO) Saving model: model_english_characters.model\n",
      "trainer_interface.cc(626) LOG(INFO) Saving vocabs: model_english_characters.vocab\n",
      "sentencepiece_trainer.cc(77) LOG(INFO) Starts training with : \n",
      "trainer_spec {\n",
      "  input: train_file_english.txt\n",
      "  input_format: \n",
      "  model_prefix: model_english_subwords_sm\n",
      "  model_type: BPE\n",
      "  vocab_size: 800\n",
      "  self_test_sample_size: 0\n",
      "  character_coverage: 1\n",
      "  input_sentence_size: 0\n",
      "  shuffle_input_sentence: 1\n",
      "  seed_sentencepiece_size: 1000000\n",
      "  shrinking_factor: 0.75\n",
      "  max_sentence_length: 4192\n",
      "  num_threads: 16\n",
      "  num_sub_iterations: 2\n",
      "  max_sentencepiece_length: 16\n",
      "  split_by_unicode_script: 1\n",
      "  split_by_number: 1\n",
      "  split_by_whitespace: 1\n",
      "  split_digits: 0\n",
      "  treat_whitespace_as_suffix: 0\n",
      "  allow_whitespace_only_pieces: 0\n",
      "  required_chars: \n",
      "  byte_fallback: 0\n",
      "  vocabulary_output_piece_score: 1\n",
      "  train_extremely_large_corpus: 0\n",
      "  hard_vocab_limit: 1\n",
      "  use_all_vocab: 0\n",
      "  unk_id: 0\n",
      "  bos_id: 1\n",
      "  eos_id: 2\n",
      "  pad_id: -1\n",
      "  unk_piece: <unk>\n",
      "  bos_piece: <s>\n",
      "  eos_piece: </s>\n",
      "  pad_piece: <pad>\n",
      "  unk_surface:  ⁇ \n",
      "}\n",
      "normalizer_spec {\n",
      "  name: nmt_nfkc\n",
      "  add_dummy_prefix: 1\n",
      "  remove_extra_whitespaces: 1\n",
      "  escape_whitespaces: 1\n",
      "  normalization_rule_tsv: \n",
      "}\n",
      "denormalizer_spec {}\n",
      "trainer_interface.cc(329) LOG(INFO) SentenceIterator is not specified. Using MultiFileSentenceIterator.\n",
      "trainer_interface.cc(178) LOG(INFO) Loading corpus: train_file_english.txt\n",
      "trainer_interface.cc(385) LOG(INFO) Loaded all 780 sentences\n",
      "trainer_interface.cc(400) LOG(INFO) Adding meta_piece: <unk>\n",
      "trainer_interface.cc(400) LOG(INFO) Adding meta_piece: <s>\n",
      "trainer_interface.cc(400) LOG(INFO) Adding meta_piece: </s>\n",
      "trainer_interface.cc(405) LOG(INFO) Normalizing sentences...\n",
      "trainer_interface.cc(466) LOG(INFO) all chars count=112003\n",
      "trainer_interface.cc(487) LOG(INFO) Alphabet size=30\n",
      "trainer_interface.cc(488) LOG(INFO) Final character coverage=1\n",
      "trainer_interface.cc(520) LOG(INFO) Done! preprocessed 780 sentences.\n",
      "trainer_interface.cc(526) LOG(INFO) Tokenizing input sentences with whitespace: 780\n",
      "trainer_interface.cc(537) LOG(INFO) Done! 2625\n",
      "bpe_model_trainer.cc(167) LOG(INFO) Updating active symbols. max_freq=3789 min_freq=1\n",
      "bpe_model_trainer.cc(258) LOG(INFO) Added: freq=737 size=20 all=796 active=766 piece=▁d\n",
      "bpe_model_trainer.cc(258) LOG(INFO) Added: freq=451 size=40 all=1087 active=1057 piece=ow\n",
      "bpe_model_trainer.cc(258) LOG(INFO) Added: freq=317 size=60 all=1454 active=1424 piece=ot\n",
      "bpe_model_trainer.cc(258) LOG(INFO) Added: freq=205 size=80 all=1727 active=1697 piece=oo\n",
      "bpe_model_trainer.cc(258) LOG(INFO) Added: freq=155 size=100 all=1961 active=1931 piece=▁do\n",
      "bpe_model_trainer.cc(167) LOG(INFO) Updating active symbols. max_freq=153 min_freq=6\n",
      "bpe_model_trainer.cc(258) LOG(INFO) Added: freq=115 size=120 all=2108 active=1142 piece=al\n",
      "bpe_model_trainer.cc(258) LOG(INFO) Added: freq=95 size=140 all=2284 active=1318 piece=pp\n",
      "bpe_model_trainer.cc(258) LOG(INFO) Added: freq=85 size=160 all=2425 active=1459 piece=▁like\n",
      "bpe_model_trainer.cc(258) LOG(INFO) Added: freq=73 size=180 all=2494 active=1528 piece=to\n",
      "bpe_model_trainer.cc(258) LOG(INFO) Added: freq=66 size=200 all=2562 active=1596 piece=▁them\n",
      "bpe_model_trainer.cc(167) LOG(INFO) Updating active symbols. max_freq=65 min_freq=6\n",
      "bpe_model_trainer.cc(258) LOG(INFO) Added: freq=56 size=220 all=2681 active=1119 piece=all\n",
      "bpe_model_trainer.cc(258) LOG(INFO) Added: freq=50 size=240 all=2789 active=1227 piece=▁ma\n",
      "bpe_model_trainer.cc(258) LOG(INFO) Added: freq=46 size=260 all=2939 active=1377 piece=▁ta\n",
      "bpe_model_trainer.cc(258) LOG(INFO) Added: freq=42 size=280 all=3013 active=1451 piece=▁other\n",
      "bpe_model_trainer.cc(258) LOG(INFO) Added: freq=40 size=300 all=3081 active=1519 piece=▁duchess\n",
      "bpe_model_trainer.cc(167) LOG(INFO) Updating active symbols. max_freq=39 min_freq=6\n",
      "bpe_model_trainer.cc(258) LOG(INFO) Added: freq=36 size=320 all=3165 active=1085 piece=abb\n",
      "bpe_model_trainer.cc(258) LOG(INFO) Added: freq=34 size=340 all=3197 active=1117 piece=us\n",
      "bpe_model_trainer.cc(258) LOG(INFO) Added: freq=31 size=360 all=3310 active=1230 piece=▁him\n",
      "bpe_model_trainer.cc(258) LOG(INFO) Added: freq=28 size=380 all=3340 active=1260 piece=▁day\n",
      "bpe_model_trainer.cc(258) LOG(INFO) Added: freq=27 size=400 all=3354 active=1274 piece=▁wonder\n",
      "bpe_model_trainer.cc(167) LOG(INFO) Updating active symbols. max_freq=27 min_freq=5\n",
      "bpe_model_trainer.cc(258) LOG(INFO) Added: freq=25 size=420 all=3412 active=1056 piece=ation\n",
      "bpe_model_trainer.cc(258) LOG(INFO) Added: freq=24 size=440 all=3472 active=1116 piece=▁without\n",
      "bpe_model_trainer.cc(258) LOG(INFO) Added: freq=22 size=460 all=3527 active=1171 piece=one\n",
      "bpe_model_trainer.cc(258) LOG(INFO) Added: freq=21 size=480 all=3597 active=1241 piece=ate\n",
      "bpe_model_trainer.cc(258) LOG(INFO) Added: freq=20 size=500 all=3644 active=1288 piece=umb\n",
      "bpe_model_trainer.cc(167) LOG(INFO) Updating active symbols. max_freq=20 min_freq=4\n",
      "bpe_model_trainer.cc(258) LOG(INFO) Added: freq=19 size=520 all=3704 active=1046 piece=▁tre\n",
      "bpe_model_trainer.cc(258) LOG(INFO) Added: freq=18 size=540 all=3744 active=1086 piece=▁feet\n",
      "bpe_model_trainer.cc(258) LOG(INFO) Added: freq=17 size=560 all=3783 active=1125 piece=▁wat\n",
      "bpe_model_trainer.cc(258) LOG(INFO) Added: freq=16 size=580 all=3824 active=1166 piece=▁face\n",
      "bpe_model_trainer.cc(258) LOG(INFO) Added: freq=15 size=600 all=3864 active=1206 piece=ause\n",
      "bpe_model_trainer.cc(167) LOG(INFO) Updating active symbols. max_freq=15 min_freq=4\n",
      "bpe_model_trainer.cc(258) LOG(INFO) Added: freq=15 size=620 all=3892 active=1027 piece=▁repeat\n",
      "bpe_model_trainer.cc(258) LOG(INFO) Added: freq=14 size=640 all=3930 active=1065 piece=▁asked\n",
      "bpe_model_trainer.cc(258) LOG(INFO) Added: freq=13 size=660 all=3958 active=1093 piece=▁sw\n",
      "bpe_model_trainer.cc(258) LOG(INFO) Added: freq=13 size=680 all=3964 active=1099 piece=▁inter\n",
      "bpe_model_trainer.cc(258) LOG(INFO) Added: freq=12 size=700 all=3996 active=1131 piece=ople\n",
      "bpe_model_trainer.cc(167) LOG(INFO) Updating active symbols. max_freq=12 min_freq=3\n",
      "bpe_model_trainer.cc(258) LOG(INFO) Added: freq=12 size=720 all=4018 active=1022 piece=▁room\n",
      "bpe_model_trainer.cc(258) LOG(INFO) Added: freq=11 size=740 all=4018 active=1022 piece=icu\n",
      "bpe_model_trainer.cc(258) LOG(INFO) Added: freq=11 size=760 all=4064 active=1068 piece=▁yes\n",
      "trainer_interface.cc(615) LOG(INFO) Saving model: model_english_subwords_sm.model\n",
      "trainer_interface.cc(626) LOG(INFO) Saving vocabs: model_english_subwords_sm.vocab\n"
     ]
    },
    {
     "name": "stdout",
     "output_type": "stream",
     "text": [
      "sentencepiece_trainer.cc(77) LOG(INFO) Starts training with : \n",
      "trainer_spec {\n",
      "  input: train_file_english.txt\n",
      "  input_format: \n",
      "  model_prefix: model_english_subwords_lg\n",
      "  model_type: BPE\n",
      "  vocab_size: 3000\n",
      "  self_test_sample_size: 0\n",
      "  character_coverage: 1\n",
      "  input_sentence_size: 0\n",
      "  shuffle_input_sentence: 1\n",
      "  seed_sentencepiece_size: 1000000\n",
      "  shrinking_factor: 0.75\n",
      "  max_sentence_length: 4192\n",
      "  num_threads: 16\n",
      "  num_sub_iterations: 2\n",
      "  max_sentencepiece_length: 16\n",
      "  split_by_unicode_script: 1\n",
      "  split_by_number: 1\n",
      "  split_by_whitespace: 1\n",
      "  split_digits: 0\n",
      "  treat_whitespace_as_suffix: 0\n",
      "  allow_whitespace_only_pieces: 0\n",
      "  required_chars: \n",
      "  byte_fallback: 0\n",
      "  vocabulary_output_piece_score: 1\n",
      "  train_extremely_large_corpus: 0\n",
      "  hard_vocab_limit: 1\n",
      "  use_all_vocab: 0\n",
      "  unk_id: 0\n",
      "  bos_id: 1\n",
      "  eos_id: 2\n",
      "  pad_id: -1\n",
      "  unk_piece: <unk>\n",
      "  bos_piece: <s>\n",
      "  eos_piece: </s>\n",
      "  pad_piece: <pad>\n",
      "  unk_surface:  ⁇ \n",
      "}\n",
      "normalizer_spec {\n",
      "  name: nmt_nfkc\n",
      "  add_dummy_prefix: 1\n",
      "  remove_extra_whitespaces: 1\n",
      "  escape_whitespaces: 1\n",
      "  normalization_rule_tsv: \n",
      "}\n",
      "denormalizer_spec {}\n",
      "trainer_interface.cc(329) LOG(INFO) SentenceIterator is not specified. Using MultiFileSentenceIterator.\n",
      "trainer_interface.cc(178) LOG(INFO) Loading corpus: train_file_english.txt\n",
      "trainer_interface.cc(385) LOG(INFO) Loaded all 780 sentences\n",
      "trainer_interface.cc(400) LOG(INFO) Adding meta_piece: <unk>\n",
      "trainer_interface.cc(400) LOG(INFO) Adding meta_piece: <s>\n",
      "trainer_interface.cc(400) LOG(INFO) Adding meta_piece: </s>\n",
      "trainer_interface.cc(405) LOG(INFO) Normalizing sentences...\n",
      "trainer_interface.cc(466) LOG(INFO) all chars count=112003\n",
      "trainer_interface.cc(487) LOG(INFO) Alphabet size=30\n",
      "trainer_interface.cc(488) LOG(INFO) Final character coverage=1\n",
      "trainer_interface.cc(520) LOG(INFO) Done! preprocessed 780 sentences.\n",
      "trainer_interface.cc(526) LOG(INFO) Tokenizing input sentences with whitespace: 780\n",
      "trainer_interface.cc(537) LOG(INFO) Done! 2625\n",
      "bpe_model_trainer.cc(167) LOG(INFO) Updating active symbols. max_freq=3789 min_freq=1\n",
      "bpe_model_trainer.cc(258) LOG(INFO) Added: freq=737 size=20 all=796 active=766 piece=▁d\n",
      "bpe_model_trainer.cc(258) LOG(INFO) Added: freq=451 size=40 all=1087 active=1057 piece=ow\n",
      "bpe_model_trainer.cc(258) LOG(INFO) Added: freq=317 size=60 all=1454 active=1424 piece=ot\n",
      "bpe_model_trainer.cc(258) LOG(INFO) Added: freq=205 size=80 all=1727 active=1697 piece=oo\n",
      "bpe_model_trainer.cc(258) LOG(INFO) Added: freq=155 size=100 all=1961 active=1931 piece=▁do\n",
      "bpe_model_trainer.cc(167) LOG(INFO) Updating active symbols. max_freq=153 min_freq=6\n",
      "bpe_model_trainer.cc(258) LOG(INFO) Added: freq=115 size=120 all=2108 active=1142 piece=al\n",
      "bpe_model_trainer.cc(258) LOG(INFO) Added: freq=95 size=140 all=2284 active=1318 piece=pp\n",
      "bpe_model_trainer.cc(258) LOG(INFO) Added: freq=85 size=160 all=2425 active=1459 piece=▁like\n",
      "bpe_model_trainer.cc(258) LOG(INFO) Added: freq=73 size=180 all=2494 active=1528 piece=to\n",
      "bpe_model_trainer.cc(258) LOG(INFO) Added: freq=66 size=200 all=2562 active=1596 piece=▁them\n",
      "bpe_model_trainer.cc(167) LOG(INFO) Updating active symbols. max_freq=65 min_freq=6\n",
      "bpe_model_trainer.cc(258) LOG(INFO) Added: freq=56 size=220 all=2681 active=1119 piece=all\n",
      "bpe_model_trainer.cc(258) LOG(INFO) Added: freq=50 size=240 all=2789 active=1227 piece=▁ma\n",
      "bpe_model_trainer.cc(258) LOG(INFO) Added: freq=46 size=260 all=2939 active=1377 piece=▁ta\n",
      "bpe_model_trainer.cc(258) LOG(INFO) Added: freq=42 size=280 all=3013 active=1451 piece=▁other\n",
      "bpe_model_trainer.cc(258) LOG(INFO) Added: freq=40 size=300 all=3081 active=1519 piece=▁duchess\n",
      "bpe_model_trainer.cc(167) LOG(INFO) Updating active symbols. max_freq=39 min_freq=6\n",
      "bpe_model_trainer.cc(258) LOG(INFO) Added: freq=36 size=320 all=3165 active=1085 piece=abb\n",
      "bpe_model_trainer.cc(258) LOG(INFO) Added: freq=34 size=340 all=3197 active=1117 piece=us\n",
      "bpe_model_trainer.cc(258) LOG(INFO) Added: freq=31 size=360 all=3310 active=1230 piece=▁him\n",
      "bpe_model_trainer.cc(258) LOG(INFO) Added: freq=28 size=380 all=3340 active=1260 piece=▁day\n",
      "bpe_model_trainer.cc(258) LOG(INFO) Added: freq=27 size=400 all=3354 active=1274 piece=▁wonder\n",
      "bpe_model_trainer.cc(167) LOG(INFO) Updating active symbols. max_freq=27 min_freq=5\n",
      "bpe_model_trainer.cc(258) LOG(INFO) Added: freq=25 size=420 all=3412 active=1056 piece=ation\n",
      "bpe_model_trainer.cc(258) LOG(INFO) Added: freq=24 size=440 all=3472 active=1116 piece=▁without\n",
      "bpe_model_trainer.cc(258) LOG(INFO) Added: freq=22 size=460 all=3527 active=1171 piece=one\n",
      "bpe_model_trainer.cc(258) LOG(INFO) Added: freq=21 size=480 all=3597 active=1241 piece=ate\n",
      "bpe_model_trainer.cc(258) LOG(INFO) Added: freq=20 size=500 all=3644 active=1288 piece=umb\n",
      "bpe_model_trainer.cc(167) LOG(INFO) Updating active symbols. max_freq=20 min_freq=4\n",
      "bpe_model_trainer.cc(258) LOG(INFO) Added: freq=19 size=520 all=3704 active=1046 piece=▁tre\n",
      "bpe_model_trainer.cc(258) LOG(INFO) Added: freq=18 size=540 all=3744 active=1086 piece=▁feet\n",
      "bpe_model_trainer.cc(258) LOG(INFO) Added: freq=17 size=560 all=3783 active=1125 piece=▁wat\n",
      "bpe_model_trainer.cc(258) LOG(INFO) Added: freq=16 size=580 all=3824 active=1166 piece=▁face\n",
      "bpe_model_trainer.cc(258) LOG(INFO) Added: freq=15 size=600 all=3864 active=1206 piece=ause\n",
      "bpe_model_trainer.cc(167) LOG(INFO) Updating active symbols. max_freq=15 min_freq=4\n",
      "bpe_model_trainer.cc(258) LOG(INFO) Added: freq=15 size=620 all=3892 active=1027 piece=▁repeat\n",
      "bpe_model_trainer.cc(258) LOG(INFO) Added: freq=14 size=640 all=3930 active=1065 piece=▁asked\n",
      "bpe_model_trainer.cc(258) LOG(INFO) Added: freq=13 size=660 all=3958 active=1093 piece=▁sw\n",
      "bpe_model_trainer.cc(258) LOG(INFO) Added: freq=13 size=680 all=3964 active=1099 piece=▁inter\n",
      "bpe_model_trainer.cc(258) LOG(INFO) Added: freq=12 size=700 all=3996 active=1131 piece=ople\n",
      "bpe_model_trainer.cc(167) LOG(INFO) Updating active symbols. max_freq=12 min_freq=3\n",
      "bpe_model_trainer.cc(258) LOG(INFO) Added: freq=12 size=720 all=4018 active=1022 piece=▁room\n",
      "bpe_model_trainer.cc(258) LOG(INFO) Added: freq=11 size=740 all=4018 active=1022 piece=icu\n",
      "bpe_model_trainer.cc(258) LOG(INFO) Added: freq=11 size=760 all=4064 active=1068 piece=▁yes\n",
      "bpe_model_trainer.cc(258) LOG(INFO) Added: freq=11 size=780 all=4065 active=1069 piece=▁really\n",
      "bpe_model_trainer.cc(258) LOG(INFO) Added: freq=10 size=800 all=4096 active=1100 piece=isten\n",
      "bpe_model_trainer.cc(167) LOG(INFO) Updating active symbols. max_freq=10 min_freq=3\n",
      "bpe_model_trainer.cc(258) LOG(INFO) Added: freq=10 size=820 all=4105 active=1007 piece=▁wasn\n",
      "bpe_model_trainer.cc(258) LOG(INFO) Added: freq=10 size=840 all=4100 active=1002 piece=▁beginning\n",
      "bpe_model_trainer.cc(258) LOG(INFO) Added: freq=9 size=860 all=4149 active=1051 piece=▁exp\n",
      "bpe_model_trainer.cc(258) LOG(INFO) Added: freq=9 size=880 all=4148 active=1050 piece=▁notic\n",
      "bpe_model_trainer.cc(258) LOG(INFO) Added: freq=8 size=900 all=4143 active=1045 piece=ek\n",
      "bpe_model_trainer.cc(167) LOG(INFO) Updating active symbols. max_freq=8 min_freq=3\n",
      "bpe_model_trainer.cc(258) LOG(INFO) Added: freq=8 size=920 all=4207 active=1059 piece=▁bro\n",
      "bpe_model_trainer.cc(258) LOG(INFO) Added: freq=8 size=940 all=4217 active=1069 piece=▁live\n",
      "bpe_model_trainer.cc(258) LOG(INFO) Added: freq=8 size=960 all=4211 active=1063 piece=▁forgot\n",
      "bpe_model_trainer.cc(258) LOG(INFO) Added: freq=8 size=980 all=4196 active=1048 piece=▁offended\n",
      "bpe_model_trainer.cc(258) LOG(INFO) Added: freq=7 size=1000 all=4254 active=1106 piece=lain\n",
      "bpe_model_trainer.cc(167) LOG(INFO) Updating active symbols. max_freq=7 min_freq=2\n",
      "bpe_model_trainer.cc(258) LOG(INFO) Added: freq=7 size=1020 all=4274 active=1017 piece=▁care\n",
      "bpe_model_trainer.cc(258) LOG(INFO) Added: freq=7 size=1040 all=4273 active=1016 piece=▁crowd\n",
      "bpe_model_trainer.cc(258) LOG(INFO) Added: freq=7 size=1060 all=4268 active=1011 piece=▁myself\n",
      "bpe_model_trainer.cc(258) LOG(INFO) Added: freq=7 size=1080 all=4259 active=1002 piece=▁creatures\n",
      "bpe_model_trainer.cc(258) LOG(INFO) Added: freq=6 size=1100 all=4293 active=1036 piece=ned\n",
      "bpe_model_trainer.cc(167) LOG(INFO) Updating active symbols. max_freq=6 min_freq=2\n",
      "bpe_model_trainer.cc(258) LOG(INFO) Added: freq=6 size=1120 all=4319 active=1024 piece=▁bea\n",
      "bpe_model_trainer.cc(258) LOG(INFO) Added: freq=6 size=1140 all=4343 active=1048 piece=erson\n",
      "bpe_model_trainer.cc(258) LOG(INFO) Added: freq=6 size=1160 all=4342 active=1047 piece=▁simp\n",
      "bpe_model_trainer.cc(258) LOG(INFO) Added: freq=6 size=1180 all=4337 active=1042 piece=▁inches\n",
      "bpe_model_trainer.cc(258) LOG(INFO) Added: freq=6 size=1200 all=4322 active=1027 piece=▁followed\n",
      "bpe_model_trainer.cc(167) LOG(INFO) Updating active symbols. max_freq=6 min_freq=2\n",
      "bpe_model_trainer.cc(258) LOG(INFO) Added: freq=5 size=1220 all=4333 active=1012 piece=gar\n",
      "bpe_model_trainer.cc(258) LOG(INFO) Added: freq=5 size=1240 all=4359 active=1038 piece=sing\n",
      "bpe_model_trainer.cc(258) LOG(INFO) Added: freq=5 size=1260 all=4369 active=1048 piece=ookah\n",
      "bpe_model_trainer.cc(258) LOG(INFO) Added: freq=5 size=1280 all=4366 active=1045 piece=▁nine\n",
      "bpe_model_trainer.cc(258) LOG(INFO) Added: freq=5 size=1300 all=4369 active=1048 piece=▁leave\n",
      "bpe_model_trainer.cc(167) LOG(INFO) Updating active symbols. max_freq=5 min_freq=2\n",
      "bpe_model_trainer.cc(258) LOG(INFO) Added: freq=5 size=1320 all=4358 active=990 piece=▁leaves\n",
      "bpe_model_trainer.cc(258) LOG(INFO) Added: freq=5 size=1340 all=4343 active=975 piece=▁flamingo\n",
      "bpe_model_trainer.cc(258) LOG(INFO) Added: freq=4 size=1360 all=4359 active=991 piece=bow\n",
      "bpe_model_trainer.cc(258) LOG(INFO) Added: freq=4 size=1380 all=4398 active=1030 piece=▁tu\n",
      "bpe_model_trainer.cc(258) LOG(INFO) Added: freq=4 size=1400 all=4416 active=1048 piece=side\n",
      "bpe_model_trainer.cc(167) LOG(INFO) Updating active symbols. max_freq=4 min_freq=2\n",
      "bpe_model_trainer.cc(258) LOG(INFO) Added: freq=4 size=1420 all=4430 active=1013 piece=▁sis\n",
      "bpe_model_trainer.cc(258) LOG(INFO) Added: freq=4 size=1440 all=4449 active=1032 piece=where\n",
      "bpe_model_trainer.cc(258) LOG(INFO) Added: freq=4 size=1460 all=4448 active=1031 piece=▁shan\n",
      "bpe_model_trainer.cc(258) LOG(INFO) Added: freq=4 size=1480 all=4443 active=1026 piece=▁elbow\n",
      "bpe_model_trainer.cc(258) LOG(INFO) Added: freq=4 size=1500 all=4430 active=1013 piece=▁since\n",
      "bpe_model_trainer.cc(167) LOG(INFO) Updating active symbols. max_freq=4 min_freq=2\n",
      "bpe_model_trainer.cc(258) LOG(INFO) Added: freq=4 size=1520 all=4424 active=995 piece=▁expect\n",
      "bpe_model_trainer.cc(258) LOG(INFO) Added: freq=4 size=1540 all=4416 active=987 piece=▁wanted\n",
      "bpe_model_trainer.cc(258) LOG(INFO) Added: freq=4 size=1560 all=4397 active=968 piece=▁pictures\n",
      "bpe_model_trainer.cc(258) LOG(INFO) Added: freq=4 size=1580 all=4381 active=952 piece=▁shrinking\n",
      "bpe_model_trainer.cc(258) LOG(INFO) Added: freq=3 size=1600 all=4390 active=961 piece=ary\n",
      "bpe_model_trainer.cc(167) LOG(INFO) Updating active symbols. max_freq=3 min_freq=1\n",
      "bpe_model_trainer.cc(258) LOG(INFO) Added: freq=3 size=1620 all=4419 active=1028 piece=ury\n",
      "bpe_model_trainer.cc(258) LOG(INFO) Added: freq=3 size=1640 all=4435 active=1044 piece=oose\n",
      "bpe_model_trainer.cc(258) LOG(INFO) Added: freq=3 size=1660 all=4451 active=1060 piece=▁nor\n",
      "bpe_model_trainer.cc(258) LOG(INFO) Added: freq=3 size=1680 all=4459 active=1068 piece=lling\n",
      "bpe_model_trainer.cc(258) LOG(INFO) Added: freq=3 size=1700 all=4458 active=1067 piece=▁fear\n",
      "bpe_model_trainer.cc(167) LOG(INFO) Updating active symbols. max_freq=3 min_freq=1\n"
     ]
    },
    {
     "name": "stdout",
     "output_type": "stream",
     "text": [
      "bpe_model_trainer.cc(258) LOG(INFO) Added: freq=3 size=1720 all=4452 active=995 piece=▁pigs\n",
      "bpe_model_trainer.cc(258) LOG(INFO) Added: freq=3 size=1740 all=4453 active=996 piece=▁allow\n",
      "bpe_model_trainer.cc(258) LOG(INFO) Added: freq=3 size=1760 all=4444 active=987 piece=▁noise\n",
      "bpe_model_trainer.cc(258) LOG(INFO) Added: freq=3 size=1780 all=4430 active=973 piece=▁deeply\n",
      "bpe_model_trainer.cc(258) LOG(INFO) Added: freq=3 size=1800 all=4413 active=956 piece=▁simply\n",
      "bpe_model_trainer.cc(167) LOG(INFO) Updating active symbols. max_freq=3 min_freq=1\n",
      "bpe_model_trainer.cc(258) LOG(INFO) Added: freq=3 size=1820 all=4393 active=981 piece=▁further\n",
      "bpe_model_trainer.cc(258) LOG(INFO) Added: freq=3 size=1840 all=4373 active=961 piece=▁sobbing\n",
      "bpe_model_trainer.cc(258) LOG(INFO) Added: freq=3 size=1860 all=4354 active=942 piece=▁advantage\n",
      "bpe_model_trainer.cc(258) LOG(INFO) Added: freq=3 size=1880 all=4334 active=922 piece=▁directions\n",
      "bpe_model_trainer.cc(258) LOG(INFO) Added: freq=2 size=1900 all=4352 active=940 piece=ang\n",
      "bpe_model_trainer.cc(167) LOG(INFO) Updating active symbols. max_freq=2 min_freq=1\n",
      "bpe_model_trainer.cc(258) LOG(INFO) Added: freq=2 size=1920 all=4366 active=1013 piece=ote\n",
      "bpe_model_trainer.cc(258) LOG(INFO) Added: freq=2 size=1940 all=4378 active=1025 piece=▁ob\n",
      "bpe_model_trainer.cc(258) LOG(INFO) Added: freq=2 size=1960 all=4388 active=1035 piece=fits\n",
      "bpe_model_trainer.cc(258) LOG(INFO) Added: freq=2 size=1980 all=4401 active=1048 piece=reak\n",
      "bpe_model_trainer.cc(258) LOG(INFO) Added: freq=2 size=2000 all=4406 active=1053 piece=▁ele\n",
      "bpe_model_trainer.cc(167) LOG(INFO) Updating active symbols. max_freq=2 min_freq=1\n",
      "bpe_model_trainer.cc(258) LOG(INFO) Added: freq=2 size=2020 all=4409 active=1002 piece=▁rid\n",
      "bpe_model_trainer.cc(258) LOG(INFO) Added: freq=2 size=2040 all=4413 active=1006 piece=asion\n",
      "bpe_model_trainer.cc(258) LOG(INFO) Added: freq=2 size=2060 all=4423 active=1016 piece=llent\n",
      "bpe_model_trainer.cc(258) LOG(INFO) Added: freq=2 size=2080 all=4423 active=1016 piece=▁beds\n",
      "bpe_model_trainer.cc(258) LOG(INFO) Added: freq=2 size=2100 all=4418 active=1011 piece=▁fain\n",
      "bpe_model_trainer.cc(167) LOG(INFO) Updating active symbols. max_freq=2 min_freq=1\n",
      "bpe_model_trainer.cc(258) LOG(INFO) Added: freq=2 size=2120 all=4408 active=989 piece=▁none\n",
      "bpe_model_trainer.cc(258) LOG(INFO) Added: freq=2 size=2140 all=4398 active=979 piece=▁undo\n",
      "bpe_model_trainer.cc(258) LOG(INFO) Added: freq=2 size=2160 all=4394 active=975 piece=owning\n",
      "bpe_model_trainer.cc(258) LOG(INFO) Added: freq=2 size=2180 all=4381 active=962 piece=▁doors\n",
      "bpe_model_trainer.cc(258) LOG(INFO) Added: freq=2 size=2200 all=4367 active=948 piece=▁label\n",
      "bpe_model_trainer.cc(167) LOG(INFO) Updating active symbols. max_freq=2 min_freq=1\n",
      "bpe_model_trainer.cc(258) LOG(INFO) Added: freq=2 size=2220 all=4355 active=989 piece=▁sugar\n",
      "bpe_model_trainer.cc(258) LOG(INFO) Added: freq=2 size=2240 all=4343 active=977 piece=linging\n",
      "bpe_model_trainer.cc(258) LOG(INFO) Added: freq=2 size=2260 all=4335 active=969 piece=▁feeble\n",
      "bpe_model_trainer.cc(258) LOG(INFO) Added: freq=2 size=2280 all=4320 active=954 piece=▁loudly\n",
      "bpe_model_trainer.cc(258) LOG(INFO) Added: freq=2 size=2300 all=4305 active=939 piece=▁shower\n",
      "bpe_model_trainer.cc(167) LOG(INFO) Updating active symbols. max_freq=2 min_freq=1\n",
      "bpe_model_trainer.cc(258) LOG(INFO) Added: freq=2 size=2320 all=4288 active=984 piece=▁anxious\n",
      "bpe_model_trainer.cc(258) LOG(INFO) Added: freq=2 size=2340 all=4270 active=966 piece=▁general\n",
      "bpe_model_trainer.cc(258) LOG(INFO) Added: freq=2 size=2360 all=4250 active=946 piece=▁putting\n",
      "bpe_model_trainer.cc(258) LOG(INFO) Added: freq=2 size=2380 all=4231 active=927 piece=▁strange\n",
      "bpe_model_trainer.cc(258) LOG(INFO) Added: freq=2 size=2400 all=4214 active=910 piece=▁directly\n",
      "bpe_model_trainer.cc(167) LOG(INFO) Updating active symbols. max_freq=2 min_freq=1\n",
      "bpe_model_trainer.cc(258) LOG(INFO) Added: freq=2 size=2420 all=4196 active=983 piece=▁smallest\n",
      "bpe_model_trainer.cc(258) LOG(INFO) Added: freq=2 size=2440 all=4176 active=963 piece=▁conqueror\n",
      "bpe_model_trainer.cc(258) LOG(INFO) Added: freq=2 size=2460 all=4156 active=943 piece=▁splashing\n",
      "bpe_model_trainer.cc(258) LOG(INFO) Added: freq=2 size=2480 all=4136 active=923 piece=▁encouraging\n",
      "bpe_model_trainer.cc(258) LOG(INFO) Added: freq=1 size=2500 all=4136 active=923 piece=idy\n",
      "bpe_model_trainer.cc(167) LOG(INFO) Updating active symbols. max_freq=1 min_freq=1\n",
      "bpe_model_trainer.cc(258) LOG(INFO) Added: freq=1 size=2520 all=4141 active=1005 piece=ker\n",
      "bpe_model_trainer.cc(258) LOG(INFO) Added: freq=1 size=2540 all=4147 active=1011 piece=sol\n",
      "bpe_model_trainer.cc(258) LOG(INFO) Added: freq=1 size=2560 all=4152 active=1016 piece=▁oy\n",
      "bpe_model_trainer.cc(258) LOG(INFO) Added: freq=1 size=2580 all=4155 active=1019 piece=enni\n",
      "bpe_model_trainer.cc(258) LOG(INFO) Added: freq=1 size=2600 all=4160 active=1024 piece=lmon\n",
      "bpe_model_trainer.cc(167) LOG(INFO) Updating active symbols. max_freq=1 min_freq=1\n",
      "bpe_model_trainer.cc(258) LOG(INFO) Added: freq=1 size=2620 all=4166 active=1006 piece=mpty\n",
      "bpe_model_trainer.cc(258) LOG(INFO) Added: freq=1 size=2640 all=4172 active=1012 piece=umst\n",
      "bpe_model_trainer.cc(258) LOG(INFO) Added: freq=1 size=2660 all=4171 active=1011 piece=▁dig\n",
      "bpe_model_trainer.cc(258) LOG(INFO) Added: freq=1 size=2680 all=4159 active=999 piece=▁sco\n",
      "bpe_model_trainer.cc(258) LOG(INFO) Added: freq=1 size=2700 all=4156 active=996 piece=ashed\n",
      "bpe_model_trainer.cc(167) LOG(INFO) Updating active symbols. max_freq=1 min_freq=1\n",
      "bpe_model_trainer.cc(258) LOG(INFO) Added: freq=1 size=2720 all=4160 active=1004 piece=▁cun\n",
      "bpe_model_trainer.cc(258) LOG(INFO) Added: freq=1 size=2740 all=4157 active=1001 piece=ening\n",
      "bpe_model_trainer.cc(258) LOG(INFO) Added: freq=1 size=2760 all=4159 active=1003 piece=journ\n",
      "bpe_model_trainer.cc(258) LOG(INFO) Added: freq=1 size=2780 all=4160 active=1004 piece=ppery\n",
      "bpe_model_trainer.cc(258) LOG(INFO) Added: freq=1 size=2800 all=4161 active=1005 piece=▁airs\n",
      "bpe_model_trainer.cc(167) LOG(INFO) Updating active symbols. max_freq=1 min_freq=1\n",
      "bpe_model_trainer.cc(258) LOG(INFO) Added: freq=1 size=2820 all=4159 active=999 piece=▁pow\n",
      "bpe_model_trainer.cc(258) LOG(INFO) Added: freq=1 size=2840 all=4152 active=992 piece=▁chop\n",
      "bpe_model_trainer.cc(258) LOG(INFO) Added: freq=1 size=2860 all=4140 active=980 piece=▁fool\n",
      "bpe_model_trainer.cc(258) LOG(INFO) Added: freq=1 size=2880 all=4126 active=966 piece=▁lock\n",
      "bpe_model_trainer.cc(258) LOG(INFO) Added: freq=1 size=2900 all=4114 active=954 piece=▁pope\n",
      "bpe_model_trainer.cc(167) LOG(INFO) Updating active symbols. max_freq=1 min_freq=1\n",
      "bpe_model_trainer.cc(258) LOG(INFO) Added: freq=1 size=2920 all=4113 active=1000 piece=anter\n",
      "bpe_model_trainer.cc(258) LOG(INFO) Added: freq=1 size=2940 all=4104 active=991 piece=▁rope\n",
      "bpe_model_trainer.cc(258) LOG(INFO) Added: freq=1 size=2960 all=4093 active=980 piece=▁toes\n",
      "trainer_interface.cc(615) LOG(INFO) Saving model: model_english_subwords_lg.model\n",
      "trainer_interface.cc(626) LOG(INFO) Saving vocabs: model_english_subwords_lg.vocab\n"
     ]
    }
   ],
   "source": [
    "!spm_train \\\n",
    "  --input=train_file_english.txt \\\n",
    "  --model_prefix=model_english_characters \\\n",
    "  --vocab_size=39\\\n",
    "  --character_coverage=1.0 \\\n",
    "  --model_type=bpe\n",
    "\n",
    "\n",
    "\n",
    "\n",
    "!spm_train \\\n",
    "  --input=train_file_english.txt \\\n",
    "  --model_prefix=model_english_subwords_sm \\\n",
    "  --vocab_size=800 \\\n",
    "  --character_coverage=1.0 \\\n",
    "  --model_type=bpe\n",
    "\n",
    "\n",
    "\n",
    "!spm_train \\\n",
    "  --input=train_file_english.txt \\\n",
    "  --model_prefix=model_english_subwords_lg \\\n",
    "  --vocab_size=3000 \\\n",
    "  --character_coverage=1.0 \\\n",
    "  --model_type=bpe"
   ]
  },
  {
   "cell_type": "code",
   "execution_count": 12,
   "metadata": {},
   "outputs": [],
   "source": [
    "#encoding using the train file for 1.charachter 2.subword units small 3.sub word units large\n",
    "\n",
    "!spm_encode \\\n",
    "  --model=model_english_characters.model \\\n",
    "  --output_format=piece \\\n",
    "  < train_file_english.txt \\\n",
    "  > segmented_english_charachter_train.txt\n",
    "\n",
    "\n",
    "!spm_encode \\\n",
    "  --model=model_english_subwords_sm.model \\\n",
    "  --output_format=piece \\\n",
    "  < train_file_english.txt \\\n",
    "  > segmented_english_subword_sm_train.txt\n",
    "\n",
    "\n",
    "!spm_encode \\\n",
    "  --model=model_english_subwords_lg.model \\\n",
    "  --output_format=piece \\\n",
    "  < train_file_english.txt \\\n",
    "  > segmented_english_subword_lg_train.txt\n"
   ]
  },
  {
   "cell_type": "code",
   "execution_count": 13,
   "metadata": {},
   "outputs": [],
   "source": [
    "#encoding using the test file for 1.charachter 2.subword units small 3.sub word units large\n",
    "\n",
    "!spm_encode \\\n",
    "  --model=model_english_characters.model \\\n",
    "  --output_format=piece \\\n",
    "  < test_file_english.txt \\\n",
    "  > segmented_english_charachter_test.txt\n",
    "\n",
    "!spm_encode \\\n",
    "  --model=model_english_subwords_sm.model \\\n",
    "  --output_format=piece \\\n",
    "  < test_file_english.txt \\\n",
    "  > segmented_english_subword_sm_test.txt\n",
    "\n",
    "!spm_encode \\\n",
    "  --model=model_english_subwords_lg.model \\\n",
    "  --output_format=piece \\\n",
    "  < test_file_english.txt \\\n",
    "  > segmented_english_subword_lg_test.txt\n"
   ]
  },
  {
   "cell_type": "markdown",
   "metadata": {
    "id": "DTJiQ24YGqJU"
   },
   "source": [
    "## **3 LM Training (20 point)**\n"
   ]
  },
  {
   "cell_type": "code",
   "execution_count": 14,
   "metadata": {
    "scrolled": false
   },
   "outputs": [
    {
     "name": "stdout",
     "output_type": "stream",
     "text": [
      "debug mode: 2\n",
      "train file: ../../../segmented_english_charachter_train.txt\n",
      "valid file: ../../../segmented_english_charachter_test.txt\n",
      "class size: 9999\n",
      "Hidden layer size: 40\n",
      "BPTT: 3\n",
      "Rand seed: 1\n",
      "rnnlm file: model\n",
      "Starting training using file ../../../segmented_english_charachter_train.txt\n",
      "Vocab size: 37\n",
      "Words in train file: 97450\n",
      "WARNING: number of classes exceeds vocabulary size!\n",
      "Iter:   0\tAlpha: 0.100000\t   TRAIN entropy: 3.3822    Words/sec: 579.6   VALID entropy: 3.2257\n",
      "Iter:   1\tAlpha: 0.100000\t   TRAIN entropy: 2.9057    Words/sec: 1234.1   VALID entropy: 3.0975\n",
      "Iter:   2\tAlpha: 0.100000\t   TRAIN entropy: 2.7895    Words/sec: 1256.4   VALID entropy: 3.0419\n",
      "Iter:   3\tAlpha: 0.100000\t   TRAIN entropy: 2.7335    Words/sec: 1288.0   VALID entropy: 3.0280\n",
      "Iter:   4\tAlpha: 0.100000\t   TRAIN entropy: 2.7006    Words/sec: 1507.6   VALID entropy: 3.0089\n",
      "Iter:   5\tAlpha: 0.100000\t   TRAIN entropy: 2.6767    Words/sec: 1497.5   VALID entropy: 2.9964\n",
      "Iter:   6\tAlpha: 0.100000\t   TRAIN entropy: 2.6607    Words/sec: 1510.1   VALID entropy: 2.9798\n",
      "Iter:   7\tAlpha: 0.100000\t   TRAIN entropy: 2.6484    Words/sec: 1514.4   VALID entropy: 2.9691\n",
      "Iter:   8\tAlpha: 0.100000\t   TRAIN entropy: 2.6381    Words/sec: 1501.1   VALID entropy: 2.9681\n",
      "Iter:   9\tAlpha: 0.050000\t   TRAIN entropy: 2.5495    Words/sec: 1509.5   VALID entropy: 2.8400\n",
      "Iter:  10\tAlpha: 0.025000\t   TRAIN entropy: 2.5032    Words/sec: 1504.2   VALID entropy: 2.7658\n",
      "Iter:  11\tAlpha: 0.012500\t   TRAIN entropy: 2.4820    Words/sec: 1499.4   VALID entropy: 2.7315\n",
      "Iter:  12\tAlpha: 0.006250\t   TRAIN entropy: 2.4716    Words/sec: 1453.6   VALID entropy: 2.7127\n",
      "Iter:  13\tAlpha: 0.003125\t   TRAIN entropy: 2.4662    Words/sec: 1500.2   VALID entropy: 2.6997\n",
      "Iter:  14\tAlpha: 0.001563\t   TRAIN entropy: 2.4626    Words/sec: 1494.7   VALID entropy: 2.6917\n",
      "Iter:  15\tAlpha: 0.000781\t   TRAIN entropy: 2.4600    Words/sec: 1496.7   VALID entropy: 2.6882\n"
     ]
    }
   ],
   "source": [
    "!mkdir -p models/english_char/rnnlm \\\n",
    " && cd models/english_char/rnnlm \\\n",
    " && /home/snlp-project-21/rnnlm/rnnlm \\\n",
    " -train ../../../segmented_english_charachter_train.txt \\\n",
    " -valid ../../../segmented_english_charachter_test.txt \\\n",
    " -rnnlm model \\\n",
    "   -hidden 40 \\\n",
    "   -rand-seed 1 \\\n",
    "   -debug 2 \\\n",
    "   -bptt 3 \\\n",
    "   -class 9999"
   ]
  },
  {
   "cell_type": "code",
   "execution_count": 15,
   "metadata": {},
   "outputs": [
    {
     "name": "stdout",
     "output_type": "stream",
     "text": [
      "debug mode: 2\n",
      "train file: ../../../segmented_english_subword_sm_train.txt\n",
      "valid file: ../../../segmented_english_subword_sm_test.txt\n",
      "class size: 9999\n",
      "Hidden layer size: 40\n",
      "BPTT: 3\n",
      "Rand seed: 1\n",
      "rnnlm file: model\n",
      "Starting training using file ../../../segmented_english_subword_sm_train.txt\n",
      "Vocab size: 767\n",
      "Words in train file: 32729\n",
      "WARNING: number of classes exceeds vocabulary size!\n",
      "Iter:   0\tAlpha: 0.100000\t   TRAIN entropy: 8.6108    Words/sec: 1460.1   VALID entropy: 8.2602\n",
      "Iter:   1\tAlpha: 0.100000\t   TRAIN entropy: 7.8161    Words/sec: 1476.3   VALID entropy: 7.8052\n",
      "Iter:   2\tAlpha: 0.100000\t   TRAIN entropy: 7.3499    Words/sec: 1478.7   VALID entropy: 7.5143\n",
      "Iter:   3\tAlpha: 0.100000\t   TRAIN entropy: 6.9873    Words/sec: 1453.6   VALID entropy: 7.3040\n",
      "Iter:   4\tAlpha: 0.100000\t   TRAIN entropy: 6.6746    Words/sec: 1482.6   VALID entropy: 7.1389\n",
      "Iter:   5\tAlpha: 0.100000\t   TRAIN entropy: 6.4004    Words/sec: 1461.6   VALID entropy: 7.0010\n",
      "Iter:   6\tAlpha: 0.100000\t   TRAIN entropy: 6.1610    Words/sec: 1468.7   VALID entropy: 6.8889\n",
      "Iter:   7\tAlpha: 0.100000\t   TRAIN entropy: 5.9543    Words/sec: 1467.4   VALID entropy: 6.8067\n",
      "Iter:   8\tAlpha: 0.100000\t   TRAIN entropy: 5.7775    Words/sec: 1474.7   VALID entropy: 6.7494\n",
      "Iter:   9\tAlpha: 0.100000\t   TRAIN entropy: 5.6279    Words/sec: 1459.0   VALID entropy: 6.7194\n",
      "Iter:  10\tAlpha: 0.100000\t   TRAIN entropy: 5.5022    Words/sec: 1457.2   VALID entropy: 6.7040\n",
      "Iter:  11\tAlpha: 0.050000\t   TRAIN entropy: 5.2802    Words/sec: 1467.2   VALID entropy: 6.6002\n",
      "Iter:  12\tAlpha: 0.025000\t   TRAIN entropy: 5.1608    Words/sec: 1458.6   VALID entropy: 6.5484\n",
      "Iter:  13\tAlpha: 0.012500\t   TRAIN entropy: 5.1070    Words/sec: 1321.5   VALID entropy: 6.5224\n",
      "Iter:  14\tAlpha: 0.006250\t   TRAIN entropy: 5.0855    Words/sec: 1465.8   VALID entropy: 6.5052\n"
     ]
    }
   ],
   "source": [
    "!mkdir -p models/english_subwords_sm/rnnlm \\\n",
    " && cd models/english_subwords_sm/rnnlm \\\n",
    " && /home/snlp-project-21/rnnlm/rnnlm \\\n",
    " -train ../../../segmented_english_subword_sm_train.txt \\\n",
    " -valid ../../../segmented_english_subword_sm_test.txt \\\n",
    " -rnnlm model \\\n",
    "   -hidden 40 \\\n",
    "   -rand-seed 1 \\\n",
    "   -debug 2 \\\n",
    "   -bptt 3 \\\n",
    "   -class 9999"
   ]
  },
  {
   "cell_type": "code",
   "execution_count": 16,
   "metadata": {},
   "outputs": [
    {
     "name": "stdout",
     "output_type": "stream",
     "text": [
      "debug mode: 2\n",
      "train file: ../../../segmented_english_subword_lg_train.txt\n",
      "valid file: ../../../segmented_english_subword_lg_test.txt\n",
      "class size: 9999\n",
      "Hidden layer size: 40\n",
      "BPTT: 3\n",
      "Rand seed: 1\n",
      "rnnlm file: model\n",
      "Starting training using file ../../../segmented_english_subword_lg_train.txt\n",
      "Vocab size: 2354\n",
      "Words in train file: 25088\n",
      "WARNING: number of classes exceeds vocabulary size!\n",
      "Iter:   0\tAlpha: 0.100000\t   TRAIN entropy: 8.8671    Words/sec: 1334.7   VALID entropy: 8.7553\n",
      "Iter:   1\tAlpha: 0.100000\t   TRAIN entropy: 8.0354    Words/sec: 1367.1   VALID entropy: 8.3709\n",
      "Iter:   2\tAlpha: 0.100000\t   TRAIN entropy: 7.6103    Words/sec: 1364.8   VALID entropy: 8.1808\n",
      "Iter:   3\tAlpha: 0.100000\t   TRAIN entropy: 7.3280    Words/sec: 1362.0   VALID entropy: 8.0761\n",
      "Iter:   4\tAlpha: 0.100000\t   TRAIN entropy: 7.1016    Words/sec: 1363.5   VALID entropy: 8.0126\n",
      "Iter:   5\tAlpha: 0.100000\t   TRAIN entropy: 6.9043    Words/sec: 1368.4   VALID entropy: 7.9804\n",
      "Iter:   6\tAlpha: 0.100000\t   TRAIN entropy: 6.7279    Words/sec: 1351.3   VALID entropy: 7.9686\n",
      "Iter:   7\tAlpha: 0.050000\t   TRAIN entropy: 6.4753    Words/sec: 1336.9   VALID entropy: 7.9258\n",
      "Iter:   8\tAlpha: 0.025000\t   TRAIN entropy: 6.3434    Words/sec: 1368.5   VALID entropy: 7.8822\n",
      "Iter:   9\tAlpha: 0.012500\t   TRAIN entropy: 6.2878    Words/sec: 1349.5   VALID entropy: 7.8485\n",
      "Iter:  10\tAlpha: 0.006250\t   TRAIN entropy: 6.2714    Words/sec: 1371.5   VALID entropy: 7.8183\n",
      "Iter:  11\tAlpha: 0.003125\t   TRAIN entropy: 6.2702    Words/sec: 1366.9   VALID entropy: 7.7942\n",
      "Iter:  12\tAlpha: 0.001563\t   TRAIN entropy: 6.2699    Words/sec: 1279.5   VALID entropy: 7.7799\n"
     ]
    }
   ],
   "source": [
    "!mkdir -p models/english_subwords_lg/rnnlm \\\n",
    " && cd models/english_subwords_lg/rnnlm \\\n",
    " && /home/snlp-project-21/rnnlm/rnnlm \\\n",
    " -train ../../../segmented_english_subword_lg_train.txt \\\n",
    " -valid ../../../segmented_english_subword_lg_test.txt \\\n",
    " -rnnlm model \\\n",
    "   -hidden 40 \\\n",
    "   -rand-seed 1 \\\n",
    "   -debug 2 \\\n",
    "   -bptt 3 \\\n",
    "   -class 9999"
   ]
  },
  {
   "cell_type": "markdown",
   "metadata": {},
   "source": [
    "## **3 LM Training - Tuned**"
   ]
  },
  {
   "cell_type": "code",
   "execution_count": 18,
   "metadata": {},
   "outputs": [
    {
     "name": "stdout",
     "output_type": "stream",
     "text": [
      "debug mode: 2\n",
      "train file: ../../../segmented_english_charachter_train.txt\n",
      "valid file: ../../../segmented_english_charachter_test.txt\n",
      "class size: 9999\n",
      "Hidden layer size: 70\n",
      "BPTT: 3\n",
      "Rand seed: 1\n",
      "rnnlm file: model\n",
      "Starting training using file ../../../segmented_english_charachter_train.txt\n",
      "Vocab size: 37\n",
      "Words in train file: 97450\n",
      "WARNING: number of classes exceeds vocabulary size!\n",
      "Iter:   0\tAlpha: 0.100000\t   TRAIN entropy: 3.3487    Words/sec: 390.1   VALID entropy: 3.1796\n",
      "Iter:   1\tAlpha: 0.100000\t   TRAIN entropy: 2.7974    Words/sec: 390.3   VALID entropy: 2.9963\n",
      "Iter:   2\tAlpha: 0.100000\t   TRAIN entropy: 2.6390    Words/sec: 392.1   VALID entropy: 2.9227\n",
      "Iter:   3\tAlpha: 0.100000\t   TRAIN entropy: 2.5538    Words/sec: 389.3   VALID entropy: 2.8804\n",
      "Iter:   4\tAlpha: 0.100000\t   TRAIN entropy: 2.5029    Words/sec: 390.6   VALID entropy: 2.8493\n",
      "Iter:   5\tAlpha: 0.100000\t   TRAIN entropy: 2.4680    Words/sec: 390.9   VALID entropy: 2.8300\n",
      "Iter:   6\tAlpha: 0.100000\t   TRAIN entropy: 2.4424    Words/sec: 392.0   VALID entropy: 2.8393\n",
      "Iter:   7\tAlpha: 0.050000\t   TRAIN entropy: 2.3512    Words/sec: 391.2   VALID entropy: 2.6755\n",
      "Iter:   8\tAlpha: 0.025000\t   TRAIN entropy: 2.2883    Words/sec: 392.3   VALID entropy: 2.6050\n",
      "Iter:   9\tAlpha: 0.012500\t   TRAIN entropy: 2.2570    Words/sec: 391.5   VALID entropy: 2.5773\n",
      "Iter:  10\tAlpha: 0.006250\t   TRAIN entropy: 2.2410    Words/sec: 390.3   VALID entropy: 2.5627\n",
      "Iter:  11\tAlpha: 0.003125\t   TRAIN entropy: 2.2321    Words/sec: 392.3   VALID entropy: 2.5521\n",
      "Iter:  12\tAlpha: 0.001563\t   TRAIN entropy: 2.2266    Words/sec: 390.3   VALID entropy: 2.5452\n"
     ]
    }
   ],
   "source": [
    "!mkdir -p tuned_models/english_char/rnnlm \\\n",
    " && cd tuned_models/english_char/rnnlm \\\n",
    " && /home/snlp-project-21/rnnlm/rnnlm \\\n",
    " -train ../../../segmented_english_charachter_train.txt \\\n",
    " -valid ../../../segmented_english_charachter_test.txt \\\n",
    " -rnnlm model \\\n",
    "   -hidden 70 \\\n",
    "   -rand-seed 1 \\\n",
    "   -debug 2 \\\n",
    "   -bptt 3 \\\n",
    "   -class 9999\n"
   ]
  },
  {
   "cell_type": "code",
   "execution_count": 19,
   "metadata": {},
   "outputs": [
    {
     "name": "stdout",
     "output_type": "stream",
     "text": [
      "debug mode: 2\n",
      "train file: ../../../segmented_english_subword_sm_train.txt\n",
      "valid file: ../../../segmented_english_subword_sm_test.txt\n",
      "class size: 800\n",
      "Hidden layer size: 50\n",
      "BPTT: 3\n",
      "Rand seed: 1\n",
      "rnnlm file: model\n",
      "Starting training using file ../../../segmented_english_subword_sm_train.txt\n",
      "Vocab size: 767\n",
      "Words in train file: 32729\n",
      "WARNING: number of classes exceeds vocabulary size!\n",
      "Iter:   0\tAlpha: 0.100000\t   TRAIN entropy: 8.2099    Words/sec: 17494.2   VALID entropy: 8.0276\n",
      "Iter:   1\tAlpha: 0.100000\t   TRAIN entropy: 7.7777    Words/sec: 17867.7   VALID entropy: 7.6707\n",
      "Iter:   2\tAlpha: 0.100000\t   TRAIN entropy: 7.3741    Words/sec: 17572.8   VALID entropy: 7.4142\n",
      "Iter:   3\tAlpha: 0.100000\t   TRAIN entropy: 7.0674    Words/sec: 17354.9   VALID entropy: 7.2333\n",
      "Iter:   4\tAlpha: 0.100000\t   TRAIN entropy: 6.8094    Words/sec: 17736.5   VALID entropy: 7.0989\n",
      "Iter:   5\tAlpha: 0.100000\t   TRAIN entropy: 6.5792    Words/sec: 17666.9   VALID entropy: 6.9857\n",
      "Iter:   6\tAlpha: 0.100000\t   TRAIN entropy: 6.3668    Words/sec: 17543.1   VALID entropy: 6.8952\n",
      "Iter:   7\tAlpha: 0.100000\t   TRAIN entropy: 6.1695    Words/sec: 17681.4   VALID entropy: 6.8206\n",
      "Iter:   8\tAlpha: 0.100000\t   TRAIN entropy: 5.9857    Words/sec: 17625.7   VALID entropy: 6.7654\n",
      "Iter:   9\tAlpha: 0.100000\t   TRAIN entropy: 5.8170    Words/sec: 17554.1   VALID entropy: 6.7285\n",
      "Iter:  10\tAlpha: 0.100000\t   TRAIN entropy: 5.6636    Words/sec: 17639.6   VALID entropy: 6.7053\n",
      "Iter:  11\tAlpha: 0.100000\t   TRAIN entropy: 5.5261    Words/sec: 17690.6   VALID entropy: 6.6992\n",
      "Iter:  12\tAlpha: 0.050000\t   TRAIN entropy: 5.2995    Words/sec: 17472.5   VALID entropy: 6.6173\n",
      "Iter:  13\tAlpha: 0.025000\t   TRAIN entropy: 5.1701    Words/sec: 17658.6   VALID entropy: 6.5488\n",
      "Iter:  14\tAlpha: 0.012500\t   TRAIN entropy: 5.1057    Words/sec: 17506.4   VALID entropy: 6.5054\n",
      "Iter:  15\tAlpha: 0.006250\t   TRAIN entropy: 5.0767    Words/sec: 17795.6   VALID entropy: 6.4829\n",
      "Iter:  16\tAlpha: 0.003125\t   TRAIN entropy: 5.0657    Words/sec: 17571.7   VALID entropy: 6.4707\n"
     ]
    }
   ],
   "source": [
    "!mkdir -p tuned_models/english_subwords_sm/rnnlm \\\n",
    " && cd tuned_models/english_subwords_sm/rnnlm \\\n",
    " && /home/snlp-project-21/rnnlm/rnnlm \\\n",
    " -train ../../../segmented_english_subword_sm_train.txt \\\n",
    " -valid ../../../segmented_english_subword_sm_test.txt \\\n",
    " -rnnlm model \\\n",
    "   -hidden 50 \\\n",
    "   -rand-seed 1 \\\n",
    "   -debug 2 \\\n",
    "   -bptt 3 \\\n",
    "   -class 800"
   ]
  },
  {
   "cell_type": "code",
   "execution_count": 20,
   "metadata": {},
   "outputs": [
    {
     "name": "stdout",
     "output_type": "stream",
     "text": [
      "debug mode: 2\n",
      "train file: ../../../segmented_english_subword_lg_train.txt\n",
      "valid file: ../../../segmented_english_subword_lg_test.txt\n",
      "class size: 3000\n",
      "Hidden layer size: 50\n",
      "BPTT: 3\n",
      "Rand seed: 1\n",
      "rnnlm file: model\n",
      "Starting training using file ../../../segmented_english_subword_lg_train.txt\n",
      "Vocab size: 2354\n",
      "Words in train file: 25088\n",
      "WARNING: number of classes exceeds vocabulary size!\n",
      "Iter:   0\tAlpha: 0.100000\t   TRAIN entropy: 8.5104    Words/sec: 4783.2   VALID entropy: 8.4909\n",
      "Iter:   1\tAlpha: 0.100000\t   TRAIN entropy: 7.9037    Words/sec: 4734.3   VALID entropy: 8.1676\n",
      "Iter:   2\tAlpha: 0.100000\t   TRAIN entropy: 7.5036    Words/sec: 4800.0   VALID entropy: 7.9989\n",
      "Iter:   3\tAlpha: 0.100000\t   TRAIN entropy: 7.2345    Words/sec: 4799.0   VALID entropy: 7.9122\n",
      "Iter:   4\tAlpha: 0.100000\t   TRAIN entropy: 7.0227    Words/sec: 4699.6   VALID entropy: 7.8653\n",
      "Iter:   5\tAlpha: 0.100000\t   TRAIN entropy: 6.8418    Words/sec: 4797.3   VALID entropy: 7.8456\n",
      "Iter:   6\tAlpha: 0.050000\t   TRAIN entropy: 6.6193    Words/sec: 4825.6   VALID entropy: 7.8094\n",
      "Iter:   7\tAlpha: 0.025000\t   TRAIN entropy: 6.5023    Words/sec: 4788.1   VALID entropy: 7.7854\n",
      "Iter:   8\tAlpha: 0.012500\t   TRAIN entropy: 6.4489    Words/sec: 4742.8   VALID entropy: 7.7648\n"
     ]
    }
   ],
   "source": [
    "!mkdir -p tuned_models/english_subwords_lg/rnnlm \\\n",
    " && cd tuned_models/english_subwords_lg/rnnlm \\\n",
    " && /home/snlp-project-21/rnnlm/rnnlm \\\n",
    " -train ../../../segmented_english_subword_lg_train.txt \\\n",
    " -valid ../../../segmented_english_subword_lg_test.txt \\\n",
    " -rnnlm model \\\n",
    "   -hidden 50 \\\n",
    "   -rand-seed 1 \\\n",
    "   -debug 2 \\\n",
    "   -bptt 3 \\\n",
    "   -class 3000"
   ]
  },
  {
   "cell_type": "markdown",
   "metadata": {
    "id": "2ypmqiARGsaB"
   },
   "source": [
    "## **4 Text Generation (16 points)**\n",
    "\n"
   ]
  },
  {
   "cell_type": "markdown",
   "metadata": {},
   "source": [
    "**Note: The coresponding generated file is saved under models/{corresponding_model}/rnnlm/model **\n",
    "\n",
    "\n",
    "\n",
    "**Note: The coresponding decoded file is saved under models/{corresponding_model}/rnnlm/model **"
   ]
  },
  {
   "cell_type": "code",
   "execution_count": 22,
   "metadata": {},
   "outputs": [
    {
     "name": "stdout",
     "output_type": "stream",
     "text": [
      "generating 10\n",
      "generating 100\n",
      "generating 1000\n",
      "generating 10000\n",
      "generating 100000\n",
      "generating 1000000\n",
      "generating 10000000\n"
     ]
    }
   ],
   "source": [
    "for i in range(1,8):\n",
    "    !echo 'generating' $((10**$i))\n",
    "    !/home/snlp-project-21/rnnlm/rnnlm \\\n",
    "    -rnnlm models/english_char/rnnlm/model -gen  $[10**$i]  -debug 0 \\\n",
    "    > models/english_char/rnnlm/$[10**$i].txt\n",
    "    !spm_decode --model=model_english_characters.model --input_format=piece < models/english_char/rnnlm/$[10**$i].txt > models/english_char/rnnlm/decoded$[10**$i].txt"
   ]
  },
  {
   "cell_type": "code",
   "execution_count": 23,
   "metadata": {},
   "outputs": [
    {
     "name": "stdout",
     "output_type": "stream",
     "text": [
      "generating 10\n",
      "generating 100\n",
      "generating 1000\n",
      "generating 10000\n",
      "generating 100000\n",
      "generating 1000000\n",
      "generating 10000000\n"
     ]
    }
   ],
   "source": [
    "for i in range(1,8):\n",
    "    !echo 'generating' $((10**$i))\n",
    "    !/home/snlp-project-21/rnnlm/rnnlm \\\n",
    "    -rnnlm models/english_subwords_sm/rnnlm/model -gen  $[10**$i]  -debug 0 \\\n",
    "    > models/english_subwords_sm/rnnlm/$[10**$i].txt\n",
    "    !spm_decode --model=model_english_subwords_sm.model --input_format=piece < models/english_subwords_sm/rnnlm/$[10**$i].txt > models/english_subwords_sm/rnnlm/decoded$[10**$i].txt"
   ]
  },
  {
   "cell_type": "code",
   "execution_count": 24,
   "metadata": {},
   "outputs": [
    {
     "name": "stdout",
     "output_type": "stream",
     "text": [
      "generating 10\n",
      "generating 100\n",
      "generating 1000\n",
      "generating 10000\n",
      "generating 100000\n",
      "generating 1000000\n",
      "generating 10000000\n"
     ]
    }
   ],
   "source": [
    "for i in range(1,8):\n",
    "    !echo 'generating' $((10**$i))\n",
    "    !/home/snlp-project-21/rnnlm/rnnlm \\\n",
    "    -rnnlm models/english_subwords_lg/rnnlm/model -gen  $[10**$i]  -debug 0 \\\n",
    "    > models/english_subwords_lg/rnnlm/$[10**$i].txt\n",
    "    !spm_decode --model=model_english_subwords_lg.model --input_format=piece < models/english_subwords_lg/rnnlm/$[10**$i].txt > models/english_subwords_lg/rnnlm/decoded$[10**$i].txt"
   ]
  },
  {
   "cell_type": "markdown",
   "metadata": {},
   "source": [
    "## **Text Generation - Tuned**"
   ]
  },
  {
   "cell_type": "markdown",
   "metadata": {},
   "source": [
    "**Note: The coresponding text file is saved under tuned_models/{corresponding_model}/rnnlm/model **\n",
    "    \n",
    "**Note: The coresponding decoded file is saved under tuned_models/{corresponding_model}/rnnlm/model **    "
   ]
  },
  {
   "cell_type": "code",
   "execution_count": 26,
   "metadata": {},
   "outputs": [
    {
     "name": "stdout",
     "output_type": "stream",
     "text": [
      "generating 10\n",
      "generating 100\n",
      "generating 1000\n",
      "generating 10000\n",
      "generating 100000\n",
      "generating 1000000\n",
      "generating 10000000\n"
     ]
    }
   ],
   "source": [
    "for i in range(1,8):\n",
    "    !echo 'generating' $((10**$i))\n",
    "    !/home/snlp-project-21/rnnlm/rnnlm \\\n",
    "    -rnnlm tuned_models/english_char/rnnlm/model -gen  $[10**$i]  -debug 0 \\\n",
    "    > tuned_models/english_char/rnnlm/$[10**$i].txt\n",
    "    !spm_decode --model=model_english_characters.model --input_format=piece < tuned_models/english_char/rnnlm/$[10**$i].txt > tuned_models/english_char/rnnlm/decoded$[10**$i].txt"
   ]
  },
  {
   "cell_type": "code",
   "execution_count": 27,
   "metadata": {},
   "outputs": [
    {
     "name": "stdout",
     "output_type": "stream",
     "text": [
      "generating 10\n",
      "generating 100\n",
      "generating 1000\n",
      "generating 10000\n",
      "generating 100000\n",
      "generating 1000000\n",
      "generating 10000000\n"
     ]
    }
   ],
   "source": [
    "for i in range(1,8):\n",
    "    !echo 'generating' $((10**$i))\n",
    "    !/home/snlp-project-21/rnnlm/rnnlm \\\n",
    "    -rnnlm tuned_models/english_subwords_sm/rnnlm/model -gen  $[10**$i]  -debug 0 \\\n",
    "    > tuned_models/english_subwords_sm/rnnlm/$[10**$i].txt\n",
    "    !spm_decode --model=model_english_subwords_sm.model --input_format=piece < tuned_models/english_subwords_sm/rnnlm/$[10**$i].txt > tuned_models/english_subwords_sm/rnnlm/decoded$[10**$i].txt"
   ]
  },
  {
   "cell_type": "code",
   "execution_count": 28,
   "metadata": {},
   "outputs": [
    {
     "name": "stdout",
     "output_type": "stream",
     "text": [
      "generating 10\n",
      "generating 100\n",
      "generating 1000\n",
      "generating 10000\n",
      "generating 100000\n",
      "generating 1000000\n",
      "generating 10000000\n"
     ]
    }
   ],
   "source": [
    "for i in range(1,8):\n",
    "    !echo 'generating' $((10**$i))\n",
    "    !/home/snlp-project-21/rnnlm/rnnlm \\\n",
    "    -rnnlm tuned_models/english_subwords_lg/rnnlm/model -gen  $[10**$i]  -debug 0 \\\n",
    "    > tuned_models/english_subwords_lg/rnnlm/$[10**$i].txt\n",
    "    !spm_decode --model=model_english_subwords_lg.model --input_format=piece < tuned_models/english_subwords_lg/rnnlm/$[10**$i].txt > tuned_models/english_subwords_lg/rnnlm/decoded$[10**$i].txt"
   ]
  },
  {
   "cell_type": "markdown",
   "metadata": {
    "id": "IYk9s9pZG3YG"
   },
   "source": [
    "## **5 OOV comparison (16 points)**\n",
    "\n"
   ]
  },
  {
   "cell_type": "code",
   "execution_count": 7,
   "metadata": {},
   "outputs": [
    {
     "name": "stdout",
     "output_type": "stream",
     "text": [
      "Current working directory: /home/snlp-project-21/SNLP_2021_Final_Project_r1\n"
     ]
    }
   ],
   "source": [
    "import os\n",
    "cwd = os.getcwd()\n",
    "print(\"Current working directory: {0}\".format(cwd)) "
   ]
  },
  {
   "cell_type": "code",
   "execution_count": 1,
   "metadata": {},
   "outputs": [
    {
     "name": "stdout",
     "output_type": "stream",
     "text": [
      "0.07172818791946309\n"
     ]
    }
   ],
   "source": [
    "#5.1\n",
    "\n",
    "with open('train_file_english.txt') as f:\n",
    "    flat_list_train_english=[word for line in f for word in line.split()]\n",
    "    \n",
    "set_train_english=set(flat_list_train_english)\n",
    "\n",
    "\n",
    "\n",
    "with open('test_file_english.txt') as f:\n",
    "    flat_list_test_english=[word for line in f for word in line.split()]\n",
    "\n",
    "set_test_english=set(flat_list_test_english)\n",
    "\n",
    "ovv_baseline_model=len(set_test_english-set_train_english)/len(flat_list_test_english)\n",
    "\n",
    "print(ovv_baseline_model)\n",
    "\n",
    "\n"
   ]
  },
  {
   "cell_type": "code",
   "execution_count": 9,
   "metadata": {},
   "outputs": [],
   "source": [
    "!mkdir -p decoded_text/english_char\n",
    "!mkdir -p decoded_text/english_subwords_sm\n",
    "!mkdir -p decoded_text/english_subwords_lg"
   ]
  },
  {
   "cell_type": "code",
   "execution_count": 12,
   "metadata": {},
   "outputs": [],
   "source": [
    "!mkdir -p tuned_decoded_text/english_char\n",
    "!mkdir -p tuned_decoded_text/english_subwords_sm\n",
    "!mkdir -p tuned_decoded_text/english_subwords_lg"
   ]
  },
  {
   "cell_type": "code",
   "execution_count": 15,
   "metadata": {},
   "outputs": [],
   "source": [
    "#for each decoded file combine with original train\n",
    "for i in range(1,8):\n",
    "    filenames = ['train_file_english.txt', 'models/english_char/rnnlm/decoded{}.txt'.format(pow(10, i))]\n",
    "    with open('decoded_text/english_char/english_char_concatenated{}'.format(i), 'w') as outfile:\n",
    "        for fname in filenames:\n",
    "            with open(fname) as infile:\n",
    "                for line in infile:\n",
    "                    outfile.write(line)\n",
    "\n",
    "                    \n",
    "                    \n",
    "for i in range(1,8):\n",
    "    filenames = ['train_file_english.txt', 'models/english_subwords_sm/rnnlm/decoded{}.txt'.format(pow(10, i))]\n",
    "    with open('decoded_text/english_subwords_sm/english_subwords_sm_concatenated{}'.format(i), 'w') as outfile:\n",
    "        for fname in filenames:\n",
    "            with open(fname) as infile:\n",
    "                for line in infile:\n",
    "                    outfile.write(line)\n",
    "                    \n",
    "                    \n",
    "                    \n",
    "for i in range(1,8):\n",
    "    filenames = ['train_file_english.txt', 'models/english_subwords_lg/rnnlm/decoded{}.txt'.format(pow(10, i))]\n",
    "    with open('decoded_text/english_subwords_lg/english_subwords_lg_concatenated{}'.format(i), 'w') as outfile:\n",
    "        for fname in filenames:\n",
    "            with open(fname) as infile:\n",
    "                for line in infile:\n",
    "                    outfile.write(line)"
   ]
  },
  {
   "cell_type": "code",
   "execution_count": 16,
   "metadata": {},
   "outputs": [],
   "source": [
    "#for each decoded file combine with original train\n",
    "for i in range(1,8):\n",
    "    filenames = ['train_file_english.txt', 'tuned_models/english_char/rnnlm/decoded{}.txt'.format(pow(10, i))]\n",
    "    with open('tuned_decoded_text/english_char/english_char_concatenated_tuned{}'.format(i), 'w') as outfile:\n",
    "        for fname in filenames:\n",
    "            with open(fname) as infile:\n",
    "                for line in infile:\n",
    "                    outfile.write(line)\n",
    "\n",
    "                    \n",
    "                    \n",
    "for i in range(1,8):\n",
    "    filenames = ['train_file_english.txt', 'tuned_models/english_subwords_sm/rnnlm/decoded{}.txt'.format(pow(10, i))]\n",
    "    with open('tuned_decoded_text/english_subwords_sm/english_subwords_sm_concatenated_tuned{}'.format(i), 'w') as outfile:\n",
    "        for fname in filenames:\n",
    "            with open(fname) as infile:\n",
    "                for line in infile:\n",
    "                    outfile.write(line)\n",
    "                    \n",
    "                    \n",
    "                    \n",
    "for i in range(1,8):\n",
    "    filenames = ['train_file_english.txt', 'tuned_models/english_subwords_lg/rnnlm/decoded{}.txt'.format(pow(10, i))]\n",
    "    with open('tuned_decoded_text/english_subwords_lg/english_subwords_lg_concatenated_tuned{}'.format(i), 'w') as outfile:\n",
    "        for fname in filenames:\n",
    "            with open(fname) as infile:\n",
    "                for line in infile:\n",
    "                    outfile.write(line)"
   ]
  },
  {
   "cell_type": "code",
   "execution_count": 17,
   "metadata": {},
   "outputs": [
    {
     "name": "stdout",
     "output_type": "stream",
     "text": [
      "{'10': 0.07172818791946309, '100': 0.07172818791946309, '1000': 0.07172818791946309, '10000': 0.07088926174496644, '100000': 0.0662751677852349, '1000000': 0.05893456375838926, '10000000': 0.04865771812080537}\n",
      "{'10': 0.07172818791946309, '100': 0.07172818791946309, '1000': 0.07172818791946309, '10000': 0.07026006711409397, '100000': 0.06459731543624161, '1000000': 0.054110738255033555, '10000000': 0.040687919463087245}\n",
      "{'10': 0.07172818791946309, '100': 0.07172818791946309, '1000': 0.07172818791946309, '10000': 0.06942114093959731, '100000': 0.06438758389261745, '1000000': 0.05809563758389262, '10000000': 0.05054530201342282}\n"
     ]
    }
   ],
   "source": [
    "english_char={}\n",
    "\n",
    "for i in range(1,8):\n",
    "    with open('decoded_text/english_char/english_char_concatenated{}'.format(i)) as f:\n",
    "        temp1=[word for line in f for word in line.split()]\n",
    "        set_temp1=set(temp1)\n",
    "    \n",
    "    with open('test_file_english.txt') as f:\n",
    "        temp2=[word for line in f for word in line.split()]\n",
    "        set_temp2=set(temp2)\n",
    "    ovv_value=len(set_temp2-set_temp1)/len(temp2)\n",
    "\n",
    "    english_char['{}'.format(pow(10, i))]=ovv_value\n",
    "    \n",
    "\n",
    "print(english_char)\n",
    "\n",
    "\n",
    "english_subwords_sm={}\n",
    "\n",
    "for i in range(1,8):\n",
    "    with open('decoded_text/english_subwords_sm/english_subwords_sm_concatenated{}'.format(i)) as f:\n",
    "        temp1=[word for line in f for word in line.split()]\n",
    "        set_temp1=set(temp1)\n",
    "    \n",
    "    with open('test_file_english.txt') as f:\n",
    "        temp2=[word for line in f for word in line.split()]\n",
    "        set_temp2=set(temp2)\n",
    "    ovv_value=len(set_temp2-set_temp1)/len(temp2)\n",
    "\n",
    "    english_subwords_sm['{}'.format(pow(10, i))]=ovv_value\n",
    "    \n",
    "\n",
    "print(english_subwords_sm)\n",
    "\n",
    "english_subwords_lg={}\n",
    "\n",
    "for i in range(1,8):\n",
    "    with open('decoded_text/english_subwords_lg/english_subwords_lg_concatenated{}'.format(i)) as f:\n",
    "        temp1=[word for line in f for word in line.split()]\n",
    "        set_temp1=set(temp1)\n",
    "    \n",
    "    with open('test_file_english.txt') as f:\n",
    "        temp2=[word for line in f for word in line.split()]\n",
    "        set_temp2=set(temp2)\n",
    "    ovv_value=len(set_temp2-set_temp1)/len(temp2)\n",
    "\n",
    "    english_subwords_lg['{}'.format(pow(10, i))]=ovv_value\n",
    "    \n",
    "\n",
    "print(english_subwords_lg)\n"
   ]
  },
  {
   "cell_type": "code",
   "execution_count": 18,
   "metadata": {
    "scrolled": false
   },
   "outputs": [
    {
     "name": "stdout",
     "output_type": "stream",
     "text": [
      "{'10': 0.07172818791946309, '100': 0.07172818791946309, '1000': 0.07172818791946309, '10000': 0.07109899328859061, '100000': 0.06837248322147652, '1000000': 0.05893456375838926, '10000000': 0.045931208053691275}\n",
      "{'10': 0.07172818791946309, '100': 0.07172818791946309, '1000': 0.07172818791946309, '10000': 0.0700503355704698, '100000': 0.06543624161073826, '1000000': 0.053691275167785234, '10000000': 0.041526845637583895}\n",
      "{'10': 0.07172818791946309, '100': 0.07172818791946309, '1000': 0.07172818791946309, '10000': 0.06963087248322147, '100000': 0.06459731543624161, '1000000': 0.05725671140939597, '10000000': 0.050335570469798654}\n"
     ]
    }
   ],
   "source": [
    "english_char_tuned={}\n",
    "\n",
    "for i in range(1,8):\n",
    "    with open('tuned_decoded_text/english_char/english_char_concatenated_tuned{}'.format(i)) as f:\n",
    "        temp1=[word for line in f for word in line.split()]\n",
    "        set_temp1=set(temp1)\n",
    "        \n",
    "    \n",
    "    with open('test_file_english.txt') as f:\n",
    "        temp2=[word for line in f for word in line.split()]\n",
    "        set_temp2=set(temp2)\n",
    "    ovv_value=len(set_temp2-set_temp1)/len(temp2)\n",
    "\n",
    "    english_char_tuned['{}'.format(pow(10, i))]=ovv_value\n",
    "    \n",
    "\n",
    "print(english_char_tuned)\n",
    "\n",
    "\n",
    "english_subwords_sm_tuned={}\n",
    "\n",
    "for i in range(1,8):\n",
    "    with open('tuned_decoded_text/english_subwords_sm/english_subwords_sm_concatenated_tuned{}'.format(i)) as f:\n",
    "        temp1=[word for line in f for word in line.split()]\n",
    "        set_temp1=set(temp1)\n",
    "    \n",
    "    with open('test_file_english.txt') as f:\n",
    "        temp2=[word for line in f for word in line.split()]\n",
    "        set_temp2=set(temp2)\n",
    "    ovv_value=len(set_temp2-set_temp1)/len(temp2)\n",
    "\n",
    "    english_subwords_sm_tuned['{}'.format(pow(10, i))]=ovv_value\n",
    "    \n",
    "\n",
    "print(english_subwords_sm_tuned)\n",
    "\n",
    "english_subwords_lg_tuned={}\n",
    "\n",
    "for i in range(1,8):\n",
    "    with open('tuned_decoded_text/english_subwords_lg/english_subwords_lg_concatenated_tuned{}'.format(i)) as f:\n",
    "        temp1=[word for line in f for word in line.split()]\n",
    "        set_temp1=set(temp1)\n",
    "    \n",
    "    with open('test_file_english.txt') as f:\n",
    "        temp2=[word for line in f for word in line.split()]\n",
    "        set_temp2=set(temp2)\n",
    "    ovv_value=len(set_temp2-set_temp1)/len(temp2)\n",
    "\n",
    "    english_subwords_lg_tuned['{}'.format(pow(10, i))]=ovv_value\n",
    "    \n",
    "\n",
    "print(english_subwords_lg_tuned)\n",
    "\n",
    "\n",
    "\n"
   ]
  },
  {
   "cell_type": "code",
   "execution_count": 30,
   "metadata": {},
   "outputs": [
    {
     "data": {
      "image/png": "[encoded data removed]",
      "text/plain": [
       "<Figure size 640x480 with 1 Axes>"
      ]
     },
     "metadata": {},
     "output_type": "display_data"
    }
   ],
   "source": [
    "import matplotlib.pyplot as plt\n",
    "\n",
    "x_axis_english_char=[10,100,1000,10000,100000,1000000,10000000]\n",
    "y_axis_english_char=[]\n",
    "\n",
    "x_axis_english_tuned=[10,100,1000,10000,100000,1000000,10000000]\n",
    "y_axis_english_char_tuned=[]\n",
    "\n",
    "\n",
    "for key in english_char:\n",
    "    y_axis_english_char.append(english_char[key])\n",
    "    \n",
    "for key in english_char_tuned:\n",
    "    y_axis_english_char_tuned.append(english_char_tuned[key])\n",
    "\n",
    "plt.plot(x_axis_english_char, y_axis_english_char,label=\"baseline\")\n",
    "\n",
    "plt.plot(x_axis_english_tuned,y_axis_english_char_tuned,label=\"tuned\")\n",
    "\n",
    "plt.title('english char tuned vs untuned')\n",
    "\n",
    "\n",
    "plt.xlabel(\"vocab size\")\n",
    "plt.ylabel(\"ovv rate\")\n",
    "plt.legend(loc=\"upper right\")\n",
    "\n",
    "plt.show()\n",
    "\n",
    "\n"
   ]
  },
  {
   "cell_type": "code",
   "execution_count": 31,
   "metadata": {},
   "outputs": [
    {
     "data": {
      "image/png": "[encoded data removed]",
      "text/plain": [
       "<Figure size 640x480 with 1 Axes>"
      ]
     },
     "metadata": {},
     "output_type": "display_data"
    }
   ],
   "source": [
    "import matplotlib.pyplot as plt\n",
    "\n",
    "x_axis_english_subwords_sm=[10,100,1000,10000,100000,1000000,10000000]\n",
    "y_axis_english_subwords_sm=[]\n",
    "\n",
    "x_axis_english_tuned_subwords_sm=[10,100,1000,10000,100000,1000000,10000000]\n",
    "y_axis_english_tuned_subwords_sm=[]\n",
    "\n",
    "\n",
    "for key in english_subwords_sm:\n",
    "    y_axis_english_subwords_sm.append(english_subwords_sm[key])\n",
    "    \n",
    "for key in english_subwords_sm_tuned:\n",
    "    y_axis_english_tuned_subwords_sm.append(english_subwords_sm_tuned[key])\n",
    "\n",
    "plt.plot(x_axis_english_subwords_sm, y_axis_english_subwords_sm,label=\"baseline\")\n",
    "\n",
    "plt.plot(x_axis_english_tuned_subwords_sm,y_axis_english_tuned_subwords_sm,label=\"tuned\")\n",
    "\n",
    "plt.title('english subwords sm tuned vs untuned')\n",
    "\n",
    "plt.xlabel(\"vocab size\")\n",
    "plt.ylabel(\"ovv rate\")\n",
    "plt.legend(loc=\"upper right\")\n",
    "plt.show()\n"
   ]
  },
  {
   "cell_type": "code",
   "execution_count": 27,
   "metadata": {},
   "outputs": [
    {
     "data": {
      "image/png": "[encoded data removed]",
      "text/plain": [
       "<Figure size 640x480 with 1 Axes>"
      ]
     },
     "metadata": {},
     "output_type": "display_data"
    }
   ],
   "source": [
    "import matplotlib.pyplot as plt\n",
    "\n",
    "x_axis_english_subwords_lg=[10,100,1000,10000,100000,1000000,10000000]\n",
    "y_axis_english_subwords_lg=[]\n",
    "\n",
    "x_axis_english_tuned_subwords_lg=[10,100,1000,10000,100000,1000000,10000000]\n",
    "y_axis_english_tuned_subwords_lg=[]\n",
    "\n",
    "\n",
    "for key in english_subwords_lg:\n",
    "    y_axis_english_subwords_lg.append(english_subwords_lg[key])\n",
    "    \n",
    "for key in english_subwords_lg_tuned:\n",
    "    y_axis_english_tuned_subwords_lg.append(english_subwords_lg_tuned[key])\n",
    "\n",
    "plt.plot(x_axis_english_subwords_lg, y_axis_english_subwords_lg,label=\"baseline\")\n",
    "\n",
    "plt.plot(x_axis_english_tuned_subwords_lg,y_axis_english_tuned_subwords_lg,label=\"tuned\")\n",
    "\n",
    "plt.title('english subwordsl lg tuned vs untuned')\n",
    "plt.xlabel(\"vocab size\")\n",
    "plt.ylabel(\"ovv rate\")\n",
    "plt.legend(loc=\"upper right\")\n",
    "plt.show()\n",
    "\n"
   ]
  },
  {
   "cell_type": "markdown",
   "metadata": {
    "id": "R12ZPsL6oP7j"
   },
   "source": [
    "## **6. Analysis** (20 points)\n",
    "\n"
   ]
  },
  {
   "cell_type": "markdown",
   "metadata": {},
   "source": [
    "#Previous Task:\n",
    "\n",
    "**2.3 answer**\n",
    "\n",
    "In terms of word segmentation we observe that for smaller subword units, words are split into finer granuality  which resembles to character level.We also find that more words are segmented for small units as compared to larger subwords and for a given same word the segemented word for small is different from large sub word (example: consider word \"**edition**\" which results in output file as \"**▁ed ition**\" for large unit and \"**▁ ed it ion**\" for smaller unit subwords).Similar observation we notice in the *Bengali* corpus as well."
   ]
  },
  {
   "cell_type": "markdown",
   "metadata": {},
   "source": [
    "**4.3**: **Answer**\n",
    "\n",
    "**Observation:**\n",
    "The observation that we notice in text generation is that there is a difference in quality of generated data for both English and Bengali language For English language,random characters are generated so we find more in degradation at character level but  for subwords,generated words are some what close to the original corpora.We also find the quality of longer subword  units much better than small units.For Bengali, since we couldnot understand language, it could resemble to above justification.\n"
   ]
  },
  {
   "cell_type": "markdown",
   "metadata": {},
   "source": [
    "**5.3**: **Answer**\n",
    "\n",
    "We observe that as the vocabulary size increases, the OOV rate decreases.For **English** language, the graph is sloping more from 10^1 onwards in all the 3 case.Initially the OOV rate is high for all the model and key aspects that we observe in our case is that for small subword units the OOV rate is almost the same for tunned and base case models, whereas for character level there is slight gap between tunned and un-tunned model with base case model OOV rate been higher and also, for larger subword units the OOV rate of base case model is high for initial vocabulary set (size ranging in $10^{2}$).Practicaly, we would prefer the tuned model with least OOV rate and in our case it will **10000000.txt** \n",
    "\n",
    "**Bengali:**\n",
    "OOV rate is directly proportional to vocabulary size.It is the same observation for Bengali language that we find and here also ,we would prefer the tuned model with least OOV rate.In our case it will **10000000.txt** \n"
   ]
  },
  {
   "cell_type": "markdown",
   "metadata": {},
   "source": [
    "**REPORT :**\n",
    "\n",
    "Out Of Vocabulary(OOV) are unknown words that appear only in test data and lead to zero maximum likelihood estimate which can be problematic, therefore these are a critical issue in language models specially for morphologically rich languages and need to be handled in a proper way. To overcome this we will try to solve the problem of OOV words by using subword representation.Tokens are the building blocks of Natural Language.The different approach for tokenisation followed include character level tokenisation and subword level, consisting both smaller sub word and larger sub word units.The byte pair enconding (BPE) algorithm is applied as mentioned in project.\n",
    "\n",
    "**Preprocessing:**\n",
    "\n",
    "Firstly, we had preprocessing task for both English and Bengali corpus.For English lauguage nltk package was utilised for lowering the text and then we removed all the puncunction except for full stop so as to mark end of sentence and then we utilised sentence tokenize for splitting into sentences as the sentencepiece package works at sentence level so we had followed this procedure.There were no stopwords explicitly mentioned so we ignored them.Under Bengali corpus, we had nothing to lower the case of words and for preprocessing,where ever the symbols like question mark, semi colon, exclamation and pipe symbol occured, interpreted them as terminators and removed it by replacing single full stop.Also, for Bengali we character split as we didnot utilise sentence tokenizer for this subtask, finally these preprocessed corpus sentences served as our input data to sentencepiece.The preprocessed corpus was split into 80 percent as trained set and 20 percent test set for both the languages.\n",
    "\n",
    "**Subword Segmentation:**\n",
    "\n",
    "After data preparation, we perform subword segmentation by using SentencePiece implementation of byte pair encoding(BPE) algorithm.Here we create data for a language model based on different subword granularity.The character level vocabulary size for English lanugage that worked for us was 39 for which we got better perplexity value for our baseline model architecture, the value 39 represents all the english language alphabet and even numerics from 0 to 9, resulting 36 characters and we approximated this value to 39 (increment of 4) as we had obtained  slightly better perplexity value($2^{2.6882}$ bits) for character level vocab size of 39 instead of 36. For subwords with small vocabulary closer to character level, size of 800 fetched us better perplexity value with exact value been **PP**=$2^{6.5052}$ bits for baseline model and when we selected vocab size as 3000 for subwords large unit, obtained best possible perplexity value equal to $2^{7.7799}$ bits.\n",
    "\n",
    "For Bengali language, the character vocabulary that worked in our case was 85 which includes totally 50 alphabets including 11 vowels and 39 consonants as defined by the language and we tried to accomodation other character which might occur in corpus, so increased a little bit, with this we obtained better perplexity value ranging in **PP**=$2^{3.8269}$ bits.For Bengali subwords with vocabulary closer to character level, size of 800 gave better perplexity value ($2^{5.4081}$ **bits**) and for large subword units, 1600 as vocabulary size output better perplexity value equal to $2^{5.9035}$ **bits**.In terms of word segmentation we observe that for smaller subword units, words are split into finer granuality  which resembles to character level.We also find that more words are segmented for small units as compared to larger subwords and for a given same word the segemented word for small is different from large sub word (example: consider word \"**edition**\" which results in output file as \"**▁ed ition**\" for large unit and \"**▁ ed it ion**\" for smaller unit subwords).Similar observation we notice in the *Bengali* corpus as well.\n",
    "\n",
    "**LM Training:**\n",
    "\n",
    "Here the RNN model is trained on the subword units that was created using SentencePiece.As with neural models, the performance and computation times depend on the number of hidden layers, backpropagation parameter and computational complexity(classes), the optimal values for English data set which worked in our case are 70 hidden nodes and backpropagation parameter as 3 for character level implementation, hidden node=50 and bptt=3 worked well for both small subwords and large subword unit level with the computational complexity class parameter set to respective vocabulary size defined which in case was 800 for small subwords and a value of 3000 for large subwords unit.The perplexity values obtained for tuned model of English language at character level was $2^{2.5452}$ **bits**, small subword units tunned version reported a perplexity value of $2^{6.4707}$ **bits** with a difference of 0.0345 was observed as compared to base case model and finally the perplexity value for larger subword units was found to be at $2^{7.7648}$ **bits** which is lower than base case model perplexity(<$2^{7.7799}$) of large subword units.\n",
    "\n",
    "For Bengali language data, at character level the hyper parameter tunning values for model was found to be 100 hidden nodes with back propagation parameter equal to 4 and computational class value was set to 999, which gave better perplexity value, **PP**= $2^{3.4319}$ bits, which is less than the base case model.Finally the tunned version of small subword and large subword units reported perplexity value of $2^{5.0039}$ **bits** and $2^{5.6715}$ **bits** respectively.In order to get these perplexity values, the hyper parameter and computation class values was set to, **Hidden=120, bptt=5,class=1600** for small subword unit and **Hidden=80, bptt=4,class=2000** for larger subword units.\n",
    "\n",
    "**Text Generation:**\n",
    "\n",
    "After training of language models for both English and Bengali corpus , we will use rnnlm to generate  𝑘=$10^{1}$,$10^{2}$,$10^{3}$,$10^{4}$,$10^{5}$,$10^{6}$,$10^{7}$ different output tokens or text for both tunned model and base case model respectively.The observation that we notice in text generation is that there is a difference in quality of generated data with more difference at character level and also the quality of generated long subwords segmentation units is better as compared to generated small sub words units. \n",
    " \n",
    "**OOV Comparison:**\n",
    "\n",
    "Here, we determine the OOV rate at word level for both English and Bengali language,firstly for the original corpora generated in task 1 and the OOV rate obtained for English was lower than that of Bengali language with values being 0.07(7%) for English and 0.15(15%) for Bengali respectively.Later, as mentioned we augmented the train vocabulary by utlising the generated corpora from previous task for k times (ranging 1 to 7) and then calculated the OOV rate of the augmented train set against the test set for all possible values of generated corpora size as specified and finally plotted OOV rate for differen models.We observe that as the vocabulary size increases, the OOV rate decreases.For *English* language, the graph is sloping more from 10^1 onwards in all the 3 case.Initially the OOV rate is high for all the model and key aspects that we observe in our case is that for small subword units the OOV rate is almost the same for tunned and base case models, whereas for character level there is slight gap between tunned and un-tunned model with base case model OOV rate been higher and also, for larger subword units the OOV rate of base case model is high for initial vocabulary set(size ranging in $10^{2}$).\n",
    "\n",
    "For *Bengali* language, graph slopes more from 10^1 onwards and in all the 3 cases the OOV rate for tunned bengali models is better as compared to the base models which affirmatively confirms to the idea or concept of subword segmentation which in turn genearates different possible words, thus increasing vocabulary and reducing unseen tokens (less OOV rate).The **gap between** the OOV rate for base model and tunned model is **higher** in case of character level as compared to small and large subword units because at character level, the **granularity level** of character is less as compared to subwords granularity(includes both large and small), which generates more possible segmented subword thus resulting in lesser unseen token and hence less OOV rate attribute for corpus with subwords.\n",
    "\n",
    "**Analysis:**\n",
    "\n",
    "We aimed to overcome the problem of OOV or unseen token which can highly degrade the performance of NLP model if not handled in proper way.Classic word representation cannot handle unseen word or rare word well, therefore subword segmentation technique or algorithm is one of the solution to overcome out-of-vocabulary (OOV) and the subwords are is in between word and character which handles unseen word and rare word well as we have more diverse range of tokens or word units for training, furthermore subword balances vocabulary size because in extreme case we can use only 26 tokens to present all English word but with this technique we can have larger vocabulary size to have a good result.Another aspect what we learned is that, RNN models are significantly better than n-grams, and that the improvement increases with more training data[1].LMs (language model) also suffer from data sparsity and recurrent neural network (RNN) LMs alleviate this sparsity problems[2]\n",
    "\n",
    "The results seem to differ for both English and Bengali language.We observe in our case that for character level, English language perplexity seems better as compared to Bengali language but for the small and large subword units, the Bengali language corpora model out performs (better perplexity) the English language corpora.Another key aspect that we observe is that there is gap or difference in OOV rate for base case and tunned model of Bengali language, with tuned model being better.This can be well attributed to tuning of hyperparameter and class computation complexity because initial we were not getting lower values but we tried with different permutation of hidden layers, back propagation parameter and when set class parameter value nearly equivalent to vocabulary size, the values converged and thus obtained better results.\n",
    "\n",
    "To optimise the OOV rate, we used hyperparameter such as number of hidden layers in neural network, back-propagation through time(bptt) value and most importantly the class computational complexity parameter was set equivalent to defined vocabulary size(make model simpler) rather than just using 9999 value as class value, with these set of fine-tuned values we obtained our generated text, thus influencing the OOV rate of both languages.\n",
    "\n",
    "There can other different ways to improvise and optimise the results.Pre-processing is an essential step, wherein we can concentrate more by carefully analysing and remove stopwords as these words dont convey much information, with this and along with other aspect such as not over training(overfitting model) with optimised set of hyperparamater and class computation complexity values or even utilising some other NLP algorithm, we can improve our model and output better reults! \n",
    "\n",
    "**Reference:**\n",
    "\n",
    "[1]: RNNLM - Recurrent Neural Network Language Modeling Toolkit,Tom´aˇs Mikolov , Stefan Kombrink, Anoop Deoras, Luk´aˇs Burget, Jan “Honza” Cernocky\n",
    "\n",
    "\n",
    " [2]:Subword RNNLM Approximations for Out-Of-Vocabulary Keyword SearchMittul Singh,Sami Virpioja,Peter Smit,Mikko Kurimo\n"
   ]
  }
 ],
 "metadata": {
  "colab": {
   "collapsed_sections": [
    "101NY1wwGira",
    "yRODNp4CKFiZ"
   ],
   "name": "SNLP 2021 Final Project.ipynb",
   "provenance": []
  },
  "interpreter": {
   "hash": "916dbcbb3f70747c44a77c7bcd40155683ae19c65e1c03b4aa3499c5328201f1"
  },
  "kernelspec": {
   "display_name": "Python 3",
   "language": "python",
   "name": "python3"
  },
  "language_info": {
   "codemirror_mode": {
    "name": "ipython",
    "version": 3
   },
   "file_extension": ".py",
   "mimetype": "text/x-python",
   "name": "python",
   "nbconvert_exporter": "python",
   "pygments_lexer": "ipython3",
   "version": "3.8.3"
  }
 },
 "nbformat": 4,
 "nbformat_minor": 1
}
